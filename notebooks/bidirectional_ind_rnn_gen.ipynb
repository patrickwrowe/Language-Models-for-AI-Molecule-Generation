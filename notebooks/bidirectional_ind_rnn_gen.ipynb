{
 "cells": [
  {
   "cell_type": "code",
   "execution_count": null,
   "id": "72f15cd4",
   "metadata": {},
   "outputs": [],
   "source": [
    "%load_ext autoreload\n",
    "%autoreload 2"
   ]
  },
  {
   "cell_type": "code",
   "execution_count": null,
   "id": "2106d5c3",
   "metadata": {},
   "outputs": [],
   "source": [
    "import sys\n",
    "\n",
    "sys.path.append(\"../\")\n",
    "\n",
    "import sys\n",
    "import torch\n",
    "from data import datasets\n",
    "from training import trainer\n",
    "from modules import bidirectional_ind_generator\n",
    "from analysis import similarity\n",
    "\n",
    "import plots, utilities\n",
    "from IPython.display import display, Markdown\n",
    "import pandas as pd\n",
    "import matplotlib.pyplot as plt\n",
    "import numpy as np\n"
   ]
  },
  {
   "cell_type": "code",
   "execution_count": null,
   "id": "c563b846",
   "metadata": {},
   "outputs": [],
   "source": [
    "\n",
    "# dataset = datasets.CharSMILESChEMBLIndications(\n",
    "#     batch_size=128\n",
    "# )\n",
    "\n",
    "dataset = datasets.ChEMBLIndicationsExtended(\n",
    "    batch_size=128\n",
    ")"
   ]
  },
  {
   "cell_type": "markdown",
   "id": "99d08c55",
   "metadata": {},
   "source": [
    "# Model training"
   ]
  },
  {
   "cell_type": "code",
   "execution_count": null,
   "id": "dbeaab18",
   "metadata": {},
   "outputs": [],
   "source": [
    "config = bidirectional_ind_generator.SmilesBidirectionalIndGeneratorRNNConfig(\n",
    "    vocab_size = len(dataset.vocab),\n",
    "    num_indications = dataset.num_indications,\n",
    "    num_hiddens = 256,\n",
    "    num_layers = 4,\n",
    "    learning_rate = 1e-3,\n",
    "    weight_decay = 1e-5,\n",
    "    output_dropout = 0.4,\n",
    "    rnn_dropout = 0.4,\n",
    "    state_dropout = 0.4\n",
    ")\n",
    "\n",
    "# Produces pretty bad models, but fine for debugging.\n",
    "config_mini =  bidirectional_ind_generator.SmilesBidirectionalIndGeneratorRNNConfig(\n",
    "    vocab_size = len(dataset.vocab),\n",
    "    num_indications = dataset.num_indications,\n",
    "    num_hiddens = 256,\n",
    "    num_layers = 2,\n",
    "    learning_rate = 1e-4,\n",
    "    weight_decay = 1e-3,\n",
    "    output_dropout = 0.4,\n",
    "    rnn_dropout = 0.4,\n",
    "    state_dropout = 0.4\n",
    ")\n",
    "\n",
    "model =  bidirectional_ind_generator.SmilesBidirectionalIndGeneratorRNN(config_mini)"
   ]
  },
  {
   "cell_type": "code",
   "execution_count": null,
   "id": "82599b19",
   "metadata": {},
   "outputs": [],
   "source": [
    "\n",
    "load_model_path = \"../models/Chembl-Ind-SmilesIndGeneratorRNN-CharSMILESChEMBLIndications-2025-07-31-08-01-18.pt\"\n",
    "\n",
    "train_new = True  # Set false to load a pre-trained model\n",
    "save_model = True  # If trainign a new model, do we want to save it?\n",
    "\n",
    "if train_new:\n",
    "    model_trainer = trainer.Trainer(max_epochs=64, init_random=None, clip_grads_norm=10.0)\n",
    "    model_trainer.fit(model, dataset)\n",
    "\n",
    "    if save_model:\n",
    "        utilities.save_model_weights(\"Chembl-Ind-\", model, dataset)\n",
    "else: \n",
    "    model.load_state_dict(\n",
    "        state_dict= torch.load(load_model_path, weights_only=True),\n",
    "    )\n",
    "    device=\"cuda\" if torch.cuda.is_available() else \"cpu\"\n",
    "    model.to(device)"
   ]
  },
  {
   "cell_type": "code",
   "execution_count": null,
   "id": "7ac3803f",
   "metadata": {},
   "outputs": [],
   "source": [
    "if train_new:\n",
    "    losses = utilities.extract_training_losses(model_trainer.metadata)\n",
    "    fig, ax = plots.plot_training_validation_loss(\n",
    "        training_losses = losses['avg_train_losses'], \n",
    "        validation_losses = losses['avg_val_losses']\n",
    "    )\n",
    "    ax.set_yscale('log')"
   ]
  },
  {
   "cell_type": "code",
   "execution_count": null,
   "id": "75a3c682",
   "metadata": {},
   "outputs": [],
   "source": [
    "test_batch = dataset[20]\n",
    "\n",
    "output, _ = model((test_batch[0].unsqueeze(0).to(device=\"cuda\"), test_batch[1].unsqueeze(0).to(device=\"cuda\")))\n",
    "\n",
    "print(output)\n",
    "\n",
    "print(f\"(Seq Len, vocab size): {test_batch[0].shape}, (Indications): {test_batch[1].shape}, (Seq Len): {test_batch[2].shape}\")\n",
    "print(f\"Input SMILES: {dataset.vocab.decode_tokens(test_batch[2].cpu().numpy())}\")\n",
    "\n",
    "print(f\"Prediction: {dataset.vocab.decode_tokens(output.argmax(dim=-1).squeeze().cpu().numpy())}\")\n",
    "print(f\"Prediction Encoded: {output.argmax(dim=-1).squeeze().cpu().numpy()}\")"
   ]
  },
  {
   "cell_type": "code",
   "execution_count": null,
   "id": "49196c5c",
   "metadata": {},
   "outputs": [],
   "source": [
    "# Define a quick convenience function which will let us generate a sample of molecules for a particul indication\n",
    "\n",
    "# indication = \"mesh_heading_Infections\"\n",
    "indication = \"mesh_heading_Bacterial Infections\"\n",
    "indication_name = indication.replace(\"mesh_heading_\", \"\")\n",
    "outputs = utilities.generate_samples(\n",
    "    rows=5,\n",
    "    cols=5,\n",
    "    dataset=dataset,\n",
    "    model=model,\n",
    "    prompt=dataset.vocab.bos.char, # Prompt is just the beginning of sentence special character\n",
    "    indication_name=indication,\n",
    "    max_attempts=10,\n",
    "    max_generate=100,\n",
    "    temperature=0.7\n",
    ")\n",
    "\n",
    "display(\n",
    "    Markdown(f\"## {indication_name}\")\n",
    ")\n",
    "display(\n",
    "    utilities.draw_molecules_as_grid_from_smiles(\n",
    "        canonical_smiles=outputs, \n",
    "        names=[indication_name] * len(outputs)  \n",
    "    )\n",
    ")"
   ]
  },
  {
   "cell_type": "code",
   "execution_count": null,
   "id": "bde853e9",
   "metadata": {},
   "outputs": [],
   "source": []
  }
 ],
 "metadata": {
  "kernelspec": {
   "display_name": "d2l",
   "language": "python",
   "name": "python3"
  },
  "language_info": {
   "codemirror_mode": {
    "name": "ipython",
    "version": 3
   },
   "file_extension": ".py",
   "mimetype": "text/x-python",
   "name": "python",
   "nbconvert_exporter": "python",
   "pygments_lexer": "ipython3",
   "version": "3.9.21"
  }
 },
 "nbformat": 4,
 "nbformat_minor": 5
}
