{
 "cells": [
  {
   "cell_type": "code",
   "execution_count": null,
   "id": "03dfe0da",
   "metadata": {},
   "outputs": [],
   "source": [
    "import sqlite3\n",
    "import pandas as pd"
   ]
  },
  {
   "cell_type": "code",
   "execution_count": null,
   "id": "b2a6c7ea",
   "metadata": {},
   "outputs": [],
   "source": [
    "CHEMBL_DB_PATH = \"../raw-data/chembldb/chembl_35/chembl_35_sqlite/chembl_35.db\""
   ]
  },
  {
   "cell_type": "code",
   "execution_count": null,
   "id": "6a00f1d4",
   "metadata": {},
   "outputs": [],
   "source": [
    "SQL_DRUG_INDICATION_QUERY = \"\"\"\n",
    "    SELECT comp.molregno, comp.canonical_smiles, mol.indication_class, rec.record_id, ind.mesh_heading, ind.max_phase_for_ind\n",
    "    FROM compound_structures as comp\n",
    "    INNER JOIN molecule_dictionary as mol\n",
    "    ON comp.molregno = mol.molregno\n",
    "    INNER JOIN compound_records as rec\n",
    "    on mol.molregno = rec.molregno\n",
    "    INNER JOIN drug_indication as ind\n",
    "    ON rec.record_id = ind.record_id\n",
    "    \"\"\""
   ]
  },
  {
   "cell_type": "markdown",
   "id": "843e4a80",
   "metadata": {},
   "source": [
    "## Reading Directly with SQL"
   ]
  },
  {
   "cell_type": "code",
   "execution_count": null,
   "id": "7d9119a8",
   "metadata": {},
   "outputs": [],
   "source": [
    "# Establish a connection to the DB and a cursor\n",
    "con = sqlite3.connect(CHEMBL_DB_PATH)\n",
    "cur = con.cursor()"
   ]
  },
  {
   "cell_type": "code",
   "execution_count": null,
   "id": "1d74bbba",
   "metadata": {},
   "outputs": [],
   "source": [
    "res = cur.execute(\n",
    "    SQL_DRUG_INDICATION_QUERY\n",
    ")"
   ]
  },
  {
   "cell_type": "code",
   "execution_count": null,
   "id": "93ccea5c",
   "metadata": {},
   "outputs": [],
   "source": [
    "for i, r in enumerate(res):\n",
    "    print(r)\n",
    "    if i > 10:\n",
    "        break"
   ]
  },
  {
   "cell_type": "code",
   "execution_count": null,
   "id": "12d1d24e",
   "metadata": {},
   "outputs": [],
   "source": [
    "query_results = res.fetchall()"
   ]
  },
  {
   "cell_type": "code",
   "execution_count": null,
   "id": "0f11ff9b",
   "metadata": {},
   "outputs": [],
   "source": [
    "len(query_results)"
   ]
  },
  {
   "cell_type": "markdown",
   "id": "41c3d396",
   "metadata": {},
   "source": [
    "## Read into Pandas"
   ]
  },
  {
   "cell_type": "code",
   "execution_count": null,
   "id": "fc6bfb93",
   "metadata": {},
   "outputs": [],
   "source": [
    "pd_db = pd.read_sql_query(sql=SQL_DRUG_INDICATION_QUERY, con=con)"
   ]
  },
  {
   "cell_type": "code",
   "execution_count": null,
   "id": "4d4ea4cf",
   "metadata": {},
   "outputs": [],
   "source": [
    "pd_db"
   ]
  },
  {
   "cell_type": "code",
   "execution_count": null,
   "id": "f8419977",
   "metadata": {},
   "outputs": [],
   "source": [
    "pd_db = pd_db[pd_db.max_phase_for_ind >= 3].drop(columns=['molregno', 'record_id', 'max_phase_for_ind', 'indication_class'])"
   ]
  },
  {
   "cell_type": "code",
   "execution_count": null,
   "id": "4b56f33f",
   "metadata": {},
   "outputs": [],
   "source": [
    "pd.get_dummies(pd_db, columns=['mesh_heading'])"
   ]
  },
  {
   "cell_type": "code",
   "execution_count": null,
   "id": "53e5f95c",
   "metadata": {},
   "outputs": [],
   "source": []
  }
 ],
 "metadata": {
  "kernelspec": {
   "display_name": "d2l",
   "language": "python",
   "name": "python3"
  },
  "language_info": {
   "codemirror_mode": {
    "name": "ipython",
    "version": 3
   },
   "file_extension": ".py",
   "mimetype": "text/x-python",
   "name": "python",
   "nbconvert_exporter": "python",
   "pygments_lexer": "ipython3",
   "version": "3.9.21"
  }
 },
 "nbformat": 4,
 "nbformat_minor": 5
}
