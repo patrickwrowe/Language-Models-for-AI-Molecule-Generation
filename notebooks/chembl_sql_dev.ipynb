{
 "cells": [
  {
   "cell_type": "code",
   "execution_count": 1,
   "id": "03dfe0da",
   "metadata": {},
   "outputs": [],
   "source": [
    "import sqlite3\n",
    "import pandas as pd"
   ]
  },
  {
   "cell_type": "code",
   "execution_count": 2,
   "id": "b2a6c7ea",
   "metadata": {},
   "outputs": [],
   "source": [
    "CHEMBL_DB_PATH = \"../raw-data/chembldb/chembl_35/chembl_35_sqlite/chembl_35.db\""
   ]
  },
  {
   "cell_type": "code",
   "execution_count": 5,
   "id": "7d9119a8",
   "metadata": {},
   "outputs": [],
   "source": [
    "# Establish a connection to the DB and a cursor\n",
    "con = sqlite3.connect(CHEMBL_DB_PATH)\n",
    "cur = con.cursor()"
   ]
  },
  {
   "cell_type": "code",
   "execution_count": 32,
   "id": "1d74bbba",
   "metadata": {},
   "outputs": [],
   "source": [
    "res = cur.execute(\n",
    "    \"\"\"\n",
    "    SELECT comp.molregno, comp.canonical_smiles, mol.indication_class, rec.compound_name, rec.record_id, ind.mesh_heading \n",
    "    FROM compound_structures as comp\n",
    "    INNER JOIN molecule_dictionary as mol\n",
    "    ON comp.molregno = mol.molregno\n",
    "    INNER JOIN compound_records as rec\n",
    "    on mol.molregno = rec.molregno\n",
    "    INNER JOIN drug_indication as ind\n",
    "    ON rec.record_id = ind.record_id\n",
    "    ORDER BY comp.molregno\n",
    "    \"\"\"\n",
    ")"
   ]
  },
  {
   "cell_type": "code",
   "execution_count": 33,
   "id": "93ccea5c",
   "metadata": {},
   "outputs": [
    {
     "name": "stdout",
     "output_type": "stream",
     "text": [
      "(97, 'COc1cc2nc(N3CCN(C(=O)c4ccco4)CC3)nc(N)c2cc1OC', 'Antihypertensive', 'PRAZOSIN', 2791601, 'Hypertension')\n",
      "(97, 'COc1cc2nc(N3CCN(C(=O)c4ccco4)CC3)nc(N)c2cc1OC', 'Antihypertensive', 'PRAZOSIN', 2791601, 'Stress Disorders, Post-Traumatic')\n",
      "(97, 'COc1cc2nc(N3CCN(C(=O)c4ccco4)CC3)nc(N)c2cc1OC', 'Antihypertensive', 'PRAZOSIN', 2791601, 'Tobacco Use Disorder')\n",
      "(97, 'COc1cc2nc(N3CCN(C(=O)c4ccco4)CC3)nc(N)c2cc1OC', 'Antihypertensive', 'PRAZOSIN', 2791601, 'Amphetamine-Related Disorders')\n",
      "(97, 'COc1cc2nc(N3CCN(C(=O)c4ccco4)CC3)nc(N)c2cc1OC', 'Antihypertensive', 'PRAZOSIN', 2791601, 'Urinary Bladder, Neurogenic')\n",
      "(97, 'COc1cc2nc(N3CCN(C(=O)c4ccco4)CC3)nc(N)c2cc1OC', 'Antihypertensive', 'PRAZOSIN', 2791601, 'Anxiety')\n",
      "(97, 'COc1cc2nc(N3CCN(C(=O)c4ccco4)CC3)nc(N)c2cc1OC', 'Antihypertensive', 'PRAZOSIN', 2791601, 'Kidney Calculi')\n",
      "(97, 'COc1cc2nc(N3CCN(C(=O)c4ccco4)CC3)nc(N)c2cc1OC', 'Antihypertensive', 'PRAZOSIN', 2791601, 'Substance Withdrawal Syndrome')\n",
      "(97, 'COc1cc2nc(N3CCN(C(=O)c4ccco4)CC3)nc(N)c2cc1OC', 'Antihypertensive', 'PRAZOSIN', 2791601, 'Severe Acute Respiratory Syndrome')\n",
      "(97, 'COc1cc2nc(N3CCN(C(=O)c4ccco4)CC3)nc(N)c2cc1OC', 'Antihypertensive', 'PRAZOSIN', 2791601, 'Alcoholism')\n",
      "(115, 'CN1CCC[C@H]1c1cccnc1', 'Smoking Cessation Adjunct', 'NICOTINE', 1343518, 'Tobacco Use Disorder')\n",
      "(115, 'CN1CCC[C@H]1c1cccnc1', 'Smoking Cessation Adjunct', 'NICOTINE', 1343518, 'Smoking Cessation')\n"
     ]
    }
   ],
   "source": [
    "for i, r in enumerate(res):\n",
    "    print(r)\n",
    "    if i > 10:\n",
    "        break"
   ]
  },
  {
   "cell_type": "code",
   "execution_count": null,
   "id": "0f11ff9b",
   "metadata": {},
   "outputs": [],
   "source": []
  }
 ],
 "metadata": {
  "kernelspec": {
   "display_name": "d2l",
   "language": "python",
   "name": "python3"
  },
  "language_info": {
   "codemirror_mode": {
    "name": "ipython",
    "version": 3
   },
   "file_extension": ".py",
   "mimetype": "text/x-python",
   "name": "python",
   "nbconvert_exporter": "python",
   "pygments_lexer": "ipython3",
   "version": "3.9.21"
  }
 },
 "nbformat": 4,
 "nbformat_minor": 5
}
