{
 "cells": [
  {
   "cell_type": "code",
   "execution_count": 18,
   "id": "03dfe0da",
   "metadata": {},
   "outputs": [],
   "source": [
    "import sqlite3\n",
    "import pandas as pd"
   ]
  },
  {
   "cell_type": "code",
   "execution_count": 2,
   "id": "b2a6c7ea",
   "metadata": {},
   "outputs": [],
   "source": [
    "CHEMBL_DB_PATH = \"../raw-data/chembldb/chembl_35/chembl_35_sqlite/chembl_35.db\""
   ]
  },
  {
   "cell_type": "code",
   "execution_count": 17,
   "id": "6a00f1d4",
   "metadata": {},
   "outputs": [],
   "source": [
    "SQL_DRUG_INDICATION_QUERY = \"\"\"\n",
    "    SELECT comp.molregno, comp.canonical_smiles, mol.indication_class, rec.record_id, ind.mesh_heading, ind.max_phase_for_ind\n",
    "    FROM compound_structures as comp\n",
    "    INNER JOIN molecule_dictionary as mol\n",
    "    ON comp.molregno = mol.molregno\n",
    "    INNER JOIN compound_records as rec\n",
    "    on mol.molregno = rec.molregno\n",
    "    INNER JOIN drug_indication as ind\n",
    "    ON rec.record_id = ind.record_id\n",
    "    \"\"\""
   ]
  },
  {
   "cell_type": "markdown",
   "id": "843e4a80",
   "metadata": {},
   "source": [
    "## Reading Directly with SQL"
   ]
  },
  {
   "cell_type": "code",
   "execution_count": 3,
   "id": "7d9119a8",
   "metadata": {},
   "outputs": [],
   "source": [
    "# Establish a connection to the DB and a cursor\n",
    "con = sqlite3.connect(CHEMBL_DB_PATH)\n",
    "cur = con.cursor()"
   ]
  },
  {
   "cell_type": "code",
   "execution_count": null,
   "id": "1d74bbba",
   "metadata": {},
   "outputs": [],
   "source": [
    "res = cur.execute(\n",
    "    SQL_DRUG_INDICATION_QUERY\n",
    ")"
   ]
  },
  {
   "cell_type": "code",
   "execution_count": 14,
   "id": "93ccea5c",
   "metadata": {},
   "outputs": [
    {
     "name": "stdout",
     "output_type": "stream",
     "text": [
      "(97, 'COc1cc2nc(N3CCN(C(=O)c4ccco4)CC3)nc(N)c2cc1OC', 'Antihypertensive', 2791601, 'Alcoholism', 3)\n",
      "(97, 'COc1cc2nc(N3CCN(C(=O)c4ccco4)CC3)nc(N)c2cc1OC', 'Antihypertensive', 2791601, 'Anxiety', 1)\n",
      "(97, 'COc1cc2nc(N3CCN(C(=O)c4ccco4)CC3)nc(N)c2cc1OC', 'Antihypertensive', 2791601, 'Urinary Bladder, Neurogenic', 1)\n",
      "(97, 'COc1cc2nc(N3CCN(C(=O)c4ccco4)CC3)nc(N)c2cc1OC', 'Antihypertensive', 2791601, 'Hypertension', 4)\n",
      "(97, 'COc1cc2nc(N3CCN(C(=O)c4ccco4)CC3)nc(N)c2cc1OC', 'Antihypertensive', 2791601, 'Kidney Calculi', 3)\n",
      "(97, 'COc1cc2nc(N3CCN(C(=O)c4ccco4)CC3)nc(N)c2cc1OC', 'Antihypertensive', 2791601, 'Stress Disorders, Post-Traumatic', 3)\n",
      "(97, 'COc1cc2nc(N3CCN(C(=O)c4ccco4)CC3)nc(N)c2cc1OC', 'Antihypertensive', 2791601, 'Substance Withdrawal Syndrome', 1)\n",
      "(97, 'COc1cc2nc(N3CCN(C(=O)c4ccco4)CC3)nc(N)c2cc1OC', 'Antihypertensive', 2791601, 'Tobacco Use Disorder', 2)\n",
      "(97, 'COc1cc2nc(N3CCN(C(=O)c4ccco4)CC3)nc(N)c2cc1OC', 'Antihypertensive', 2791601, 'Amphetamine-Related Disorders', 2)\n",
      "(97, 'COc1cc2nc(N3CCN(C(=O)c4ccco4)CC3)nc(N)c2cc1OC', 'Antihypertensive', 2791601, 'Severe Acute Respiratory Syndrome', 2)\n",
      "(115, 'CN1CCC[C@H]1c1cccnc1', 'Smoking Cessation Adjunct', 1343518, 'Aging', 1)\n",
      "(115, 'CN1CCC[C@H]1c1cccnc1', 'Smoking Cessation Adjunct', 1343518, 'Alcohol Drinking', 2)\n"
     ]
    }
   ],
   "source": [
    "for i, r in enumerate(res):\n",
    "    print(r)\n",
    "    if i > 10:\n",
    "        break"
   ]
  },
  {
   "cell_type": "code",
   "execution_count": 15,
   "id": "12d1d24e",
   "metadata": {},
   "outputs": [],
   "source": [
    "query_results = res.fetchall()"
   ]
  },
  {
   "cell_type": "code",
   "execution_count": 16,
   "id": "0f11ff9b",
   "metadata": {},
   "outputs": [
    {
     "data": {
      "text/plain": [
       "55430"
      ]
     },
     "execution_count": 16,
     "metadata": {},
     "output_type": "execute_result"
    }
   ],
   "source": [
    "len(query_results)"
   ]
  },
  {
   "cell_type": "markdown",
   "id": "41c3d396",
   "metadata": {},
   "source": [
    "## Read into Pandas"
   ]
  },
  {
   "cell_type": "code",
   "execution_count": 19,
   "id": "fc6bfb93",
   "metadata": {},
   "outputs": [],
   "source": [
    "pd_db = pd.read_sql_query(sql=SQL_DRUG_INDICATION_QUERY, con=con)"
   ]
  },
  {
   "cell_type": "code",
   "execution_count": 20,
   "id": "4d4ea4cf",
   "metadata": {},
   "outputs": [
    {
     "data": {
      "text/html": [
       "<div>\n",
       "<style scoped>\n",
       "    .dataframe tbody tr th:only-of-type {\n",
       "        vertical-align: middle;\n",
       "    }\n",
       "\n",
       "    .dataframe tbody tr th {\n",
       "        vertical-align: top;\n",
       "    }\n",
       "\n",
       "    .dataframe thead th {\n",
       "        text-align: right;\n",
       "    }\n",
       "</style>\n",
       "<table border=\"1\" class=\"dataframe\">\n",
       "  <thead>\n",
       "    <tr style=\"text-align: right;\">\n",
       "      <th></th>\n",
       "      <th>molregno</th>\n",
       "      <th>canonical_smiles</th>\n",
       "      <th>indication_class</th>\n",
       "      <th>record_id</th>\n",
       "      <th>mesh_heading</th>\n",
       "      <th>max_phase_for_ind</th>\n",
       "    </tr>\n",
       "  </thead>\n",
       "  <tbody>\n",
       "    <tr>\n",
       "      <th>0</th>\n",
       "      <td>438435</td>\n",
       "      <td>CC(=O)O[C@H]1CC[C@@]2(C)C(=CC[C@@H]3[C@@H]2CC[...</td>\n",
       "      <td>None</td>\n",
       "      <td>1344515</td>\n",
       "      <td>Prostatic Neoplasms</td>\n",
       "      <td>4.0</td>\n",
       "    </tr>\n",
       "    <tr>\n",
       "      <th>1</th>\n",
       "      <td>448986</td>\n",
       "      <td>C[C@H]1O[C@H](O[C@H]2[C@H](O)[C@@H](O)[C@@H](O...</td>\n",
       "      <td>Inhibitor (alpha-glucosidase)</td>\n",
       "      <td>1343309</td>\n",
       "      <td>Diabetes Mellitus</td>\n",
       "      <td>4.0</td>\n",
       "    </tr>\n",
       "    <tr>\n",
       "      <th>2</th>\n",
       "      <td>448986</td>\n",
       "      <td>C[C@H]1O[C@H](O[C@H]2[C@H](O)[C@@H](O)[C@@H](O...</td>\n",
       "      <td>Inhibitor (alpha-glucosidase)</td>\n",
       "      <td>1343309</td>\n",
       "      <td>Metabolic Syndrome</td>\n",
       "      <td>3.0</td>\n",
       "    </tr>\n",
       "    <tr>\n",
       "      <th>3</th>\n",
       "      <td>448986</td>\n",
       "      <td>C[C@H]1O[C@H](O[C@H]2[C@H](O)[C@@H](O)[C@@H](O...</td>\n",
       "      <td>Inhibitor (alpha-glucosidase)</td>\n",
       "      <td>1343309</td>\n",
       "      <td>Non-alcoholic Fatty Liver Disease</td>\n",
       "      <td>2.0</td>\n",
       "    </tr>\n",
       "    <tr>\n",
       "      <th>4</th>\n",
       "      <td>16450</td>\n",
       "      <td>CC(=O)Nc1ccc(O)cc1</td>\n",
       "      <td>Analgesic; Antipyretic</td>\n",
       "      <td>1343835</td>\n",
       "      <td>Fever</td>\n",
       "      <td>4.0</td>\n",
       "    </tr>\n",
       "    <tr>\n",
       "      <th>...</th>\n",
       "      <td>...</td>\n",
       "      <td>...</td>\n",
       "      <td>...</td>\n",
       "      <td>...</td>\n",
       "      <td>...</td>\n",
       "      <td>...</td>\n",
       "    </tr>\n",
       "    <tr>\n",
       "      <th>42052</th>\n",
       "      <td>2382487</td>\n",
       "      <td>O=C1Nc2ccccc2C(c2ccccc2)=N[C@@H]1Nc1nnc(-c2ncc...</td>\n",
       "      <td>None</td>\n",
       "      <td>3954671</td>\n",
       "      <td>Virus Diseases</td>\n",
       "      <td>2.0</td>\n",
       "    </tr>\n",
       "    <tr>\n",
       "      <th>42053</th>\n",
       "      <td>2832083</td>\n",
       "      <td>CC(C)C[C@@H](C(=O)N1C[C@]2(C[C@H]1C#N)C(=O)Nc1...</td>\n",
       "      <td>None</td>\n",
       "      <td>3955999</td>\n",
       "      <td>Virus Diseases</td>\n",
       "      <td>2.0</td>\n",
       "    </tr>\n",
       "    <tr>\n",
       "      <th>42054</th>\n",
       "      <td>1927196</td>\n",
       "      <td>CC[C@H](C)[C@H](NC(=O)[C@H](Cc1ccc(O)cc1)NC(=O...</td>\n",
       "      <td>None</td>\n",
       "      <td>3956425</td>\n",
       "      <td>Inflammation</td>\n",
       "      <td>2.0</td>\n",
       "    </tr>\n",
       "    <tr>\n",
       "      <th>42055</th>\n",
       "      <td>2832300</td>\n",
       "      <td>C=CC(=O)N1C[C@H](Nc2ncnc3[nH]ccc23)CC[C@@H]1C....</td>\n",
       "      <td>None</td>\n",
       "      <td>3956275</td>\n",
       "      <td>Alopecia Areata</td>\n",
       "      <td>4.0</td>\n",
       "    </tr>\n",
       "    <tr>\n",
       "      <th>42056</th>\n",
       "      <td>2832775</td>\n",
       "      <td>C[C@H]1COc2c(N3CCN(C)CC3)c(F)cc3c(=O)c(C(=O)O)...</td>\n",
       "      <td>None</td>\n",
       "      <td>3956795</td>\n",
       "      <td>Neoplasms</td>\n",
       "      <td>2.0</td>\n",
       "    </tr>\n",
       "  </tbody>\n",
       "</table>\n",
       "<p>42057 rows × 6 columns</p>\n",
       "</div>"
      ],
      "text/plain": [
       "       molregno                                   canonical_smiles  \\\n",
       "0        438435  CC(=O)O[C@H]1CC[C@@]2(C)C(=CC[C@@H]3[C@@H]2CC[...   \n",
       "1        448986  C[C@H]1O[C@H](O[C@H]2[C@H](O)[C@@H](O)[C@@H](O...   \n",
       "2        448986  C[C@H]1O[C@H](O[C@H]2[C@H](O)[C@@H](O)[C@@H](O...   \n",
       "3        448986  C[C@H]1O[C@H](O[C@H]2[C@H](O)[C@@H](O)[C@@H](O...   \n",
       "4         16450                                 CC(=O)Nc1ccc(O)cc1   \n",
       "...         ...                                                ...   \n",
       "42052   2382487  O=C1Nc2ccccc2C(c2ccccc2)=N[C@@H]1Nc1nnc(-c2ncc...   \n",
       "42053   2832083  CC(C)C[C@@H](C(=O)N1C[C@]2(C[C@H]1C#N)C(=O)Nc1...   \n",
       "42054   1927196  CC[C@H](C)[C@H](NC(=O)[C@H](Cc1ccc(O)cc1)NC(=O...   \n",
       "42055   2832300  C=CC(=O)N1C[C@H](Nc2ncnc3[nH]ccc23)CC[C@@H]1C....   \n",
       "42056   2832775  C[C@H]1COc2c(N3CCN(C)CC3)c(F)cc3c(=O)c(C(=O)O)...   \n",
       "\n",
       "                    indication_class  record_id  \\\n",
       "0                               None    1344515   \n",
       "1      Inhibitor (alpha-glucosidase)    1343309   \n",
       "2      Inhibitor (alpha-glucosidase)    1343309   \n",
       "3      Inhibitor (alpha-glucosidase)    1343309   \n",
       "4             Analgesic; Antipyretic    1343835   \n",
       "...                              ...        ...   \n",
       "42052                           None    3954671   \n",
       "42053                           None    3955999   \n",
       "42054                           None    3956425   \n",
       "42055                           None    3956275   \n",
       "42056                           None    3956795   \n",
       "\n",
       "                            mesh_heading  max_phase_for_ind  \n",
       "0                    Prostatic Neoplasms                4.0  \n",
       "1                      Diabetes Mellitus                4.0  \n",
       "2                     Metabolic Syndrome                3.0  \n",
       "3      Non-alcoholic Fatty Liver Disease                2.0  \n",
       "4                                  Fever                4.0  \n",
       "...                                  ...                ...  \n",
       "42052                     Virus Diseases                2.0  \n",
       "42053                     Virus Diseases                2.0  \n",
       "42054                       Inflammation                2.0  \n",
       "42055                    Alopecia Areata                4.0  \n",
       "42056                          Neoplasms                2.0  \n",
       "\n",
       "[42057 rows x 6 columns]"
      ]
     },
     "execution_count": 20,
     "metadata": {},
     "output_type": "execute_result"
    }
   ],
   "source": [
    "pd_db"
   ]
  },
  {
   "cell_type": "code",
   "execution_count": null,
   "id": "4b56f33f",
   "metadata": {},
   "outputs": [],
   "source": []
  }
 ],
 "metadata": {
  "kernelspec": {
   "display_name": "d2l",
   "language": "python",
   "name": "python3"
  },
  "language_info": {
   "codemirror_mode": {
    "name": "ipython",
    "version": 3
   },
   "file_extension": ".py",
   "mimetype": "text/x-python",
   "name": "python",
   "nbconvert_exporter": "python",
   "pygments_lexer": "ipython3",
   "version": "3.9.21"
  }
 },
 "nbformat": 4,
 "nbformat_minor": 5
}
