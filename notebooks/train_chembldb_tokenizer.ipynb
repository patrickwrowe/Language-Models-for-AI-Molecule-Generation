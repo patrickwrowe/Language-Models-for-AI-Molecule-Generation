{
 "cells": [
  {
   "cell_type": "code",
   "execution_count": 16,
   "id": "ff066417",
   "metadata": {},
   "outputs": [],
   "source": [
    "import pandas as pd\n",
    "import pathlib\n",
    "import attr\n",
    "from tokenizers import Tokenizer\n",
    "from tokenizers.models import BPE\n",
    "from tokenizers.trainers import BpeTrainer\n",
    "from tokenizers.pre_tokenizers import Punctuation\n",
    "from io import StringIO\n",
    "\n",
    "import sys"
   ]
  },
  {
   "cell_type": "code",
   "execution_count": 17,
   "id": "f1bbf484",
   "metadata": {},
   "outputs": [],
   "source": [
    "sys.path.append(\"../../\")\n",
    "\n",
    "from ChEmbed.data import chembldb"
   ]
  },
  {
   "cell_type": "code",
   "execution_count": 18,
   "id": "4a049e40",
   "metadata": {},
   "outputs": [],
   "source": [
    "chembl = chembldb.ChemblDB()\n"
   ]
  },
  {
   "cell_type": "code",
   "execution_count": 19,
   "id": "2b91b41f",
   "metadata": {},
   "outputs": [],
   "source": [
    "db = chembl._load_or_download()"
   ]
  },
  {
   "cell_type": "code",
   "execution_count": 20,
   "id": "0e4f2a9e",
   "metadata": {},
   "outputs": [],
   "source": [
    "text = chembl._preprocess(db, \"canonical_smiles\")"
   ]
  },
  {
   "cell_type": "code",
   "execution_count": 21,
   "id": "433a045f",
   "metadata": {},
   "outputs": [],
   "source": [
    "with open(\"chembldb_raw_smiles.txt\", 'w') as f:\n",
    "    f.write(text)"
   ]
  },
  {
   "cell_type": "code",
   "execution_count": 22,
   "id": "cfcf9a8a",
   "metadata": {},
   "outputs": [
    {
     "name": "stdout",
     "output_type": "stream",
     "text": [
      "\n",
      "\n",
      "\n"
     ]
    }
   ],
   "source": [
    "tokenizer = chembl._tokenize(\"chembldb_raw_smiles.txt\")"
   ]
  },
  {
   "cell_type": "code",
   "execution_count": null,
   "id": "48aed239",
   "metadata": {},
   "outputs": [],
   "source": [
    "# Only want to save this once, not every re-run.\n",
    "# tokenizer.save(\"tokenizer-chembldb-16-06-2025.json\")"
   ]
  },
  {
   "cell_type": "code",
   "execution_count": 24,
   "id": "e494ba5b",
   "metadata": {},
   "outputs": [
    {
     "name": "stdout",
     "output_type": "stream",
     "text": [
      "{'CNCC': 715, '1CC': 150, 'ccccc23': 515, 'c1CC': 948, 'cc3': 97, 'ccc23': 395, 'Oc2cccc': 859, 'nn3': 314, 'N1CCc2c': 1006, 'c6ccccc6': 867, 'CCCC4': 394, 'C3CC': 844, 'c1cc2': 288, 'CCl': 634, 'c2c3c': 737, 'cccc12': 647, 'cc21': 280, 'nn23': 825, 'c1nn': 420, 'c2C': 245, 'COCCNC': 1017, 'N': 33, 'CCc1cc': 482, 'cccn2': 582, 'c1nnn': 795, 'NCCc1ccccc1': 898, '5c': 484, 'r': 54, 'Nc3ccccc3': 376, 'cc': 57, 'cc12': 256, 'sc3': 783, 'nc34': 896, 'NC2CCCCC2': 754, 'N4CCN': 511, 'c2no': 895, 'c1F': 541, 'ccn': 996, 'NCCOCCO': 1021, 'CCNC': 162, 'CCCC2': 199, 'nc': 71, 'CCOc1ccc': 271, '2CO': 695, 'Cc1ccccc1': 128, 'oc12': 752, 'c1cncc': 537, 'N1CCCCC1': 544, 'C2C': 331, 'Cn1c': 242, 'c3nc4ccccc4': 592, 'nc54': 923, 'OCC': 138, 'COc1cccc2': 586, 'COCCN': 584, 'nnc2': 913, '2': 12, '1NC': 295, 'COC2': 975, 'CC1C': 641, 'EOM': 62, 'CCCCCC1': 997, 'CCc1cccc': 828, 'nc2c1ncn2': 635, '3CCN': 871, 'c1ccccc1': 86, 'NC1CC1': 879, 'Cc2cccc': 466, 'ccc34': 722, 'OS': 431, 'Nc2nc': 319, 'c3cnn': 688, 'CCCCCCCC': 142, 'NC1CCN': 686, 'Cc1nc2c': 963, 'nc32': 341, 'OCCCC': 483, 'N4CCC': 827, 'NCCCN': 522, 'O1': 195, 'cc32': 481, 'C1CC1': 373, 'Cc2ccc3c': 893, 't': 56, 'c4cc': 212, 'o1': 152, '4': 14, 'c3ccccc3': 100, 'Cn1cc': 285, 'C3CCCCC3': 624, 'CSc2nnc': 850, 'c1cccc2': 328, 'c1ccccc1O': 849, 'c2nc': 126, 'nc3ccc': 804, 'cc1NC': 428, 'c4ccccc34': 470, 'NCCN3': 1007, 'n2c': 192, 'c5ccccc5': 313, 'ncc3': 317, 'Cn3c': 1020, 'c4cccc': 251, 'CCCC5': 927, 'cc4F': 1016, ')': 5, 'c1nc2cc': 725, 'CN2CCOCC2': 1009, 'CCNS': 818, 'N2C': 184, 'oc2': 559, '4CCC': 939, 'c2cc3cc': 812, 'c12': 118, 'c2cn': 243, 'C3C': 663, 'n4cnc5': 924, 'C1C': 241, 'c3': 66, '43C': 550, 'nc3cc': 513, 'CO': 73, 'CC1CCN': 612, 'n3c': 297, 'c4ccc5': 869, 'CC2CC2': 629, 'N2C1': 940, 'c2Cl': 765, '[EOM]': 1, 'c3cnc': 461, 'ccc3c2': 684, '1CCCN': 906, 'N3CCNCC3': 982, 'sc': 168, 'Cc3cccc': 674, 'Cc1cc2c': 706, 'c2O': 574, 'nc2ccccc21': 779, 'c3ccc4c': 415, '3C2': 868, 'NCCN2': 894, 'CCN2C': 696, '1CCCN1': 888, 'CC1CC': 717, 'c6ccc': 790, 'OCO2': 391, 'c2ccc3c': 206, '2CC': 215, 'CC1CC1': 698, 'Nc2ccccc2C': 961, 'CN1': 160, 'Cn2cc': 545, '4O': 371, 'OCC2': 748, 'Cc4ccc': 518, ']': 43, 'COc1ccccc1NC': 985, 'CNc1nc': 763, 'NCCN1': 734, 'Cc1csc': 753, 'n': 51, 'ncn3': 862, 'C2': 91, 'NNC': 360, 'Nc2n': 396, 'Cn1': 149, 'o3': 273, 'c4ccc': 136, 'c2ccccc2O': 833, 'cc23': 385, 'nc4cc': 958, 'no2': 486, '0': 10, 'S': 37, 'C4': 165, 'COP': 356, 'c2ccccc2': 84, 'Oc1c': 769, 'NCc1cccc': 887, 'Cc1': 325, 'Nc3nc': 775, 'c3cccc4ccccc34': 929, 'ccc2n1': 593, 'i': 49, 'CN3CCN': 716, 'on1': 573, 'COc2ccc': 469, 'n2ccnc2': 784, 'cc2c': 445, 'OCc3ccccc3': 549, 'n4c': 615, 'ccc1Cl': 636, 'CCn1cc': 526, 'ncc1': 627, 'c1c2ccccc2': 782, 'CCCO2': 964, 'Nc1cc': 202, 'CCOCCO': 283, 'n4cnc5c': 1012, 'c2cncc': 623, 'ccc2OC': 991, 'O5': 682, 'C5': 303, 'ccc2O': 838, 'n3C': 516, 'NCc1ccccc1': 409, 'EO': 61, 'C3CC3': 374, 'c1ccc2c': 175, 'oc3': 718, 'CCCOc1ccc': 793, 'Nc4cc': 870, 'C1NC': 503, 'N1': 93, 'c2nnc': 263, 'on2': 801, 'no1': 363, 'c3cccnc3': 405, 'F': 26, 'N4CCOCC4': 565, '3OC': 668, 'c1o': 740, 'c3cc': 120, 'Nc3ccc': 208, 'c3cncc': 815, 'n4cc': 643, '1': 11, 'C3CCCC3': 911, 'cc2n1': 810, 'nc1C': 444, 'S2': 599, 'NCCCC': 292, 'c2C1': 596, 'CSc1nnc': 735, 'c2c1': 148, 'CCCCCCCCCC': 758, 'OCO3': 364, 'COc1nc': 922, 'NCc1cc': 904, 'CCCCCCC': 399, 'C1c2ccccc2C': 1023, 'Cc1cc2': 611, '9': 19, 'ccccc34': 352, '23': 403, 'oc2c1': 455, 'c1ccccc1F': 656, 'c2n': 112, 'c3ccccc23': 231, 'OCc2ccc': 710, 'c1cc2cc': 711, 'nn4': 764, 'ncnc2': 955, 'COc1ccccc1N1CCN': 808, 'NCCNC': 759, 'L': 31, 'c1cc': 77, 'OCCO2': 676, 'c1ccc2ccccc2c1': 694, 'CC3': 110, '2CCC': 276, 'OCO4': 416, 's2': 173, '2C1': 458, 'N2CCCCC2': 476, '3CCC': 579, 'n12': 581, 'c2ccc3nc': 689, '4C': 258, 'ccc2Cl': 918, 'COc1cccc': 193, 'CCO1': 972, 'NC2': 200, 'cccc1C': 657, 'OCCCN': 886, 'cc1O': 340, 'Cc2cnc': 840, 'Cc1n': 178, 'ccc1NC': 866, 'ccccc5': 265, 'NC2CCN': 882, 'c1nnc': 289, 'ccc3': 167, '1CNC': 1004, 'c1cc2c': 349, 'cn': 159, 'c3nn': 591, 'ccc4': 299, 'c5c4': 899, 'ccc1O': 335, 'CN1C': 240, 'CCc1ccc': 312, 'N1CCCC1': 460, 'NCCS': 892, 'c3ccccc3c2': 640, 'c2cccc3ccccc23': 633, '4c': 244, '3': 13, 'c': 46, 'cccc1': 334, 'NCCc1ccc': 909, '2CC3CC': 1005, 'CCc1c': 502, 'C1OC': 875, '5C': 414, 'c2ccccc2n1': 539, 'c21': 351, 'n3ccc': 687, 'CC3CC': 553, 'CCNC2': 944, '2C': 125, 'cs1': 382, 'nc21': 345, 'ccc2': 132, 'c3ccco3': 488, 'Nc1ncnc2c1ncn2': 1014, 'n3cc': 380, 'ccc2c1': 423, 'oc1': 506, 'p': 53, 'Oc3ccc': 387, 'Clc1ccc': 566, 'CCS': 237, 'c1ccccc1C': 542, 'c1nc': 119, 'nc3': 137, 'cccc4': 594, 'Se': 990, 'c3F': 967, 'c7': 697, 'c3ccncc3': 440, 'c2ccc': 78, 'Cl': 74, 'c1cnc': 321, 'c1ccnc': 705, 'c32': 628, 'ccccc12': 459, 'COc2ccccc2': 841, 'c1ccc2': 383, 'NCc2ccc': 485, 'c5c': 530, 'N2CCCC': 554, 'c4ccc5c': 925, 'c1C2': 980, 'B': 23, '2H': 820, 'cccc2': 232, '21C': 617, 'c1cccnc1': 381, 'OCc2ccccc2': 406, 'c1csc': 547, 'c1C': 164, 'nH': 88, 'ncnc32': 571, 'c1OC': 223, 'CCCCCCCCCCCCCCCC': 527, 'cc3c2': 712, 'CCOP': 745, 'cc1OC': 187, 'CCCCCCCCC': 743, 'c2ncccn2': 1011, 'N3CCN': 267, 'c1noc': 755, 'nn1': 220, 'N2CCC': 217, 'Oc1ccccc1': 493, 'cccc1Cl': 770, 'N2': 101, 'cc2OC': 797, '4CC': 375, 'c3nccc': 746, 'Si': 747, 'c2s': 475, 'c1Cl': 436, 'c5cc': 532, 'ccc1': 139, 'n1': 80, 'c3C': 424, '7': 17, 'C1c1ccc': 776, 'C4CC4': 587, 'OC4': 960, 'c2nccc': 917, 'c1n': 103, 'CCN2': 603, 'c4nc5': 848, 'nn1C': 994, 'NCC': 131, 'c2ccnc': 578, 'Cc1noc': 538, 'N1c1ccc': 901, 'nn2': 204, 'c1': 59, 'nc1N': 819, 'ccc1OC': 607, 'C3CCN': 670, 'N1N': 920, 'C2CC': 451, 'S1': 452, 'C1C2': 950, 'c1nc2ccc': 760, 'Nc1cccc2': 822, 'o': 52, 'c2cccnc2': 304, 'c2oc': 771, 'c1cc2ccccc2': 749, 'K': 30, 'cc5': 347, 'ccc1C': 487, 'Cc2ccccc2': 156, 'CCCCN': 155, 'C1': 81, '2NC': 800, 'CN3CCC': 988, 'c2ncnc3': 821, 'NCc2ccccc2': 595, 'Nc2ccc3c': 650, 'c3ccc4ccccc4c3': 1013, 'CCC2': 234, 'cc3Cl': 575, 'CCN1C': 320, 'cc6': 796, '3c': 809, 'CSc1ccc': 761, 'CCN1CC': 851, 'n4ccc': 907, '8': 18, 'P': 35, 'c3ccccc3F': 811, 'Cc1cccc': 181, 'CCCCC1': 190, 'CCCS': 614, 'cc1Cl': 255, 'c4cnn': 978, '6': 16, 'c4ccccc4': 143, 'cc1S': 637, 'O': 34, 'c3ccccc3Cl': 709, 'Nc1ccccc1': 249, 'cs2': 528, 'Cc1cccc2': 631, 'Cc3ccccc3': 235, '+': 6, 'R': 36, '2c': 189, 'Oc2ccc': 284, 'COc1cc2c': 342, 'o2': 177, '1CN': 268, 'cc3C': 664, '12CC': 619, 'cc2': 83, 'Nc1cccc': 224, '2CCCN2C': 524, 'CCOc1ccccc1': 679, 'Cc1o': 861, 'NCCO': 473, 'CCOc1cc': 505, 'n1ccnc1': 878, 'CCCCC3': 250, 'N3CCCC3': 529, 'NCc3ccc': 669, 'c2ccc3ccccc3': 439, 'c1ccncc1': 462, 'cc1': 70, 'OP': 388, 'CCc1ccccc1': 400, '1OC': 282, 'c3cccc4': 467, 'N1CC2': 959, 'c2ccccn2': 330, 'Z': 40, 'Cc1ccc': 104, 'n2ncc': 957, 'nnc1': 536, 'CN2': 186, 'c2c': 92, 'Nc1ccccc1C': 847, 'CCC3': 291, 'nc2c1c': 741, 'c4ncc': 983, 'CCOCC5': 835, 'c1nc2c': 509, 'ccc': 63, 'Oc2c': 854, 'CCCC3': 239, 'n2C': 318, 'COc1c': 456, 'Cc1nc': 252, 'N3CCOCC3': 327, 'c2ccccc2F': 577, 'N3CCCC': 846, 'C2CC2': 337, 'c3c': 114, 'nc6': 984, 'cc4': 147, 'c1cccc2ccccc12': 701, 'COc1cc2': 433, 'c3nc': 230, 'Fc1ccc': 560, 'CC4': 157, 'CCCO': 365, 'C1O': 580, 'n1nc': 714, 'c2ccsc2': 947, 'Nc1nc': 219, 'nnc': 478, 'CF': 914, 'c1ccn': 333, 'c2ccco2': 398, 'Nc1nc2c': 916, 'N5': 501, 'C1CCN': 300, 'CCCCCC': 326, '12C': 323, 'CCC': 67, 'c4cnc': 852, 'E': 25, 'CC1CN': 766, 'c4ccncc4': 830, 'COc1ccccc1': 221, 'CC2CCCCC2': 872, 'c2ccccc2S': 928, '3COP': 1000, 'Na': 309, 'c1nc2ccccc2': 411, 'c3ccccc3n2': 837, 'cccc3Cl': 1001, 'c1cccc': 75, 'CN2CC': 621, 'I': 29, 'NN': 344, 'c2o': 655, 'CC4CC': 721, 'c2csc': 477, '[': 41, 'c2ccccc21': 205, 'no3': 1010, 'CN4': 630, 'nc2c1nc': 572, 'n2c1': 756, 'c4n': 693, 'SC1': 723, 'c4ccccc4C': 1022, 'Oc2cc': 600, 'CCCCC4': 489, '6CC': 953, 'c2F': 726, 'sc1C': 731, 'Nc2c': 494, 'CCN': 79, 'c3cc4': 606, 'ccccc': 85, 'n1C': 379, 'Nc2ncc': 665, 'ncn2': 495, 'CP': 900, 'CCOCC3': 254, 'c4nc': 677, 'Cc1nn': 422, '\\\\': 42, 'c4C': 932, 'c1ccccn1': 425, 'cccc': 64, 'C6': 667, 'Nc3cc': 393, 'G': 27, 'CC': 58, 'c2ncn': 750, 'nc2C': 616, 'Nc1ncc': 446, 'c13': 728, 'c3ccccn3': 402, 'Nc1ccc2c': 441, '3O': 210, 'CCOCC2': 227, 'CCc1nc': 690, 'ccc3n2': 891, 'c2ccc3': 151, 'CCOCCOCCOCCO': 791, 'CCN1CCN': 432, 'NC1': 154, 'CCCOC': 883, 'ncc': 171, 'NOC': 884, 'nc3ccccc23': 704, 'COS': 949, 'NCc1ccco1': 992, 'nc2': 107, 'ccc3C': 1018, 'Cc1cc': 116, 'c1sc': 605, 'CCCN1C': 831, 'Oc1cc': 504, 'nc1': 134, 'ccccc2': 570, '1CCN': 472, '1CO': 535, 'nc2cc': 646, '1CS': 873, 'c2nc3ccccc3': 329, 'e': 47, 'c2cnn': 660, 'OCC1': 661, 'c2cccc3': 281, 'SC': 176, 'nc3n2': 845, 'c3ccnc': 738, 'cn2': 248, 'OCCN': 350, 'CCCNC': 146, 'CCN1': 214, '2CCN': 419, 'c1ccc': 69, 'c3nc4': 362, 'CCSC': 523, 'CCc3ccccc3': 788, 'Cc2c': 225, 'c3ccccc32': 294, 'OCc3ccc': 993, 'CCCCC': 106, 'c3cc4c': 552, 'c2': 60, 'c23': 169, '1c1ccc': 777, 'n23': 941, 'cc1F': 301, 's': 55, '2O': 163, 'N4CCCC4': 954, 'CNC': 122, 'cc3n2': 1003, 'nc23': 426, 'Nc2ccccc2': 278, 'c2cc': 102, 'N1CCC': 158, 'O3': 218, '=': 20, 'c1c': 96, 'OC2': 332, 'n1c': 201, 'Cc4ccccc4': 453, 'oc2cc': 583, '6O': 556, 'Oc1cccc': 671, 'COc3ccc': 843, 'n2': 87, '2OC': 471, 'COc1ccccc1C': 863, 'n2cnc3c': 546, 'CCCn1c': 658, 'c2cc3ccccc3': 609, 'C4C': 937, 'C1CCCN': 789, 'c2c1C': 632, 'Cc2cc': 417, 'C2CCC': 534, 'cnc2': 824, 'Cc1c': 129, 'OCCO3': 702, '1C2': 798, '2N': 839, 'CN1CCN': 272, 'ccc2F': 860, 'C1CC': 324, 'O2': 185, 'CCCCC2': 196, 'C1CN': 727, 'c2sc': 601, '[UNK]': 0, 'N3CC': 500, 'CC1': 89, 'NC1CCCC1': 942, 's3': 253, 'cc2c1': 361, 'nc2ccc': 692, 'ccccc45': 792, 'nc2c': 499, 'CCn1c': 346, 'ccc1F': 678, '5': 15, 'CC6': 902, 'sc2': 497, 'C1N': 598, '(': 4, 'CCc2ccc': 781, 'CCCCCNC': 832, 'nc2n1': 463, '3CN': 951, 'c1ccccc1Cl': 555, 'OCc1ccc': 995, 'N2CC': 290, 'a': 44, 'M': 32, 'CC2': 98, 'ccc21': 293, 'CCCC': 72, '21': 390, 'c2nc3cc': 653, 'OC1': 316, 'c2ncccc2': 703, 'CCO2': 768, 'cn1': 188, '1CCCN1C': 348, 'X': 39, 'ncnc21': 853, '3OP': 998, 'o4': 626, 'b': 45, 'Oc1ccc': 228, 'N1CCCC': 491, 'Cc1cccnc1': 762, 'Cc1ccc2nc': 874, '12': 183, 'OCc1ccccc1': 357, 'c1nccc': 817, '3CC4CC': 865, '34': 803, 'N1CC': 222, 'N2CCC3': 767, 'c5': 140, 'ccc12': 338, 'Oc3ccccc3': 666, 'CNC1': 965, 'c3ccc4': 438, 'cs3': 952, 'N2CCCC2': 437, 'CC5': 302, 'cc3F': 514, 'cc3c': 521, 'c2ncnc': 772, 'NCCN': 269, 'CCOCC4': 384, 'CN2C': 370, 'OCO5': 976, 'c2cc3': 213, 'N1CCOCC1': 366, 'OCCO': 264, 'cc2F': 389, 'Nc1nnc': 648, 'nc4c': 774, 'nc5': 305, 'c1cnn': 751, 'OCCC': 274, 'Nc3c': 945, 'ncc2': 238, 'c2cccc': 76, 'CCC4': 450, 'CCN3': 659, 'c1cn': 247, 'COc1ccc2': 568, '6C': 829, 'Oc1ccc2c': 880, 'N1CCC2': 622, 'c4cccnc4': 802, 'NCc1ccc': 287, 'c1O': 246, 'CSC': 490, 'c2ccccc2C1': 520, 'C': 24, 'cc2C1': 673, 'cc2O': 724, 'n1Cc1ccc': 733, 'Nc3cccc': 507, '3C': 161, 'N1C': 172, 'c2ccccc2c1': 306, 'CC1CCCCC1': 604, 'c1NC': 618, 'c3cccc': 124, 's1': 141, 'CN2CCC': 540, 'ccc2C': 729, 'c1ccccc1NC': 919, 'cccc3': 322, 'ccccc4c3': 736, 'cc34': 785, 'n2cc': 236, 'COc1cc': 117, 'COCCO': 816, 'cccc23': 858, 'c3ccccc3C2': 563, 'CO1': 823, 'c3ccccc3C': 561, 'C12': 652, '2CCCC': 778, 'C1CCC': 412, 'c5cccc': 691, 'c2cc3c': 378, 'c2nn': 447, 'c3n2': 510, 'CCCC1': 211, '#': 2, 'N1CCN': 174, 'oc': 180, 'cc2Cl': 353, 'Cn1ccnc1': 969, 'Nc2ccc': 179, 'c3s': 908, 'COc1ccc2c': 336, 'Cc1cnc': 359, 'COC': 115, 'NCCCCC': 962, 'Cc1cn': 448, 'no': 464, 'Nc1n': 203, 'Nc4ccc': 429, 'N2CCN': 191, 'nc12': 310, 'n5': 638, 'NC1CCCCC1': 675, 'ccc5': 683, 'Nc3ncc': 968, 'FC': 548, 'Cc3c': 642, 'CCCl': 639, 'cnc1': 977, 'CCOCC1': 257, 'c2ccccc2C': 369, '1C': 105, '.': 8, 'CCCN': 135, 'NCC1': 413, 'c3ncc': 427, 'CCCc1cc': 935, 'Nc1c': 397, 'c2noc': 602, 'ccccc6': 720, 'n4': 194, 'CO2': 719, '-': 7, 'Nc2nccc': 986, 'ccn1': 457, 'Cc1nnc': 685, 'Br': 113, 'cc1Br': 807, 'nc3c': 645, 'c2nc3ccccc3s2': 885, 'N2CCOCC2': 296, 'COC1': 625, 'H': 28, 'N3CCCCC3': 562, 'C2CCCC2': 744, 'NCC3': 897, 'cc2s1': 780, 'CCO': 99, 'CS': 121, 'ncc4': 608, 'Oc4ccc': 1015, 'ccccc3': 95, 'Cc1ccc2c': 408, 'nc4': 170, 'NC': 65, 'NCc3ccccc3': 757, 'ccn2': 680, 'Oc3cc': 971, 'cc1C': 209, 'c34': 613, 'Nc1ccc': 145, 'cn3': 358, 'nn12': 713, 'c1ncc': 311, 'c1ccco1': 442, 'c3nnc': 610, 'cc3OC': 877, 'NC4': 517, 'c2ccncc2': 355, 'ncnc': 597, 'Cc1ncc': 742, 'cc2C': 372, 'c4ccccc4C3': 966, '2CN': 443, 'CCCCCCCCCCC': 905, 'c4c': 216, 'n2nn': 946, 'c4ccccn4': 794, 'sc2c1': 508, 'n3nc': 732, 'Cc3ccc': 261, 'CCOC1': 786, 'c4': 90, 'c2ncc': 270, 'CN2CCN': 410, 'c2n1': 286, 'COCC': 480, 'c2cc1OC': 588, 'Cn1nc': 681, 'Nc2cccc': 368, '5O': 576, 'A': 22, '12CCC': 926, 'c3cn': 454, 'CSc1nc': 836, 'c1ccc2cc': 857, 'CC1CCC': 864, 'ccccc4': 127, 'N3C': 367, 'N4': 207, '1CCC': 198, 'c2cccs2': 386, 'OCCO4': 974, 'cnc2c': 662, 'CN3': 315, 'CN': 82, 'CC2C': 805, 'C2O': 834, 'Nc2cc': 277, 'c5ccccc45': 1019, 'nc43': 881, 'CCc2ccccc2': 551, 'CCC1': 226, 'Cn2': 533, 'Cc3cc': 773, 'c1cccs1': 421, 'c1S': 938, 'c4c3': 557, 'n2n1': 987, 'c4cn': 708, 'nc3c2': 465, 'Cc1ccccc1C': 915, 'CNS': 543, 'OC': 68, 'ccc32': 569, 'c4ccco4': 912, 'N3CCC': 354, 'CCCCNC': 377, 'C2CCN': 401, 'c2nc3ccc': 799, 'c3cc4ccccc4': 973, '1N': 620, 'Cn2c': 449, 'n3ccnc3': 856, 'COc1ccc': 111, 'c1ccccc1C2': 989, 'Nc2nnc': 910, 'nc2ccccc12': 644, '5CC': 404, 'Nc4ccccc4': 889, 'ncn1': 496, '%': 3, 'c2nc3c': 567, 'cc3C2': 890, 'Cc1ccc2ccccc2c1': 1002, '/': 9, 'n2nc': 339, 'c1c2c': 672, 'c3n': 233, 'N4C': 970, '1O': 144, 'n2ccc': 826, 'c1s': 468, 'NO': 259, 'C1CCCC1': 699, 'NC3': 275, 'c2ccccc12': 182, 'cccc2C': 936, 'CCOC2': 903, 'cc1OCC': 931, 'g': 48, '43': 981, 'c5ccc': 307, '3CC': 229, 's4': 585, 'cccc21': 930, '32': 564, 'CSSC': 590, 'n3n2': 933, 'n1cc': 260, 'sc1': 407, '1CCCC': 649, 'c1ccc2nc': 651, 'NP': 1008, 'Oc2ccccc2': 531, 'CN1CCC': 435, 'c2ccc3ccccc3c2': 519, 'N3': 123, 'OCc4ccccc4': 979, 'l': 50, 'CCCCCCCCCCCC': 512, 'NCCC': 197, 'CCn1': 418, 'C2CCCCC2': 479, 'n3': 108, 'NCC2': 558, 'C3CCC': 876, 'cccc2Cl': 806, 'CCN1CCC': 739, 'cn4': 814, 'T': 38, 'CSCC': 498, 'n3c2': 842, 'CCOC': 133, 'SCC': 266, 'c2ccccc2Cl': 474, 'nn': 130, 'c4ccccc43': 654, 'ccc3c': 943, 'c3ncnc': 956, 'NS': 153, 'n2cn': 392, 'CC3CC3': 813, 'c2cnc': 343, 'CN1CC': 434, 'Nc1nccc': 999, 'c3cccs3': 525, 'c3C2': 855, '23C': 700, 'C1CCCCC1': 430, 'c6': 298, 'c4cccc5': 921, '1c1ccccc1': 934, 'c3ccc': 94, 'O4': 308, '@': 21, '7O': 787, 'OC3': 492, 'c1N': 707, 'Cc2ccc': 166, 'nc2c1': 279, 'c2nnn': 589, 'c3c2': 262, 'C3': 109, 'c1ccccc12': 730}\n"
     ]
    }
   ],
   "source": [
    "# Inspect the vocab directly\n",
    "print(tokenizer.get_vocab())  # Get the vocabulary dictionary"
   ]
  },
  {
   "cell_type": "code",
   "execution_count": 25,
   "id": "7277dc91",
   "metadata": {},
   "outputs": [],
   "source": [
    "test_molecule = \"COc1c(O)cc(O)c(C(=N)Cc2ccc(O)cc2)c1O\""
   ]
  },
  {
   "cell_type": "code",
   "execution_count": 26,
   "id": "576d6d2e",
   "metadata": {},
   "outputs": [],
   "source": [
    "encoded_molecule = tokenizer.encode(test_molecule)"
   ]
  },
  {
   "cell_type": "code",
   "execution_count": 27,
   "id": "5b4cc1f3",
   "metadata": {},
   "outputs": [
    {
     "name": "stdout",
     "output_type": "stream",
     "text": [
      "['COc1c', '(', 'O', ')', 'cc', '(', 'O', ')', 'c', '(', 'C', '(', '=', 'N', ')', 'Cc2ccc', '(', 'O', ')', 'cc2', ')', 'c1O']\n"
     ]
    }
   ],
   "source": [
    "print(encoded_molecule.tokens)"
   ]
  },
  {
   "cell_type": "code",
   "execution_count": null,
   "id": "8ff6fd3a",
   "metadata": {},
   "outputs": [],
   "source": []
  }
 ],
 "metadata": {
  "kernelspec": {
   "display_name": "main",
   "language": "python",
   "name": "python3"
  },
  "language_info": {
   "codemirror_mode": {
    "name": "ipython",
    "version": 3
   },
   "file_extension": ".py",
   "mimetype": "text/x-python",
   "name": "python",
   "nbconvert_exporter": "python",
   "pygments_lexer": "ipython3",
   "version": "3.12.3"
  }
 },
 "nbformat": 4,
 "nbformat_minor": 5
}
