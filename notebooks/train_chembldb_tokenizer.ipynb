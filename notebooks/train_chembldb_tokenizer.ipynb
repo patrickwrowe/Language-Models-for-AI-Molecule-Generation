{
 "cells": [
  {
   "cell_type": "code",
   "execution_count": null,
   "id": "ff066417",
   "metadata": {},
   "outputs": [],
   "source": [
    "import pandas as pd\n",
    "import pathlib\n",
    "import attr\n",
    "from tokenizers import Tokenizer\n",
    "from tokenizers.models import BPE\n",
    "from tokenizers.trainers import BpeTrainer\n",
    "from tokenizers.pre_tokenizers import Punctuation\n",
    "from io import StringIO\n",
    "\n",
    "import sys"
   ]
  },
  {
   "cell_type": "code",
   "execution_count": null,
   "id": "f1bbf484",
   "metadata": {},
   "outputs": [],
   "source": [
    "sys.path.append(\"../../\")\n",
    "\n",
    "from ChEmbed.data import chembldb"
   ]
  },
  {
   "cell_type": "code",
   "execution_count": null,
   "id": "4a049e40",
   "metadata": {},
   "outputs": [],
   "source": [
    "chembl = chembldb.ChemblDBChemreps()\n"
   ]
  },
  {
   "cell_type": "code",
   "execution_count": null,
   "id": "2b91b41f",
   "metadata": {},
   "outputs": [],
   "source": [
    "db = chembl._load_or_download()"
   ]
  },
  {
   "cell_type": "code",
   "execution_count": null,
   "id": "0e4f2a9e",
   "metadata": {},
   "outputs": [],
   "source": [
    "text = chembl._preprocess(db, \"canonical_smiles\")"
   ]
  },
  {
   "cell_type": "code",
   "execution_count": null,
   "id": "433a045f",
   "metadata": {},
   "outputs": [],
   "source": [
    "with open(\"chembldb_raw_smiles.txt\", 'w') as f:\n",
    "    f.write(text)"
   ]
  },
  {
   "cell_type": "code",
   "execution_count": null,
   "id": "cfcf9a8a",
   "metadata": {},
   "outputs": [],
   "source": [
    "tokenizer = chembl._tokenize(\"chembldb_raw_smiles.txt\")"
   ]
  },
  {
   "cell_type": "code",
   "execution_count": null,
   "id": "48aed239",
   "metadata": {},
   "outputs": [],
   "source": [
    "# Only want to save this once, not every re-run.\n",
    "# tokenizer.save(\"tokenizer-chembldb-16-06-2025.json\")"
   ]
  },
  {
   "cell_type": "code",
   "execution_count": null,
   "id": "e494ba5b",
   "metadata": {},
   "outputs": [],
   "source": [
    "# Inspect the vocab directly\n",
    "print(tokenizer.get_vocab())  # Get the vocabulary dictionary"
   ]
  },
  {
   "cell_type": "code",
   "execution_count": null,
   "id": "7277dc91",
   "metadata": {},
   "outputs": [],
   "source": [
    "test_molecule = \"COc1c(O)cc(O)c(C(=N)Cc2ccc(O)cc2)c1O\""
   ]
  },
  {
   "cell_type": "code",
   "execution_count": null,
   "id": "576d6d2e",
   "metadata": {},
   "outputs": [],
   "source": [
    "encoded_molecule = tokenizer.encode(test_molecule)"
   ]
  },
  {
   "cell_type": "code",
   "execution_count": null,
   "id": "5b4cc1f3",
   "metadata": {},
   "outputs": [],
   "source": [
    "print(encoded_molecule.tokens)"
   ]
  },
  {
   "cell_type": "code",
   "execution_count": null,
   "id": "8ff6fd3a",
   "metadata": {},
   "outputs": [],
   "source": []
  }
 ],
 "metadata": {
  "kernelspec": {
   "display_name": "Python 3 (ipykernel)",
   "language": "python",
   "name": "python3"
  },
  "language_info": {
   "codemirror_mode": {
    "name": "ipython",
    "version": 3
   },
   "file_extension": ".py",
   "mimetype": "text/x-python",
   "name": "python",
   "nbconvert_exporter": "python",
   "pygments_lexer": "ipython3",
   "version": "3.9.21"
  }
 },
 "nbformat": 4,
 "nbformat_minor": 5
}
