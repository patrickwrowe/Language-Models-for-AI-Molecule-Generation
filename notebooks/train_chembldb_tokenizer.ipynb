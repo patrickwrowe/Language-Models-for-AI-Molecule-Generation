{
 "cells": [
  {
   "cell_type": "code",
   "execution_count": 4,
   "id": "ff066417",
   "metadata": {},
   "outputs": [],
   "source": [
    "import pandas as pd\n",
    "import pathlib\n",
    "import attr\n",
    "from tokenizers import Tokenizer\n",
    "from tokenizers.models import BPE\n",
    "from tokenizers.trainers import BpeTrainer\n",
    "from tokenizers.pre_tokenizers import Punctuation\n",
    "from io import StringIO\n",
    "\n",
    "import sys"
   ]
  },
  {
   "cell_type": "code",
   "execution_count": 5,
   "id": "f1bbf484",
   "metadata": {},
   "outputs": [],
   "source": [
    "sys.path.append(\"../../\")\n",
    "\n",
    "from ChEmbed.data import chembldb"
   ]
  },
  {
   "cell_type": "code",
   "execution_count": 6,
   "id": "4a049e40",
   "metadata": {},
   "outputs": [],
   "source": [
    "chembl = chembldb.ChemblDB()\n"
   ]
  },
  {
   "cell_type": "code",
   "execution_count": 10,
   "id": "2b91b41f",
   "metadata": {},
   "outputs": [],
   "source": [
    "db = chembl._load_or_download()"
   ]
  },
  {
   "cell_type": "code",
   "execution_count": 11,
   "id": "0e4f2a9e",
   "metadata": {},
   "outputs": [],
   "source": [
    "text = chembl._preprocess(db, \"canonical_smiles\")"
   ]
  },
  {
   "cell_type": "code",
   "execution_count": 12,
   "id": "433a045f",
   "metadata": {},
   "outputs": [],
   "source": [
    "with open(\"chembldb_raw_smiles.txt\", 'w') as f:\n",
    "    f.write(text)"
   ]
  },
  {
   "cell_type": "code",
   "execution_count": 13,
   "id": "cfcf9a8a",
   "metadata": {},
   "outputs": [
    {
     "ename": "AttributeError",
     "evalue": "'ChemblDB' object has no attribute '_tokenize'",
     "output_type": "error",
     "traceback": [
      "\u001b[0;31m---------------------------------------------------------------------------\u001b[0m",
      "\u001b[0;31mAttributeError\u001b[0m                            Traceback (most recent call last)",
      "Cell \u001b[0;32mIn[13], line 1\u001b[0m\n\u001b[0;32m----> 1\u001b[0m tokenizer \u001b[38;5;241m=\u001b[39m \u001b[43mchembl\u001b[49m\u001b[38;5;241;43m.\u001b[39;49m\u001b[43m_tokenize\u001b[49m(\u001b[38;5;124m\"\u001b[39m\u001b[38;5;124mchembldb_raw_smiles.txt\u001b[39m\u001b[38;5;124m\"\u001b[39m)\n",
      "\u001b[0;31mAttributeError\u001b[0m: 'ChemblDB' object has no attribute '_tokenize'"
     ]
    }
   ],
   "source": [
    "tokenizer = chembl._tokenize(\"chembldb_raw_smiles.txt\")"
   ]
  },
  {
   "cell_type": "code",
   "execution_count": null,
   "id": "48aed239",
   "metadata": {},
   "outputs": [],
   "source": [
    "# Only want to save this once, not every re-run.\n",
    "# tokenizer.save(\"tokenizer-chembldb-16-06-2025.json\")"
   ]
  },
  {
   "cell_type": "code",
   "execution_count": null,
   "id": "e494ba5b",
   "metadata": {},
   "outputs": [],
   "source": [
    "# Inspect the vocab directly\n",
    "print(tokenizer.get_vocab())  # Get the vocabulary dictionary"
   ]
  },
  {
   "cell_type": "code",
   "execution_count": 25,
   "id": "7277dc91",
   "metadata": {},
   "outputs": [],
   "source": [
    "test_molecule = \"COc1c(O)cc(O)c(C(=N)Cc2ccc(O)cc2)c1O\""
   ]
  },
  {
   "cell_type": "code",
   "execution_count": 26,
   "id": "576d6d2e",
   "metadata": {},
   "outputs": [],
   "source": [
    "encoded_molecule = tokenizer.encode(test_molecule)"
   ]
  },
  {
   "cell_type": "code",
   "execution_count": 27,
   "id": "5b4cc1f3",
   "metadata": {},
   "outputs": [
    {
     "name": "stdout",
     "output_type": "stream",
     "text": [
      "['COc1c', '(', 'O', ')', 'cc', '(', 'O', ')', 'c', '(', 'C', '(', '=', 'N', ')', 'Cc2ccc', '(', 'O', ')', 'cc2', ')', 'c1O']\n"
     ]
    }
   ],
   "source": [
    "print(encoded_molecule.tokens)"
   ]
  },
  {
   "cell_type": "code",
   "execution_count": null,
   "id": "8ff6fd3a",
   "metadata": {},
   "outputs": [],
   "source": []
  }
 ],
 "metadata": {
  "kernelspec": {
   "display_name": "Python 3 (ipykernel)",
   "language": "python",
   "name": "python3"
  },
  "language_info": {
   "codemirror_mode": {
    "name": "ipython",
    "version": 3
   },
   "file_extension": ".py",
   "mimetype": "text/x-python",
   "name": "python",
   "nbconvert_exporter": "python",
   "pygments_lexer": "ipython3",
   "version": "3.9.21"
  }
 },
 "nbformat": 4,
 "nbformat_minor": 5
}
