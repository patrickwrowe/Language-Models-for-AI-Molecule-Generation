{
 "cells": [
  {
   "cell_type": "code",
   "execution_count": 1,
   "id": "ff066417",
   "metadata": {},
   "outputs": [],
   "source": [
    "import pandas as pd\n",
    "import pathlib\n",
    "import attr\n",
    "from tokenizers import Tokenizer\n",
    "from tokenizers.models import BPE\n",
    "from tokenizers.trainers import BpeTrainer\n",
    "from io import StringIO"
   ]
  },
  {
   "cell_type": "code",
   "execution_count": null,
   "id": "a5870593",
   "metadata": {},
   "outputs": [],
   "source": [
    "@attr.define\n",
    "class ChemblDB:\n",
    "\n",
    "    chemreps_filepath: pathlib.Path = pathlib.Path(\"../raw-data/chembldb/chembl_35_chemreps.txt.gz\")\n",
    "\n",
    "    def _load_or_download(self):\n",
    "        \"\"\"TBD: Download file from source instead of needing to pre-download\"\"\"\n",
    "        if not pathlib.Path.exists(self.chemreps_filepath):\n",
    "            raise FileNotFoundError(f\"${self.chemreps_filepath} was not found. Please download from https://ftp.ebi.ac.uk/pub/databases/chembl/ChEMBLdb/latest/\")\n",
    "        else:\n",
    "            chembldb_chemreps_raw_pd = pd.read_table(\n",
    "                pathlib.Path(self.chemreps_filepath), \n",
    "                compression=\"gzip\"\n",
    "            )\n",
    "            return chembldb_chemreps_raw_pd\n",
    "\n",
    "    def _preprocess(self, chemrepsdb, column):\n",
    "        db_column = chemrepsdb[column].to_list()\n",
    "        text = '[EOM]'.join([col for col in db_column])\n",
    "        return text\n",
    "\n",
    "    def _tokenize(self, filepath, vocab_size=1024):\n",
    "        tokenizer = Tokenizer(BPE(unk_token='[UNK]'))\n",
    "        trainer = BpeTrainer(special_tokens=[\"[UNK]\", \"[EOM]\"], vocab_size=vocab_size)\n",
    "\n",
    "        # Do we need more special tokens?\n",
    "        # special_tokens=[\"[UNK]\", \"[CLS]\", \"[SEP]\", \"[PAD]\", \"[MASK]\"]\n",
    "\n",
    "        # Include pre-tokenizer for punctuation?\n",
    "\n",
    "        tokenizer.train(\n",
    "            [filepath],\n",
    "            trainer,\n",
    "        )\n",
    "\n",
    "        return tokenizer\n"
   ]
  },
  {
   "cell_type": "code",
   "execution_count": 60,
   "id": "4a049e40",
   "metadata": {},
   "outputs": [],
   "source": [
    "chembl = ChemblDB()\n"
   ]
  },
  {
   "cell_type": "code",
   "execution_count": 61,
   "id": "2b91b41f",
   "metadata": {},
   "outputs": [],
   "source": [
    "db = chembl._load_or_download()"
   ]
  },
  {
   "cell_type": "code",
   "execution_count": 62,
   "id": "0e4f2a9e",
   "metadata": {},
   "outputs": [],
   "source": [
    "text = chembl._preprocess(db, \"canonical_smiles\")"
   ]
  },
  {
   "cell_type": "code",
   "execution_count": 63,
   "id": "272e0b47",
   "metadata": {},
   "outputs": [
    {
     "name": "stdout",
     "output_type": "stream",
     "text": [
      "Cc1cc(-c2csc(N=C(N)N)n2)cn1C[EOM]CC[C@H](C)[C@H](NC(=O)[C@H](CC(C)C)NC(=O)[C@@H](NC(=O)[C@@H](N)CCSC)[C@@H](C)O)C(=O)NCC(=O)N[C@@H](C)C(=O)N[C@@H](C)C(=O)N[C@@H](Cc1c[nH]cn1)C(=O)N[C@@H](CC(N)=O)C(=O)NCC(=O)N[C@@H](C)C(=O)N[C@@H](C)C(=O)N[C@@H](CCC(N)=O)C(=O)N[C@@H](CC(C)C)C(=O)N[C@@H](CC(C)C)C(=O)N[C@@H](CCCN=C(N)N)C(=O)N[C@@H](CCC(N)=O)C(=O)N[C@@H](CC(C)C)C(=O)N[C@@H](CCCN=C(N)N)C(=O)NCC(=O)N[C@@H](CCC(N)=O)C(=O)N[C@@H](CC(C)C)C(=O)NCC(=O)N1CCC[C@H]1C(=O)N1CCC[C@H]1C(=O)NCC(=O)N[C@@H](CO)C(=O)N[C@@H](CCCN=C(N)N)C(N)=O[EOM]CCCC[C@@H]1NC(=O)[C@@H](NC(=O)[C@H](CC(C)C)NC(=O)[C@@H](NC(=O)[C@H](CCC(=O)O)NC(=O)[C@H](CCCN=C(N)N)NC(=O)[C@H](CC(C)C)NC(=O)[C@H](CC(C)C)NC(=O)[C@H](Cc2c[nH]cn2)NC(=O)[C@H](N)Cc2ccccc2)C(C)C)CCC(=O)NCCCC[C@@H](C(=O)N[C@@H](CCC(N)=O)C(=O)N[C@@H](CC(C)C)C(=O)N[C@@H](C)C(=O)N[C@@H](CCC(N)=O)C(=O)N[C@@H](CCC(N)=O)C(=O)N[C@@H](C)C(=O)N[C@@H](Cc2c[nH]cn2)C(=O)N[C@@H](CO)C(=O)N[C@@H](CC(N)=O)C(=O)N[C@@H](CCCN=C(N)N)C(=O)N[C@@H](CCCCN)C(=O)N[C@@H](CC(C)C)C(=O)N[C@@H](CCCC)C(=O)N[C@@H](CCC(=O)O)C(=O)N[C@H](C(=O)N[C@H](C(=O)C(N)=O)[C@@H](C)CC)[C@@H](C)CC)NC(=O)[C@H](C)NC(=O)[C@H](CCCN=C(N)N)NC(=O)[C@H](C)NC1=O[EOM]CC(C)C[C@@H]1NC(=O)CNC(=O)[C@H](c2ccc(O)cc2)NC(=O)[C@@H]([C@@H](C)O)NC(=O)[C@H](c2ccc(O[C@H]3O[C@H](CO)[C@@H](O)[C@H](O)[C@@H]3O[C@H]3O[C@H](CO)[C@@H](O)[C@H](O)[C@@H]3O)cc2)NC(=O)[C@@H](CCCN)NC(=O)[C@H](Cc2ccccc2)NC(=O)[C@H]([C@@H](C)O)NC(=O)[C@@H](c2ccc(O)cc2)NC(=O)[C@H](c2ccc(O)cc2)NC(=O)[C@@H](C(C)C)NC(=O)[C@@H](CCCN)NC(=O)[C@@H](c2ccc(O)cc2)NC(=O)[C@@H](CNC(=O)[C@H](CC(N)=O)NC(=O)Cc2cccc3ccccc23)[C@@H](C(N)=O)OC(=O)[C@H](c2ccc(O)c(Cl)c2)NC(=O)[C@@H](C)NC1=O[EOM]Brc1cccc(Nc2ncnc3ccncc23)c1NCCN1CCOCC1[EOM]COc1c(O)cc(O)c(C(=N)Cc2ccc(O)cc2)c1O[EOM]CCOC(=O)c1cc2cc(C(=O)O)ccc2[nH]1[EOM]CC(=O)O[C@@H]1[C@@H](OC(C)=O)/C(C)=C\\[C@@H]2OC(=O)[C@]3(C)O[C@]23[C@H](OC(C)=O)[C@H]2[C@](C)(O)[C@H](O)C=C[C@]2(C)[C@H]1OC(C)=O[EOM]C[C@H](NC(=O)OCc1ccccc1)C(=O)N[C@@H](C)C(=O)NN(CC(N)=O)C(=O)/C=C/C(=O)N(Cc1ccco1)Cc1ccco1[EOM]CO[C@H]1C[C@H](COC[C@H]2[C@@H](OC)C[C@H](O[C@H]3CC[C@@]4(C)C(=CC[C@]5(O)[C@@H]4C[C@@H](OC(=O)/C=C/c4ccccc4)[C@@]4(C)[C@]5(O)CC[C@@]4(O)C(C)=O)C3)O[C@@H]2C)O[C@@H](C)[C@H]1COC[C@H]1C[C@H](OC)[C@H](COC[C@H]2C[C@@H](OC)[C@@H](O[C@H]3O[C@@H](CO)[C@H](O)[C@@H](O)[C@@H]3O)[C@H](C)O2)[C@@H](C)O1[EOM]COc1ccc2c(c1OC)C(CC1(C)C=Cc3c(c4cccc(OC)c4n(C)c3=O)O1)N(C)c1c-2ccc2cc3c(cc12)OCO3[EOM]CC(C)C[C@H](NC(=O)[C@H](Cc1cnc[nH]1)NC(=O)[C@H](Cc1c[nH]c2ccccc12)NC(=O)[C@@H]1CCCN1C(=O)[C@@H](N)CS)C(=O)N[C@@H](CC(C)C)C(=O)N1CCC[C@H]1C(=O)N[C@@H](Cc1ccccc1)C(=O)N[C@@H](CS)C(=O)O[EOM]CC(C)=C[C@H]1C[C@](C)(O)[C@@H]2[C@H]3CC[C@@H]4[C@@]5(C)CC[C@H](O[C@@H]6OC[C@H](O)[C@H](O[C@@H]7O[C@H](CO)[C@@H](O)[C@H](O)[C@H]7O)[C@H]6O[C@@H]6O[C@@H](COC(=O)CC(=O)O)[C@H](O)[C@H]6O)C(C)(C)[C@@H]5CC[C@@]4(C)[C@@]34CO[C@@]2(C4)O1[EOM]CCn1c2ccc3cc2c2cc(ccc21)C(=O)c1ccc(cc1)Cn1cc[n+](c1)Cc1ccc(cc1)-c1cccc(c1C(=O)O)-c1ccc(cc1)C[n+]1ccn(c1)Cc1ccc(cc1)C3=O.[Br-].[Br-][EOM]COc1cccc(CNC2(CCC(C)(C)C)C(=O)C(C3=NS(=O)(=O)c4cc(NS(C)(=O)=O)ccc4N3)=C(O)c3ccccc32)c1[EOM]CCCCC[C@H]1CCCCCCCCCC(=O)O[C@@H]2[C@@H](O[C@@H]3O[C@H](C)[C@@H](OC(=O)C(C)CC)[C@H](O)[C@H]3O)[C@H](C)O[C@@H](O[C@H]3[C@H](O[C@H]4[C@H](O1)O[C@H](C)[C@@H](O)[C@@H]4O)O[C@H](CO)[C@@H](O)[C@@H]3O)[C@@H]2OC(=O)C(C)CC[EOM]C[C@H]1CN(CCC(=O)N[C@@H](CCc2ccccc2)C(=O)O)CC[C@@]1(C)c1cccc(O)c1[EOM]O=C(NO)c1ccc(I)cc1[EOM]C=CCc1ccc(OC(=O)C23CC4CC(CC(C4)C2)C3)c(OC)c1[EOM]Cc1cccc(N2CCN(CCCON3C(=O)c4ccccc4C3=O)CC2)c1[EOM]N=c1sc2ccccc2n1CCN1CCC(c2ccc(F)cc2)CC1[EOM]CCCCCCCCCCCCCC(=O)NCc1ccc(C(=O)N[C@H](C(=O)O)[C@@H](C)CC)cc1[EOM]O=C(Nc1ncc(F)s1)[C@H](CC1CCOCC1)c1ccc(S(=O)(=O)C2CC2)cc1[EOM]Oc1ccc(/N=C(/Cc2ccc(Cl)cc2)c2ccc(O)c(O)c2O)cc1[EOM]CCCC[C@H](NC(=O)[C@H](CCC(=O)O)NC(=O)[C@H](CC(C)C)NC(=O)[C@@H](NC(=O)[C@@H]1CCCCNC(=O)CC[C@@H](NC(=O)[C@H](Cc2c[nH]cn2)NC(=O)[C@@H](N)Cc2ccccc2)C(=O)N[C@H](CC(C)C)C(=O)N[C@@H](CCCN=C(N)N)C(=O)N1)C(C)C)C(=O)N[C@@H](C)C(=O)N[C@@H](CCCN=C(N)N)C(=O)N[C@@H](C)C(=O)N[C@@H](CCC(=O)O)C(=O)N[C@@H](CCC(N)=O)C(=O)N[C@@H](CC(C)C)C(=O)N[C@@H](C)C(=O)N[C@@H](CCC(N)=O)C(=O)N[C@@H](CCC(N)=O)C(=O)N[C@@H](C)C(=O)N[C@@H](Cc1c[nH]cn1)C(=O)N[C@@H](CO)C(=O)N[C@@H](CC(N)=O)C(=O)N[C@@H](CCCN=C(N)N)C(=O)N[C@@H](CCCCN)C(=O)N[C@@H](CC(C)C)C(=O)N[C@@H](CCCC)C(=O)N[C@@H](CCC(=O)O)C(=O)N[C@H](C(=O)N[C@H](C(N)=O)[C@H](C)CC)[C@@H](C)CC[EOM]COC1=C2C[C@@H](O)CC[C@]2(C)[C@H]2CC[C@@]3(C)[C@@H](CC(=O)[C@]3(O)[C@H](C)[C@H](CCC(C)C)O[C@@H]3OC[C@H](O)[C@H](O[C@@H]4OC[C@@H](O)[C@H](O)[C@H]4OC(=O)c4ccc(OC)cc4)[C@H]3OC(C)=O)[C@@H]2C1[EOM]CO[C@@H]1[C@H](O)[C@@H](C)O[C@@H](OC[C@H]2[C@@H]3O[C@@H]3/C=C/C(=O)[C@H](C)CC[C@H](O[C@@H]3O[C@H](C)C[C@H](O)[C@H]3O)[C@@H](C)/C=C/C(=O)O[C@@H]2C)[C@@H]1OC[EOM]COc1cc(C(O)C(COC(=O)/C=C/c2ccc(O)cc2)Oc2c(OC)cc(/C=C/COC(=O)/C=C/c3ccc(O)cc3)cc2OC)ccc1O[EOM]COc1cc(O)c(-c2cc(-c3cc(-c4c(O)cc(O)c5c4C[C@@H](C)N[C@@H]5C)c4cc(C)cc(OC)c4c3O)c(O)c3c(OC)cc(C)cc23)c2c1C(C)=N[C@H](C)C2[EOM]C[C@@H]1O[C@@H](O[C@H]2[C@H](O[C@@H]3C[C@H](O)CC4=CC[C@H]5[C@@H]6C[C@@H]7O[C@]8(C[C@H](O)[C@@H](C)CO8)[C@@H](C)[C@@H]7[C@@]6(C)CC[C@@H]5[C@]43C)OC[C@H](O)[C@@H]2O[C@@H]2OC[C@@H](O)[C@H](O)[C@H]2O)[C@\n"
     ]
    }
   ],
   "source": [
    "print(text[:5000])\n",
    "text = text[:50000]"
   ]
  },
  {
   "cell_type": "code",
   "execution_count": 64,
   "id": "433a045f",
   "metadata": {},
   "outputs": [],
   "source": [
    "with open(\"raw_smiles.txt\", 'w') as f:\n",
    "    f.write(text)"
   ]
  },
  {
   "cell_type": "code",
   "execution_count": 65,
   "id": "cfcf9a8a",
   "metadata": {},
   "outputs": [
    {
     "name": "stdout",
     "output_type": "stream",
     "text": [
      "\n",
      "\n",
      "\n"
     ]
    }
   ],
   "source": [
    "_tokenizer = chembl._tokenize(\"raw_smiles.txt\")"
   ]
  },
  {
   "cell_type": "code",
   "execution_count": null,
   "id": "48aed239",
   "metadata": {},
   "outputs": [],
   "source": [
    "\n",
    "_tokenizer.save(\"tokenizer-chembldb.json\")"
   ]
  },
  {
   "cell_type": "code",
   "execution_count": 66,
   "id": "e494ba5b",
   "metadata": {},
   "outputs": [
    {
     "data": {
      "text/plain": [
       "{'[C@@H](O)': 90,\n",
       " '[C': 44,\n",
       " '[C@@H](': 56,\n",
       " '1)': 93,\n",
       " 'P': 31,\n",
       " 'C(N)=O)': 86,\n",
       " '[C@H](': 55,\n",
       " 'S': 32,\n",
       " 'c': 37,\n",
       " '2)': 87,\n",
       " 'N)': 59,\n",
       " 'cccc': 71,\n",
       " 'C(C)': 68,\n",
       " '[C@': 45,\n",
       " '6': 16,\n",
       " 'H](': 50,\n",
       " 'NC(=O)[C@H](C': 74,\n",
       " '-': 7,\n",
       " '1': 11,\n",
       " '[C@H]1': 92,\n",
       " 'r': 41,\n",
       " '[C@H]': 69,\n",
       " 'ccc(': 78,\n",
       " '@': 21,\n",
       " 'O)': 43,\n",
       " 'c1ccc(': 95,\n",
       " 'c2': 61,\n",
       " '4': 14,\n",
       " 'C(=O)N[C@@H](C': 81,\n",
       " '9': 19,\n",
       " 'H': 26,\n",
       " 'C(=O)N': 58,\n",
       " '#': 2,\n",
       " '0': 10,\n",
       " '[EOM]': 1,\n",
       " '=': 20,\n",
       " 'H]': 46,\n",
       " '%': 3,\n",
       " '5': 15,\n",
       " ']': 35,\n",
       " '(C)': 76,\n",
       " '[C@@H](C)': 89,\n",
       " '[C@@H]': 70,\n",
       " 'EO': 65,\n",
       " ')': 5,\n",
       " '(': 4,\n",
       " 'cc': 49,\n",
       " 'C(=O)N[C@@H](': 62,\n",
       " 'I': 27,\n",
       " 's': 42,\n",
       " '=O)': 48,\n",
       " '.': 8,\n",
       " '2': 12,\n",
       " 'E': 24,\n",
       " 'o': 40,\n",
       " '[': 33,\n",
       " '[UNK]': 0,\n",
       " 'NC(=O)[C@@H](': 83,\n",
       " 'a': 36,\n",
       " 'C(N)': 73,\n",
       " 'C(': 47,\n",
       " 'C': 23,\n",
       " 'M': 28,\n",
       " '[C@@': 53,\n",
       " 'NC(=O)[C@H](': 63,\n",
       " '[EO': 67,\n",
       " 'C(C)C)': 79,\n",
       " 'c3': 82,\n",
       " 'C(=O)N[C@H](': 94,\n",
       " 'O[C@@H]': 91,\n",
       " 'n': 39,\n",
       " '[EOM]C': 75,\n",
       " 'C(=O)O)': 84,\n",
       " 'F': 25,\n",
       " 'CCCC': 77,\n",
       " 'NC(=O)': 57,\n",
       " 'c1': 60,\n",
       " '3': 13,\n",
       " '\\\\': 34,\n",
       " 'C(=O)': 51,\n",
       " 'C)': 54,\n",
       " 'M]': 66,\n",
       " 'c2cccc': 88,\n",
       " '[C@H](O)': 85,\n",
       " 'CC': 52,\n",
       " 'c(': 64,\n",
       " 'O': 30,\n",
       " 'N': 29,\n",
       " '/': 9,\n",
       " 'l': 38,\n",
       " '+': 6,\n",
       " '7': 17,\n",
       " '8': 18,\n",
       " 'B': 22,\n",
       " 'CCC': 72,\n",
       " 'CCCN': 80}"
      ]
     },
     "execution_count": 66,
     "metadata": {},
     "output_type": "execute_result"
    }
   ],
   "source": [
    "# Inspect the vocab directly\n",
    "_tokenizer.get_vocab()  # Get the vocabulary dictionary"
   ]
  },
  {
   "cell_type": "code",
   "execution_count": 10,
   "id": "7277dc91",
   "metadata": {},
   "outputs": [],
   "source": [
    "test_molecule = \"COc1c(O)cc(O)c(C(=N)Cc2ccc(O)cc2)c1O\""
   ]
  },
  {
   "cell_type": "code",
   "execution_count": null,
   "id": "576d6d2e",
   "metadata": {},
   "outputs": [],
   "source": [
    "encoded_molecule = _tokenizer.encode(test_molecule)"
   ]
  },
  {
   "cell_type": "code",
   "execution_count": 14,
   "id": "5b4cc1f3",
   "metadata": {},
   "outputs": [
    {
     "name": "stdout",
     "output_type": "stream",
     "text": [
      "['CO', 'c1c(', 'O)', 'cc(', 'O)c(', 'C(=N)', 'Cc2ccc(O)cc2)', 'c1', 'O']\n"
     ]
    }
   ],
   "source": [
    "print(encoded_molecule.tokens)"
   ]
  }
 ],
 "metadata": {
  "kernelspec": {
   "display_name": "main",
   "language": "python",
   "name": "python3"
  },
  "language_info": {
   "codemirror_mode": {
    "name": "ipython",
    "version": 3
   },
   "file_extension": ".py",
   "mimetype": "text/x-python",
   "name": "python",
   "nbconvert_exporter": "python",
   "pygments_lexer": "ipython3",
   "version": "3.12.3"
  }
 },
 "nbformat": 4,
 "nbformat_minor": 5
}
