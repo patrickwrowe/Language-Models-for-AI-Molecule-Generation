{
 "cells": [
  {
   "cell_type": "code",
   "execution_count": 2,
   "id": "ff066417",
   "metadata": {},
   "outputs": [],
   "source": [
    "import pandas as pd\n",
    "import pathlib\n",
    "import attr\n",
    "from tokenizers import Tokenizer\n",
    "from tokenizers.models import BPE\n",
    "from tokenizers.trainers import BpeTrainer\n",
    "from tokenizers.pre_tokenizers import Punctuation\n",
    "from io import StringIO\n",
    "\n",
    "import sys"
   ]
  },
  {
   "cell_type": "code",
   "execution_count": 69,
   "id": "a5870593",
   "metadata": {},
   "outputs": [],
   "source": [
    "@attr.define\n",
    "class ChemblDB:\n",
    "\n",
    "    chemreps_filepath: pathlib.Path = pathlib.Path(\"../raw-data/chembldb/chembl_35_chemreps.txt.gz\")\n",
    "\n",
    "    def _load_or_download(self):\n",
    "        \"\"\"TBD: Download file from source instead of needing to pre-download\"\"\"\n",
    "        if not pathlib.Path.exists(self.chemreps_filepath):\n",
    "            raise FileNotFoundError(f\"${self.chemreps_filepath} was not found. Please download from https://ftp.ebi.ac.uk/pub/databases/chembl/ChEMBLdb/latest/\")\n",
    "        else:\n",
    "            chembldb_chemreps_raw_pd = pd.read_table(\n",
    "                pathlib.Path(self.chemreps_filepath), \n",
    "                compression=\"gzip\"\n",
    "            )\n",
    "            return chembldb_chemreps_raw_pd\n",
    "\n",
    "    def _preprocess(self, chemrepsdb, column):\n",
    "        db_column = chemrepsdb[column].to_list()\n",
    "        text = '[EOM]'.join([col for col in db_column])\n",
    "        return text\n",
    "\n",
    "    def _tokenize(self, filepath, vocab_size=1024):\n",
    "        tokenizer = Tokenizer(BPE(unk_token='[UNK]'))\n",
    "        trainer = BpeTrainer(special_tokens=[\"[UNK]\", \"[EOM]\"], vocab_size=vocab_size)\n",
    "\n",
    "        # Do we need more special tokens?\n",
    "        # special_tokens=[\"[UNK]\", \"[CLS]\", \"[SEP]\", \"[PAD]\", \"[MASK]\"]\n",
    "\n",
    "        # Include pre-tokenizer for punctuation\n",
    "        tokenizer.pre_tokenizer = Punctuation()\n",
    "\n",
    "        tokenizer.train(\n",
    "            [filepath],\n",
    "            trainer,\n",
    "        )\n",
    "\n",
    "        return tokenizer\n"
   ]
  },
  {
   "cell_type": "code",
   "execution_count": 70,
   "id": "4a049e40",
   "metadata": {},
   "outputs": [],
   "source": [
    "chembl = ChemblDB()\n"
   ]
  },
  {
   "cell_type": "code",
   "execution_count": 71,
   "id": "2b91b41f",
   "metadata": {},
   "outputs": [],
   "source": [
    "db = chembl._load_or_download()"
   ]
  },
  {
   "cell_type": "code",
   "execution_count": null,
   "id": "0e4f2a9e",
   "metadata": {},
   "outputs": [],
   "source": [
    "text = chembl._preprocess(db, \"canonical_smiles\")"
   ]
  },
  {
   "cell_type": "code",
   "execution_count": 73,
   "id": "272e0b47",
   "metadata": {},
   "outputs": [
    {
     "name": "stdout",
     "output_type": "stream",
     "text": [
      "Cc1cc(-c2csc(N=C(N)N)n2)cn1C[EOM]CC[C@H](C)[C@H](NC(=O)[C@H](CC(C)C)NC(=O)[C@@H](NC(=O)[C@@H](N)CCSC)[C@@H](C)O)C(=O)NCC(=O)N[C@@H](C)C(=O)N[C@@H](C)C(=O)N[C@@H](Cc1c[nH]cn1)C(=O)N[C@@H](CC(N)=O)C(=O)NCC(=O)N[C@@H](C)C(=O)N[C@@H](C)C(=O)N[C@@H](CCC(N)=O)C(=O)N[C@@H](CC(C)C)C(=O)N[C@@H](CC(C)C)C(=O)N[C@@H](CCCN=C(N)N)C(=O)N[C@@H](CCC(N)=O)C(=O)N[C@@H](CC(C)C)C(=O)N[C@@H](CCCN=C(N)N)C(=O)NCC(=O)N[C@@H](CCC(N)=O)C(=O)N[C@@H](CC(C)C)C(=O)NCC(=O)N1CCC[C@H]1C(=O)N1CCC[C@H]1C(=O)NCC(=O)N[C@@H](CO)C(=O)N[C@@H](CCCN=C(N)N)C(N)=O[EOM]CCCC[C@@H]1NC(=O)[C@@H](NC(=O)[C@H](CC(C)C)NC(=O)[C@@H](NC(=O)[C@H](CCC(=O)O)NC(=O)[C@H](CCCN=C(N)N)NC(=O)[C@H](CC(C)C)NC(=O)[C@H](CC(C)C)NC(=O)[C@H](Cc2c[nH]cn2)NC(=O)[C@H](N)Cc2ccccc2)C(C)C)CCC(=O)NCCCC[C@@H](C(=O)N[C@@H](CCC(N)=O)C(=O)N[C@@H](CC(C)C)C(=O)N[C@@H](C)C(=O)N[C@@H](CCC(N)=O)C(=O)N[C@@H](CCC(N)=O)C(=O)N[C@@H](C)C(=O)N[C@@H](Cc2c[nH]cn2)C(=O)N[C@@H](CO)C(=O)N[C@@H](CC(N)=O)C(=O)N[C@@H](CCCN=C(N)N)C(=O)N[C@@H](CCCCN)C(=O)N[C@@H](CC(C)C)C(=O)N[C@@H](CCCC)C(=O)N[C@@H](CCC(=O)O)C(=O)N[C@H](C(=O)N[C@H](C(=O)C(N)=O)[C@@H](C)CC)[C@@H](C)CC)NC(=O)[C@H](C)NC(=O)[C@H](CCCN=C(N)N)NC(=O)[C@H](C)NC1=O[EOM]CC(C)C[C@@H]1NC(=O)CNC(=O)[C@H](c2ccc(O)cc2)NC(=O)[C@@H]([C@@H](C)O)NC(=O)[C@H](c2ccc(O[C@H]3O[C@H](CO)[C@@H](O)[C@H](O)[C@@H]3O[C@H]3O[C@H](CO)[C@@H](O)[C@H](O)[C@@H]3O)cc2)NC(=O)[C@@H](CCCN)NC(=O)[C@H](Cc2ccccc2)NC(=O)[C@H]([C@@H](C)O)NC(=O)[C@@H](c2ccc(O)cc2)NC(=O)[C@H](c2ccc(O)cc2)NC(=O)[C@@H](C(C)C)NC(=O)[C@@H](CCCN)NC(=O)[C@@H](c2ccc(O)cc2)NC(=O)[C@@H](CNC(=O)[C@H](CC(N)=O)NC(=O)Cc2cccc3ccccc23)[C@@H](C(N)=O)OC(=O)[C@H](c2ccc(O)c(Cl)c2)NC(=O)[C@@H](C)NC1=O[EOM]Brc1cccc(Nc2ncnc3ccncc23)c1NCCN1CCOCC1[EOM]COc1c(O)cc(O)c(C(=N)Cc2ccc(O)cc2)c1O[EOM]CCOC(=O)c1cc2cc(C(=O)O)ccc2[nH]1[EOM]CC(=O)O[C@@H]1[C@@H](OC(C)=O)/C(C)=C\\[C@@H]2OC(=O)[C@]3(C)O[C@]23[C@H](OC(C)=O)[C@H]2[C@](C)(O)[C@H](O)C=C[C@]2(C)[C@H]1OC(C)=O[EOM]C[C@H](NC(=O)OCc1ccccc1)C(=O)N[C@@H](C)C(=O)NN(CC(N)=O)C(=O)/C=C/C(=O)N(Cc1ccco1)Cc1ccco1[EOM]CO[C@H]1C[C@H](COC[C@H]2[C@@H](OC)C[C@H](O[C@H]3CC[C@@]4(C)C(=CC[C@]5(O)[C@@H]4C[C@@H](OC(=O)/C=C/c4ccccc4)[C@@]4(C)[C@]5(O)CC[C@@]4(O)C(C)=O)C3)O[C@@H]2C)O[C@@H](C)[C@H]1COC[C@H]1C[C@H](OC)[C@H](COC[C@H]2C[C@@H](OC)[C@@H](O[C@H]3O[C@@H](CO)[C@H](O)[C@@H](O)[C@@H]3O)[C@H](C)O2)[C@@H](C)O1[EOM]COc1ccc2c(c1OC)C(CC1(C)C=Cc3c(c4cccc(OC)c4n(C)c3=O)O1)N(C)c1c-2ccc2cc3c(cc12)OCO3[EOM]CC(C)C[C@H](NC(=O)[C@H](Cc1cnc[nH]1)NC(=O)[C@H](Cc1c[nH]c2ccccc12)NC(=O)[C@@H]1CCCN1C(=O)[C@@H](N)CS)C(=O)N[C@@H](CC(C)C)C(=O)N1CCC[C@H]1C(=O)N[C@@H](Cc1ccccc1)C(=O)N[C@@H](CS)C(=O)O[EOM]CC(C)=C[C@H]1C[C@](C)(O)[C@@H]2[C@H]3CC[C@@H]4[C@@]5(C)CC[C@H](O[C@@H]6OC[C@H](O)[C@H](O[C@@H]7O[C@H](CO)[C@@H](O)[C@H](O)[C@H]7O)[C@H]6O[C@@H]6O[C@@H](COC(=O)CC(=O)O)[C@H](O)[C@H]6O)C(C)(C)[C@@H]5CC[C@@]4(C)[C@@]34CO[C@@]2(C4)O1[EOM]CCn1c2ccc3cc2c2cc(ccc21)C(=O)c1ccc(cc1)Cn1cc[n+](c1)Cc1ccc(cc1)-c1cccc(c1C(=O)O)-c1ccc(cc1)C[n+]1ccn(c1)Cc1ccc(cc1)C3=O.[Br-].[Br-][EOM]COc1cccc(CNC2(CCC(C)(C)C)C(=O)C(C3=NS(=O)(=O)c4cc(NS(C)(=O)=O)ccc4N3)=C(O)c3ccccc32)c1[EOM]CCCCC[C@H]1CCCCCCCCCC(=O)O[C@@H]2[C@@H](O[C@@H]3O[C@H](C)[C@@H](OC(=O)C(C)CC)[C@H](O)[C@H]3O)[C@H](C)O[C@@H](O[C@H]3[C@H](O[C@H]4[C@H](O1)O[C@H](C)[C@@H](O)[C@@H]4O)O[C@H](CO)[C@@H](O)[C@@H]3O)[C@@H]2OC(=O)C(C)CC[EOM]C[C@H]1CN(CCC(=O)N[C@@H](CCc2ccccc2)C(=O)O)CC[C@@]1(C)c1cccc(O)c1[EOM]O=C(NO)c1ccc(I)cc1[EOM]C=CCc1ccc(OC(=O)C23CC4CC(CC(C4)C2)C3)c(OC)c1[EOM]Cc1cccc(N2CCN(CCCON3C(=O)c4ccccc4C3=O)CC2)c1[EOM]N=c1sc2ccccc2n1CCN1CCC(c2ccc(F)cc2)CC1[EOM]CCCCCCCCCCCCCC(=O)NCc1ccc(C(=O)N[C@H](C(=O)O)[C@@H](C)CC)cc1[EOM]O=C(Nc1ncc(F)s1)[C@H](CC1CCOCC1)c1ccc(S(=O)(=O)C2CC2)cc1[EOM]Oc1ccc(/N=C(/Cc2ccc(Cl)cc2)c2ccc(O)c(O)c2O)cc1[EOM]CCCC[C@H](NC(=O)[C@H](CCC(=O)O)NC(=O)[C@H](CC(C)C)NC(=O)[C@@H](NC(=O)[C@@H]1CCCCNC(=O)CC[C@@H](NC(=O)[C@H](Cc2c[nH]cn2)NC(=O)[C@@H](N)Cc2ccccc2)C(=O)N[C@H](CC(C)C)C(=O)N[C@@H](CCCN=C(N)N)C(=O)N1)C(C)C)C(=O)N[C@@H](C)C(=O)N[C@@H](CCCN=C(N)N)C(=O)N[C@@H](C)C(=O)N[C@@H](CCC(=O)O)C(=O)N[C@@H](CCC(N)=O)C(=O)N[C@@H](CC(C)C)C(=O)N[C@@H](C)C(=O)N[C@@H](CCC(N)=O)C(=O)N[C@@H](CCC(N)=O)C(=O)N[C@@H](C)C(=O)N[C@@H](Cc1c[nH]cn1)C(=O)N[C@@H](CO)C(=O)N[C@@H](CC(N)=O)C(=O)N[C@@H](CCCN=C(N)N)C(=O)N[C@@H](CCCCN)C(=O)N[C@@H](CC(C)C)C(=O)N[C@@H](CCCC)C(=O)N[C@@H](CCC(=O)O)C(=O)N[C@H](C(=O)N[C@H](C(N)=O)[C@H](C)CC)[C@@H](C)CC[EOM]COC1=C2C[C@@H](O)CC[C@]2(C)[C@H]2CC[C@@]3(C)[C@@H](CC(=O)[C@]3(O)[C@H](C)[C@H](CCC(C)C)O[C@@H]3OC[C@H](O)[C@H](O[C@@H]4OC[C@@H](O)[C@H](O)[C@H]4OC(=O)c4ccc(OC)cc4)[C@H]3OC(C)=O)[C@@H]2C1[EOM]CO[C@@H]1[C@H](O)[C@@H](C)O[C@@H](OC[C@H]2[C@@H]3O[C@@H]3/C=C/C(=O)[C@H](C)CC[C@H](O[C@@H]3O[C@H](C)C[C@H](O)[C@H]3O)[C@@H](C)/C=C/C(=O)O[C@@H]2C)[C@@H]1OC[EOM]COc1cc(C(O)C(COC(=O)/C=C/c2ccc(O)cc2)Oc2c(OC)cc(/C=C/COC(=O)/C=C/c3ccc(O)cc3)cc2OC)ccc1O[EOM]COc1cc(O)c(-c2cc(-c3cc(-c4c(O)cc(O)c5c4C[C@@H](C)N[C@@H]5C)c4cc(C)cc(OC)c4c3O)c(O)c3c(OC)cc(C)cc23)c2c1C(C)=N[C@H](C)C2[EOM]C[C@@H]1O[C@@H](O[C@H]2[C@H](O[C@@H]3C[C@H](O)CC4=CC[C@H]5[C@@H]6C[C@@H]7O[C@]8(C[C@H](O)[C@@H](C)CO8)[C@@H](C)[C@@H]7[C@@]6(C)CC[C@@H]5[C@]43C)OC[C@H](O)[C@@H]2O[C@@H]2OC[C@@H](O)[C@H](O)[C@H]2O)[C@\n"
     ]
    }
   ],
   "source": [
    "print(text[:5000])\n",
    "text = text[:50000]"
   ]
  },
  {
   "cell_type": "code",
   "execution_count": 74,
   "id": "433a045f",
   "metadata": {},
   "outputs": [],
   "source": [
    "with open(\"raw_smiles.txt\", 'w') as f:\n",
    "    f.write(text)"
   ]
  },
  {
   "cell_type": "code",
   "execution_count": 81,
   "id": "cfcf9a8a",
   "metadata": {},
   "outputs": [
    {
     "name": "stdout",
     "output_type": "stream",
     "text": [
      "\n",
      "\n",
      "\n"
     ]
    }
   ],
   "source": [
    "tokenizer = chembl._tokenize(\"raw_smiles.txt\")"
   ]
  },
  {
   "cell_type": "code",
   "execution_count": 82,
   "id": "48aed239",
   "metadata": {},
   "outputs": [],
   "source": [
    "\n",
    "tokenizer.save(\"tokenizer-chembldb.json\")"
   ]
  },
  {
   "cell_type": "code",
   "execution_count": 83,
   "id": "e494ba5b",
   "metadata": {},
   "outputs": [
    {
     "name": "stdout",
     "output_type": "stream",
     "text": [
      "{'NNC': 506, 'cc': 44, 'OCc2cc': 615, 'ccc2': 186, 'OCCc2ccccc2': 407, 'cs': 532, 'OCc2ccco2': 910, '2ccc2cc3c': 963, '1CN': 279, 'Cn2': 500, 'Oc2ccc3': 522, 'OC1CCc2ccccc21': 993, 'C2CC3CC': 739, 'c1F': 589, 'nnc': 354, 'OC6C': 626, '1C23C': 662, 'c3nsc4ccccc34': 1004, 'N': 29, 'NCc1ccccc1': 269, 'CCCCCCCCCC': 403, 'NCCCC': 172, '3C2': 325, 'c3ccccc32': 779, '2COCc2cn': 683, 'c2c1ncn2C': 440, 'OCc2ccc': 274, '2CCCCC2': 414, 'Oc2n': 524, '1Cc1nc': 958, 'ccc21': 420, 'cc4c': 829, 'c3C': 390, 'Nc3cnc': 930, 'ncc2': 262, 'OCO3': 382, 'nc3ccccc23': 542, 'c1ccccc1n2CCCCN1CCN': 1015, '6CN': 330, 'c2cccnc2': 393, 'COc1ccccc1N1CCN': 435, 'c4cc2': 697, 'cc2c1': 693, 'CNc1nc': 710, 'N1C': 197, 'OCc2ccccc2': 206, 'CCCn1': 600, 'COc1no': 650, '17c': 918, 'NCc2ccc3c': 586, 'CC': 43, 'ON': 257, 'NCCCNCCCCCCCNCCCNC': 970, 'n2n1': 820, '21c': 428, 'SC4': 767, '1Cc1ccc': 218, 'O8': 514, 'c9': 231, 'COc2ccc3': 647, '23c': 834, 'CCc1ccc': 363, 'c2cc': 115, 'c5c6': 408, 'Cc3': 495, 'Cc1c2c': 652, '3OC': 156, 'c1cccc2c': 412, 'N2C1S': 892, 'ccc2OC': 849, '[EOM]': 1, 'c5c5c6': 799, 'ccc1C': 880, 'c1cccnc1N': 418, 'c3c': 146, '1ccn': 318, '16': 309, '46': 477, 'cccc12': 631, 'c3c4ccccc4': 666, 'CCCc4cc': 601, 'Oc2c': 517, 'c5': 126, 'CSc1sc': 758, 'OOC1': 520, '16c': 917, 'CCc2ccccc2': 562, 'CCn1': 567, 'CCS': 362, 'Nc1cc': 509, 'Nc1ccc2c': 971, '5CCN': 485, 'C4C': 502, 'CCCCc1oc2ccccc2c1Cc1cccc': 996, 'oc3': 264, '12C': 167, 'ccc3': 187, '35O': 248, 'oc4c': 360, 'OCC1CN': 794, 'OS': 515, '3O': 82, 'C2C': 181, 'Oc1cc4c': 937, 'c2cc3c4cc2': 908, 'CN2C1': 915, '3CCCN': 247, 'NC2C3CC4CC': 988, 'cc21': 283, 'c12': 96, 'CN1C': 213, 'C2': 88, 'C7': 334, 'CO2': 642, 'c2cc3c': 906, 'Cc1ccc2ccccc2c1': 243, ']': 35, 'NCCC': 228, 'Cc2c': 120, 'CCCCOC': 637, 'COc1ccccc1OCCN1CCN': 913, 'Cc1': 56, 'CCCCNC1': 384, 'CN1Cc3sccc3': 872, 'CCCc1ccccc1': 599, 'C12': 741, 'c7': 201, 'Cc1ccco1': 398, 'cc2C1Cc1ccc': 903, 'CNc2nnc': 1010, 'N1CCOCC1': 734, 'CS': 98, 'M': 28, '4CC': 117, '86': 331, 'CN1CC': 400, 'CCCCCCCNCCCNC': 947, '13OC': 449, 'CNC2': 282, 'ccccc2s1': 634, 'C5': 332, 'CCc1ccccc1': 565, 'c2c5c': 749, '19': 312, 'o2': 545, 'c2ccccc12': 107, 'cccc': 53, 'CCCN': 57, '6C': 251, '14': 245, 'cc1OCCCSc1n': 914, 'N3': 171, 'CN1CCc2cc3c4cc2': 951, 'nc2cc': 539, 'Oc3cccnc3': 936, '12O': 446, 'OCCN1CCN': 526, 'cc86': 578, 'NCc2cccc3ccccc23': 587, 'c2O4': 595, 'OC5OC': 625, 'cn1': 121, 'Nc2ccc3c': 513, 'c6c8c': 807, 'CC3CC': 566, 'O2': 130, 'N4': 338, 'c4ccccc4c3C': 824, 'cn': 81, 'cc3': 101, 'Nc3ccc': 508, 'c1NCCN1CCOCC1': 990, 'N2CC': 790, '11c8c': 874, 'CCCCCCOc1ccc': 639, 'sc3ccccc23': 556, '1S': 442, 'nc2c2c1ncn2C': 842, 'CCCCC': 159, 'OCc5ccccc5': 624, 'c8': 184, 'C3': 112, 'Nc1nc2cc': 894, 'cc1Nc1n': 675, 'C24OC3': 1013, 'c2sc': 597, '19c1c': 922, 'CCC2CCCCC2': 603, 'Cn1': 195, 'Na': 227, 'N1CCS': 733, '4': 14, 'OCc1ccccc1': 381, 'CCNc3c4ccccc4': 706, 'nc6cc': 760, 'CCOc1cc2cc3': 816, 'CCNC': 185, 'c1NCCN': 591, 'cc12': 671, '0': 10, 'Cc3ccccc3': 498, 'CCCCCCC1C23C': 912, '1': 11, 'CCCCCCCN': 383, 'c4ccccc4': 153, 'CC3': 162, '2NC': 221, 'Cc2ccc': 105, 'c2c3c': 594, 'C5O': 499, '2CSSC': 681, '%': 3, 'nc3c': 541, 'Cc1cc3': 653, 'c1cccc': 136, 'CN2': 399, '23C': 321, 'CCn1c2ccc3cc2c2cc': 985, '2C': 62, 'CCCc1cn': 604, 'C4': 224, '1Cc1': 443, '20': 453, 'CCCCCCCCC': 385, 'CC5': 558, '2C3C': 679, 'Nc2ccccc2': 345, 'CCCc1cnnn1': 992, 'COc1c': 646, 'ccc3ccc': 852, 'Cc1cc': 127, 'CCCCCCO': 638, 'OC': 52, 'OP': 348, 'ccc1Cn1nnc': 883, '1NC': 128, 'CCN1CCCC1': 857, 'cnc2c1': 718, 'CCNCC': 701, 'ccc4O3': 884, '13': 244, 'c3ccccc3': 113, '#': 2, 'c4n': 696, '[': 33, 'Nc3': 343, 'c2c1CN': 822, '2F': 454, 'CN4CC': 707, '24OO3': 436, 'OC2': 609, '1CCCCNC': 448, 'CCc1c': 364, 'o1': 358, '12c': 295, '1c2c': 317, 'ccc4O': 237, 'COc1cc2c3c': 997, 'Oc2ccc': 229, '5': 15, 'NC2CCOCC2': 989, 'nc2c1NCN2': 938, 'CCl': 559, 'Oc1nc3ccccc3cc1C': 974, 'COc1noc2c1CN': 999, 'c2ccccc2Cl': 689, 'c1cc2ccccc2s1': 811, 'cc1F': 672, 'c1cc2cc': 808, 'c4cc5c': 817, '12CO': 788, 'ccccc13': 686, 'N1': 86, 'c2cncn2C': 904, 'Cn1cc': 859, '7CC': 489, 'OCC23CC4CC': 916, 'c': 37, 'CCCCc1oc2ccccc2c1': 641, 'c1cc2': 137, 'ccc4N3': 945, 'c4c3O': 698, 'c6ccccc86': 957, 'CSc1cc': 755, '56': 483, 'ccccc23': 132, '10c': 450, 'Oc7c8': 527, 'c2s1': 596, '22c': 465, 'c1ccccc1': 93, 'cccc2F': 633, 'c1oc2ccccc2c1': 592, 'CCCCOP': 640, 'CCN2C': 702, '3nc': 326, 'H': 26, 'OCC1c2ccccc2': 429, 'CCc2cc': 568, 'n3': 534, 'CCCCN1CCN': 685, 'C1C3': 926, 'ccn3C': 902, 'CCN': 73, 'COCc5': 770, 'cc1Cl': 425, 'c4': 71, 'OC4O': 611, '1C2': 658, '4ccc': 480, 'CCCC2': 635, 'P3': 528, 'c1cn': 590, 'Cc2ccc3ccccc3': 292, 'Cn1nnc': 861, 'C1CCc2cc': 873, 'c2ccccc2': 65, 'CCCCN': 63, 's': 42, 'c1ccccc1n2': 752, 'cc1OCc1ccccc1': 885, 'c5ccccc45': 1021, 'ccc': 51, '20c': 466, 'C6O': 496, 'COCc5cccs5': 1019, '6OC6O': 858, 's1': 202, '2CC': 140, 'c1cccs1': 700, '5OC5O': 891, 'NC2C': 582, 'c9cc': 878, 'NCCc1cccnc1': 725, '1CCCN1C2': 759, 'NCCCCCC': 838, 'c4c': 191, 'c5c4C': 798, 'COCC': 238, 'cc1CN1CCN': 868, 'C24OC': 737, 'Cn2oc': 968, 'nc3n1S': 897, 'c4cc': 147, '34': 324, 'C5C': 226, 'nn2': 356, '56C': 487, '3cc': 468, 'c1ccccc1N3': 753, 'c2ccccc21': 189, 'cn1C': 715, 'cn3': 713, 'C2OC2CC': 740, 'c2cccc': 58, 'c2nn': 376, 'CCOc5ccccc5': 815, 'Sc1n': 352, 'S': 32, 'ccc23': 575, 'C1NCC': 745, 'C5C1': 925, 'NC12CC3CC': 1014, '2CN2CCC': 682, '4C3': 328, 'cnc': 714, 'OCCO2': 792, 'c6ccccc': 410, '6': 16, 'cccc2Cl': 995, 'CCN5C': 703, 'C1CC': 214, 'ccc3c2': 851, 'c68': 805, 'Cc1no': 654, '/': 9, 'NCCN': 199, 'NCCCCCCNc3c4ccccc4': 839, '+': 6, 'CCc2nn': 574, 's2': 552, 'N1CCc2cc': 735, '(': 4, 'ns': 536, '2C1': 676, '3CCCN3C2': 890, '5NC': 484, 'ncc23': 898, 'N2C': 255, 'c1C': 370, 'c4ccc': 166, 'CC1CCOCC1': 731, 'c5ccccc5': 216, 'CC2': 143, 'cc1O': 281, 'cn5C': 716, 'c4cc3ccc4O': 306, 'N5': 339, '17': 310, 'nc': 100, 'c4cc3': 287, '46CC': 965, 'c2ccccc2S': 688, 'nH': 66, '1OC': 155, 'CCc8': 365, 'CCCON': 377, 'cc3c': 761, 'Cc2cccnc2': 764, 'OCO5': 946, 'cn5C4CC4': 1011, 'Nc1ccccc1': 346, 'N4CCCc4cc': 928, '34C': 327, 'nc2cc1C': 980, 'n4': 535, '22C': 457, 'CCCN1CC': 655, 'Oc3cc2cc': 304, 'c1ccc2cc': 768, 'cccc1Cl': 994, 'CCCCl': 636, 'N1CCN': 193, 'N2': 124, '7OC': 490, 'C23CC4CC': 738, 'C2C3CCC': 848, 'c3cccnc3': 762, 'nc2scc': 843, '13c': 888, 'c1': 46, 'SSC': 158, 'ccccc1': 64, 'nc2': 174, 'c1ccc2onc': 953, 'c1O': 145, '7C': 223, '2OC': 180, 'cc7Cl': 900, 'CCN3CCN': 705, 'cc2cc': 285, 'CNC12CC3CC': 1007, 'nnc1SCC': 981, 'N2CCN': 297, 'n1Cc1c': 773, 'Brc1cccc': 813, 'NC1': 92, '4c': 478, 'OC1CC': 612, '1CCCN': 97, '34O': 475, 'CCOc5ccccc5OC': 1023, 'Cn': 494, '6OC': 194, 'ccccc3c2': 747, 'c4ccccc34': 305, 'n1C': 353, 'cnc2ccccc21': 719, 'Oc1cc': 351, 'cc2': 68, 'C3CC': 336, 'Oc1ccc3ccccc3': 867, 'CCOP': 814, 'nc2c1': 357, 'CCc2ccc': 563, 'Cc1cn': 711, 'C2CC2': 736, 'Nc1ccccc1C': 933, 'c2': 47, 'ccccc3': 90, 'CSC1CC': 757, 'ccccc3nc1': 748, '23CCC': 835, 'cccc2C': 630, 'c1ccccc1N3c1ccccc1': 1016, 'no': 260, 'COc1cc2c': 278, 'NC4': 580, ')': 5, 'OCc3cc': 623, '5OC': 250, 'c2ccccn2': 389, 'NCP': 581, 'ccccc5': 212, 'NCCCN': 507, 'OCO4': 622, '4C': 157, 'nn1': 355, 'c8c': 419, 'Cc2ccccc2': 87, 'c3cnn': 1003, 'CCNc1cccnc1N1CCN': 1008, 'COc2ccc3oc4c': 998, 'NO': 196, 'ccc2c1': 576, 'NCCN2': 863, '9O': 252, 'nn': 173, 'CCC2': 236, '35OO4': 303, 'c1ccc2': 401, 'EO': 49, '10': 441, 'OCO2': 616, 'CCN1CCC': 856, '3CCCN3C': 431, 'c6ccc': 409, 'CC1': 85, 'NC5': 367, 'c7ccc': 423, 'CCCC1': 275, 'c3ns': 668, 'c2cnc3ccccc3c2': 905, 'NCCN3': 864, 'N1Cc2cccc3': 862, 'SC1': 530, 'ccc1Sc1n': 882, 'CCSC': 160, 'CN': 78, 'c2ccc3c': 302, '2CC4': 812, '3c3cc': 476, 'cnc3cc': 721, '3CCC': 469, 'CSc1n': 756, 'CC1C': 560, 'n1cnc2ccccc21': 774, 'scc': 554, 'cc4Cl': 830, '8': 18, 'c3ccccc3cc1C': 782, '7Oc7ccc': 785, '2C2': 677, 'SCC': 259, 'cc1Nc1ncnc2c1': 1006, 'cc4': 163, 'CCc2nnn': 987, 'c3ccccc3c2': 780, 'COCCOc1ccc': 649, 'c1nc': 235, '3cccc': 470, 'c3cc': 210, '23CC': 462, 'CCCCNC': 129, '23': 168, 'NS': 254, '5nc': 486, 'NCc2ccccc2CCCCNC1': 939, 'Nc1ccc': 198, 'Cc1ccccc1': 76, 'CN1CCN': 886, 'Cc1cc3ccccc3nc1': 1000, 'CCCCC1': 416, 'c1ccc2oc': 952, 'NC12CC': 751, 'Oc7c8cc9cc': 977, 'cccc34': 632, 'c1OCCCCNC': 301, '2NCC': 460, 'c4ccccc3': 286, '12': 123, 'oc3c2': 432, '5c': 161, 'NCN2': 584, '8O': 141, 'COc1ccccc1': 277, '1CCCCCCCCCC': 452, '4CC4': 787, '@': 21, 'SC': 106, '2c': 246, 'c2c1': 151, 'c3ccccc3nc2': 781, '131': 887, 'ccc1Oc1ccc': 869, 'CC2C4': 984, '1C': 59, 'Oc3': 258, 'COP3': 651, 'c2c1n': 375, 'CC2C': 561, 'C4C7C9': 969, '=': 20, 'Cc2cccs2': 766, 'c4c3c2': 699, 'F': 25, 'CN1': 241, 'c3cn': 664, 'OC7O': 614, '2Cc3c': 680, '3c3ccoc3': 964, '4ccccc4': 482, 'Cn1c': 422, 'Br': 142, 'ccc2n1Cc1c': 850, 'cc1C': 203, 'cc1OCC1CC1': 1005, 'ncnc3C': 979, 'OC6O': 610, 'NCC': 84, '2c3cc': 464, 'c2ccccc2c1Cl': 855, 'CCCCCCCCCCCC': 404, 'c4cc5nc': 818, '34CO': 924, '8OC': 491, 'CCN1C': 288, 'CCOC': 233, '5CN': 329, 'NCCCCN': 344, 'CN2CCCC2': 949, '1CCCCNC1': 451, 'CCO': 144, '21C': 455, 'c2O': 374, '11c': 427, 'c2c1C': 821, '12CC': 296, 'NC': 45, 'c1sc': 373, '1CCCNC': 316, '6O': 80, 'Oc2nc3ccccc3nc2': 976, 'c1cc': 108, 'Nc1nc': 512, 'c4ccccc4C3': 823, 'CC1C3': 983, 'Cc3c': 337, 'I': 27, 'c1ccc2ncc': 1018, 'CSCC': 154, 'OC2OC': 621, 'CCCCCCCCCCCCCCCC': 405, 'COC': 109, 'OC3': 273, 'NCCCCN2CCN': 931, 'oc2cc': 549, 'cc2OC': 392, 'c1ccc2n': 769, 'c2ccc': 69, '3C': 94, '1CNC': 659, 'CCCCCNC': 564, '9': 19, 'c4cccc': 395, 'OCc4ccc': 620, 'Cc1ccc2ccc': 800, 'c9c': 877, 'Oc3ccc': 350, 'c1cc2nc': 809, '9cc': 493, 'ccc1': 234, 'c1cc2c': 179, 'c13': 588, 'CCC': 48, 'Cc1ccc2nc': 802, '5C': 148, 'OC1': 165, '21': 220, 'CCCCCCC': 276, 'c1OC': 372, 'c3OC2OC': 670, 'Cc1cc2c': 388, 'NCCNc5cc': 865, 'Cn3nc': 966, 'C5CC': 503, 'OCCc2nc': 793, '2': 12, 'c2ccc3': 176, 'c2cc1OC': 598, 'CCCNC': 70, 'c1ccc': 72, '1CCCN1C': 99, 'C1': 89, 'c2cccc3': 209, 'OCO': 379, 'cc7': 266, 'OCc4cc': 619, '7C9': 875, 'cc9cc': 579, 'no1': 895, 'l': 38, 'Nc3nc': 929, 'r': 41, 'N1CCCC1': 732, 'Cc1cccnc1': 397, '4NC': 479, 'c6cc': 806, 'oc23': 550, 'Nc2ncnc3cc': 973, '13OC2': 959, 'C1c1c': 746, 'CO': 55, 'c3ccc4ccc': 763, 'n1S': 772, 'c9cc7': 879, 'c2ccccc2c1': 190, 'CCOCC1': 415, 'OCc3ccccc3': 613, 'c4C': 394, '3': 13, 'cc5': 265, 'CCOc1ccc': 300, 'nnc1': 540, 'cc2cc1OC': 695, '23c5c': 836, 'CCc8c6': 439, 'ccc3ccccc13': 854, '14c': 889, 'CC4': 361, 'CCCCCn1cc': 827, '1CC3': 775, 'C3CN4CC': 778, '\\\\': 34, 'CSSC': 242, 'CC1OC': 727, 'ccccc': 77, 'nnn1C': 841, 'CNC': 67, 'c2C3': 593, '1Cc2c': 661, '3O7': 723, 'nc3': 261, 'NCc1ccc': 369, 'O4': 183, '4Cc1ccc': 481, 'CNc1nc2sc': 1009, 'Cc1cccc': 239, 'CCN1': 192, 'c4ccco4': 833, 'NCCCCCCCCCCCCNC': 935, 'c1sc2ccccc2c1Cl': 941, 'c2ccccc2s1': 691, 'c1cccnc1': 177, 'c2nc': 271, '2CN': 211, '15c': 219, 'C1c1ccc': 744, '1c2cc': 447, '1CCC': 314, 'c23': 119, '2CC1': 461, 'CC1CC1': 729, 'c1cc2cc3': 810, 'COc3ccccc3': 386, 'CCNc1cccnc1': 704, '1CC': 111, 'a': 36, 'N1CCC': 122, 'c3c1O': 665, 'COC1': 293, 'NCCS': 724, 'c2cc3nc': 907, 'COc1ccc': 188, 'CNc2n': 709, 'cc1OCC1': 674, 'OCC5': 791, '1CCOCC1': 777, 'OCC2CCCCC2': 795, 'c2cccc3c2': 871, 'Sc1ccccc1': 531, 'CCc1ccccn1': 986, 'c3ccc': 102, '3CO': 471, '1COC': 660, 'Oc4ccc': 521, '3CCN': 474, 'ncn2Cc1ccccc1': 982, 'c2cccc3ccccc23': 426, '18c': 919, '2CCN': 320, 'O3': 182, 'CCCCCC': 207, 'CCCn1nnc': 991, 'no2': 896, 'N5CCOCC5': 972, 'N6': 340, 'CC1c3c': 730, '2NCC3': 962, 'Oc1n': 519, 'cc2c2cc': 694, 'Cc3ccc': 225, 'ccn': 267, 'c7c8': 424, '13O': 445, 'NN': 253, '9C': 492, '2CCCN2C1': 413, 'ccc3ccccc23': 853, 'cs3': 978, 'NCc3ccccc3': 583, 'OCc1ccc': 380, 'COCCO': 645, 'cn2C': 290, 'B': 22, 'c3sccc3': 669, '3CC4CC': 291, 'cc1': 61, 'O': 30, '4O': 95, 'oc2C': 438, 'o6': 547, 'cc5nc': 899, 'OCC': 125, '32': 323, 'CCCSc1n': 602, 'C2C1': 847, 'cnn2': 717, '2C3': 678, 'CN2C': 289, 'N2CCC': 215, 'ccc3CC': 605, 'S1': 529, 'OCc1cccc': 617, 'oc2ccccc2c1': 551, 'cc1OC': 240, 'ccc4': 378, '6cc': 488, 'CCc1cc2c': 571, 'N3CCC': 837, 'nc1C': 804, 'cc4n3': 831, 'c2ccccc2n1': 690, 'c2ccc3ccccc3c2': 845, 'c2csc': 750, 'c5c': 796, 'c2ccncc2': 402, '[UNK]': 0, 'CC1CCN': 728, 'CSc1nnnn1C': 1017, 'N4CCN': 927, 'nn5c': 840, 'NCc2ccccc2': 368, 'sc1': 555, 'c3ccccc3nc12': 784, 'CCn1cc': 572, 'N2S': 789, 'sc': 232, 'cnc2c1ncn2C': 722, '2c1ccc': 458, 'c5c6c7c8': 954, 'oc': 263, 'oc2': 359, 'CCCCCCCCCCCCCC': 786, 'cn2': 178, 'C6': 333, 'onc': 548, 'Cc2ccc3ccccc3c2': 307, 'CCCCN2CCN': 684, '.': 8, '2O': 83, 'c6': 134, 'O1': 149, 'cc5N': 433, 'CCc1cccc': 570, 'C1NC': 743, 'c5c5c6c6c8c': 1022, 'cc7c6': 901, 'COc1cc': 208, 'cnc2n': 720, 'NC2': 366, 's5': 553, 'ccccc4': 138, 'OCCNC': 406, 'Cc1ccsc1': 803, 'Nc2ccccc2C1CC': 932, '1CCCNC1': 923, '2CO': 319, 'Fc1ccc': 505, 'o4': 546, '3N': 467, 'OCc2nc': 628, 'c2c': 91, 'OCc2cn': 627, 'Oc4c': 523, 'Cn1oc': 860, '43C': 249, 'C3CC3': 437, '2CCCN': 133, '19c': 921, 'C1O': 742, 'CCCNc2ccccn2': 656, '0c': 308, 'c1s': 371, 'C3CN4CCSC4': 1020, 'c3': 60, 'C1C': 335, 'cc23': 391, 'CO8': 643, 'n1': 110, 'NOC': 341, 'COc1ccc2c': 870, 'c3ccccc23': 152, 'ccc1CO': 881, '5Cc6cc': 819, 'cs1': 533, 'n': 39, 'c2nn3cc': 942, 'c1c': 164, 'cc1S': 673, 'P': 31, 'CCO2': 569, 'Cc2cccc3ccccc23': 504, 'N3CCN': 417, 'C3C': 497, 'OCCCC': 516, 'nc12': 538, 'c5cc': 299, '18c2c5c': 920, 'c1sc2ccccc2n1': 940, 'CC1CC': 726, 'CNc1n': 708, '7': 17, 'OCC2': 298, '23Oc4cc': 961, 'CCCCCCCc1cccc': 911, 'CCN3CC': 396, 'CCCCCF': 825, 'Oc2ccc3cc': 975, 'cc2c': 284, 'ccc56': 607, 'Cc3ccc4ccccc4': 876, 'OC2CC': 618, 'CCCON3C': 943, 'Cc1c': 79, 'Cc2ccc3nc': 765, 'cc4F': 828, 'ccc4F': 944, 'sccc3': 557, '5CC': 170, 'CCCCCc4c': 826, 'cc2C': 268, '11': 217, 'N5CC': 510, 'Nc2n': 511, 'E': 24, 'COc1cccc': 387, 'cc4C': 577, 'Cc1cnc': 712, 'c2ccccc2I': 687, 'Nc1ncc': 893, '32C': 472, '1CSSC': 175, 'CNC12CC': 692, 'Cc1ccc': 74, '1CCOC1': 776, 'Cc1ccc2c': 801, '1CO': 315, '23O': 459, '2ccc2': 463, 'n12': 771, 'nc4c': 544, 'c5ccccc4': 797, 'CCN1CCN': 421, 'cccc1C': 629, 'Nc1n': 256, 'o': 40, 'EOM': 50, '5O': 118, 'n2': 150, '1N': 313, '3c2ccccc2': 473, 'ccc1O': 204, 'Cl': 75, '-': 7, '1CCN': 444, '3COC': 754, 'COCCP': 430, 'c1cccnc1Nc1ccc': 846, 'N1CCSCC1': 1012, 'C': 23, 'Oc1ccccc1': 349, 'c2cc3': 272, 'Cc4ccccc4': 501, 'OCCCON': 525, 'CCc2ccc3c': 573, 'ncn2': 543, 'c3c2': 663, 'c2n': 205, '3CC': 104, 'c3oc4c': 667, '24O': 322, 'Cc3cccc': 967, '2c3cc4c': 960, 'OCC1': 230, 'OCc2cccnc2': 909, '3ccccc3': 222, '1O': 103, '2CCCN2C': 139, 'NCCCCCCCC': 347, 'ccc9O': 606, 'CCCCCCCC': 116, '7O': 114, 'nc1': 131, 'cccs5': 608, '4OC': 169, 'CCCC': 54, 'c2ccc3cc2c2cc': 844, 'Oc1ccc': 200, 'c6ccco6': 955, 'c2cn': 270, 'ncn': 537, 'CN1CCc2cccc3c2': 950, 'NC2CC': 585, 'OCCCCNC': 518, 'NCCCCCCCCCCN': 934, 'Cc1nonc1': 1001, 'c1no': 411, 'c3O': 280, 'CCCN1CCO': 1002, 'CCCN1c2cc': 657, 'c4ccc5c': 832, '2c3': 456, 'c3ccccc3CN2C': 783, 'NCCN5CCN': 866, 'CN2CCC': 948, 'COc1cc2': 644, 'COc2cccc3': 648, 'c6ccccc6': 956, 'Nc2cccc': 342, 'n1cc': 294, '18': 311, 'c1n': 135, 'cc2Cl': 434}\n"
     ]
    }
   ],
   "source": [
    "# Inspect the vocab directly\n",
    "print(tokenizer.get_vocab())  # Get the vocabulary dictionary"
   ]
  },
  {
   "cell_type": "code",
   "execution_count": 84,
   "id": "7277dc91",
   "metadata": {},
   "outputs": [],
   "source": [
    "test_molecule = \"COc1c(O)cc(O)c(C(=N)Cc2ccc(O)cc2)c1O\""
   ]
  },
  {
   "cell_type": "code",
   "execution_count": 85,
   "id": "576d6d2e",
   "metadata": {},
   "outputs": [],
   "source": [
    "encoded_molecule = tokenizer.encode(test_molecule)"
   ]
  },
  {
   "cell_type": "code",
   "execution_count": 86,
   "id": "5b4cc1f3",
   "metadata": {},
   "outputs": [
    {
     "name": "stdout",
     "output_type": "stream",
     "text": [
      "['COc1c', '(', 'O', ')', 'cc', '(', 'O', ')', 'c', '(', 'C', '(', '=', 'N', ')', 'Cc2ccc', '(', 'O', ')', 'cc2', ')', 'c1O']\n"
     ]
    }
   ],
   "source": [
    "print(encoded_molecule.tokens)"
   ]
  },
  {
   "cell_type": "code",
   "execution_count": null,
   "id": "8ff6fd3a",
   "metadata": {},
   "outputs": [],
   "source": []
  }
 ],
 "metadata": {
  "kernelspec": {
   "display_name": "main",
   "language": "python",
   "name": "python3"
  },
  "language_info": {
   "codemirror_mode": {
    "name": "ipython",
    "version": 3
   },
   "file_extension": ".py",
   "mimetype": "text/x-python",
   "name": "python",
   "nbconvert_exporter": "python",
   "pygments_lexer": "ipython3",
   "version": "3.12.3"
  }
 },
 "nbformat": 4,
 "nbformat_minor": 5
}
