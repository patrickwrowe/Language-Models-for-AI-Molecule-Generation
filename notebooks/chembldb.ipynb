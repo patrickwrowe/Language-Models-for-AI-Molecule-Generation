{
 "cells": [
  {
   "cell_type": "code",
   "execution_count": 2,
   "id": "ff066417",
   "metadata": {},
   "outputs": [],
   "source": [
    "import pandas as pd\n",
    "import pathlib\n",
    "import attr"
   ]
  },
  {
   "cell_type": "code",
   "execution_count": 7,
   "id": "a5870593",
   "metadata": {},
   "outputs": [],
   "source": [
    "@attr.define\n",
    "class ChemblDB:\n",
    "\n",
    "    chemreps_filepath: pathlib.Path = pathlib.Path(\"../raw-data/chembldb/chembl_35_chemreps.txt.gz\")\n",
    "\n",
    "    def _load_or_download(self):\n",
    "        \"\"\"TBD: Download file from source instead of needing to pre-download\"\"\"\n",
    "        if not pathlib.Path.exists(self.chemreps_filepath):\n",
    "            raise FileNotFoundError(f\"${self.chemreps_filepath} was not found. Please download from https://ftp.ebi.ac.uk/pub/databases/chembl/ChEMBLdb/latest/\")\n",
    "        else:\n",
    "            chembldb_chemreps_raw_pd = pd.read_table(\n",
    "                pathlib.Path(self.chemreps_filepath), \n",
    "                compression=\"gzip\"\n",
    "            )\n",
    "            return chembldb_chemreps_raw_pd\n",
    "\n",
    "    def _preprocess(self, chemrepsdb, column):\n",
    "        db_column = chemrepsdb[column].to_list()\n",
    "        text = ' <endofmolecule> '.join([col for col in db_column])\n",
    "        return text\n",
    "\n",
    "    def _tokenize(self):\n",
    "        pass"
   ]
  },
  {
   "cell_type": "code",
   "execution_count": 8,
   "id": "2b91b41f",
   "metadata": {},
   "outputs": [],
   "source": [
    "chembl = ChemblDB()\n",
    "db = chembl._load_or_download()"
   ]
  },
  {
   "cell_type": "code",
   "execution_count": 9,
   "id": "0e4f2a9e",
   "metadata": {},
   "outputs": [],
   "source": [
    "text = chembl._preprocess(db, \"canonical_smiles\")"
   ]
  },
  {
   "cell_type": "code",
   "execution_count": 11,
   "id": "272e0b47",
   "metadata": {},
   "outputs": [
    {
     "name": "stdout",
     "output_type": "stream",
     "text": [
      "Cc1cc(-c2csc(N=C(N)N)n2)cn1C <endofmolecule> CC[C@H](C)[C@H](NC(=O)[C@H](CC(C)C)NC(=O)[C@@H](NC(=O)[C@@H](N)CCSC)[C@@H](C)O)C(=O)NCC(=O)N[C@@H](C)C(=O)N[C@@H](C)C(=O)N[C@@H](Cc1c[nH]cn1)C(=O)N[C@@H](CC(N)=O)C(=O)NCC(=O)N[C@@H](C)C(=O)N[C@@H](C)C(=O)N[C@@H](CCC(N)=O)C(=O)N[C@@H](CC(C)C)C(=O)N[C@@H](CC(C)C)C(=O)N[C@@H](CCCN=C(N)N)C(=O)N[C@@H](CCC(N)=O)C(=O)N[C@@H](CC(C)C)C(=O)N[C@@H](CCCN=C(N)N)C(=O)NCC(=O)N[C@@H](CCC(N)=O)C(=O)N[C@@H](CC(C)C)C(=O)NCC(=O)N1CCC[C@H]1C(=O)N1CCC[C@H]1C(=O)NCC(=O)N[C@@H](CO)C(=O)N[C@@H](CCCN=C(N)N)C(N)=O <endofmolecule> CCCC[C@@H]1NC(=O)[C@@H](NC(=O)[C@H](CC(C)C)NC(=O)[C@@H](NC(=O)[C@H](CCC(=O)O)NC(=O)[C@H](CCCN=C(N)N)NC(=O)[C@H](CC(C)C)NC(=O)[C@H](CC(C)C)NC(=O)[C@H](Cc2c[nH]cn2)NC(=O)[C@H](N)Cc2ccccc2)C(C)C)CCC(=O)NCCCC[C@@H](C(=O)N[C@@H](CCC(N)=O)C(=O)N[C@@H](CC(C)C)C(=O)N[C@@H](C)C(=O)N[C@@H](CCC(N)=O)C(=O)N[C@@H](CCC(N)=O)C(=O)N[C@@H](C)C(=O)N[C@@H](Cc2c[nH]cn2)C(=O)N[C@@H](CO)C(=O)N[C@@H](CC(N)=O)C(=O)N[C@@H](CCCN=C(N)N)C(=O)N[C@@H](CCCCN)C(=O)N[C@@H](CC(C)C)C(=O)N[C@@H](CCCC)C(=O)N[C@@H](CCC(=O)O)C(=O)N[C@H](C(=O)N[C@H](C(=O)C(N)=O)[C@@H](C)CC)[C@@H](C)CC)NC(=O)[C@H](C)NC(=O)[C@H](CCCN=C(N)N)NC(=O)[C@H](C)NC1=O <endofmolecule> CC(C)C[C@@H]1NC(=O)CNC(=O)[C@H](c2ccc(O)cc2)NC(=O)[C@@H]([C@@H](C)O)NC(=O)[C@H](c2ccc(O[C@H]3O[C@H](CO)[C@@H](O)[C@H](O)[C@@H]3O[C@H]3O[C@H](CO)[C@@H](O)[C@H](O)[C@@H]3O)cc2)NC(=O)[C@@H](CCCN)NC(=O)[C@H](Cc2ccccc2)NC(=O)[C@H]([C@@H](C)O)NC(=O)[C@@H](c2ccc(O)cc2)NC(=O)[C@H](c2ccc(O)cc2)NC(=O)[C@@H](C(C)C)NC(=O)[C@@H](CCCN)NC(=O)[C@@H](c2ccc(O)cc2)NC(=O)[C@@H](CNC(=O)[C@H](CC(N)=O)NC(=O)Cc2cccc3ccccc23)[C@@H](C(N)=O)OC(=O)[C@H](c2ccc(O)c(Cl)c2)NC(=O)[C@@H](C)NC1=O <endofmolecule> Brc1cccc(Nc2ncnc3ccncc23)c1NCCN1CCOCC1 <endofmolecule> COc1c(O)cc(O)c(C(=N)Cc2ccc(O)cc2)c1O <endofmolecule> CCOC(=O)c1cc2cc(C(=O)O)ccc2[nH]1 <endofmolecule> CC(=O)O[C@@H]1[C@@H](OC(C)=O)/C(C)=C\\[C@@H]2OC(=O)[C@]3(C)O[C@]23[C@H](OC(C)=O)[C@H]2[C@](C)(O)[C@H](O)C=C[C@]2(C)[C@H]1OC(C)=O <endofmolecule> C[C@H](NC(=O)OCc1ccccc1)C(=O)N[C@@H](C)C(=O)NN(CC(N)=O)C(=O)/C=C/C(=O)N(Cc1ccco1)Cc1ccco1 <endofmolecule> CO[C@H]1C[C@H](COC[C@H]2[C@@H](OC)C[C@H](O[C@H]3CC[C@@]4(C)C(=CC[C@]5(O)[C@@H]4C[C@@H](OC(=O)/C=C/c4ccccc4)[C@@]4(C)[C@]5(O)CC[C@@]4(O)C(C)=O)C3)O[C@@H]2C)O[C@@H](C)[C@H]1COC[C@H]1C[C@H](OC)[C@H](COC[C@H]2C[C@@H](OC)[C@@H](O[C@H]3O[C@@H](CO)[C@H](O)[C@@H](O)[C@@H]3O)[C@H](C)O2)[C@@H](C)O1 <endofmolecule> COc1ccc2c(c1OC)C(CC1(C)C=Cc3c(c4cccc(OC)c4n(C)c3=O)O1)N(C)c1c-2ccc2cc3c(cc12)OCO3 <endofmolecule> CC(C)C[C@H](NC(=O)[C@H](Cc1cnc[nH]1)NC(=O)[C@H](Cc1c[nH]c2ccccc12)NC(=O)[C@@H]1CCCN1C(=O)[C@@H](N)CS)C(=O)N[C@@H](CC(C)C)C(=O)N1CCC[C@H]1C(=O)N[C@@H](Cc1ccccc1)C(=O)N[C@@H](CS)C(=O)O <endofmolecule> CC(C)=C[C@H]1C[C@](C)(O)[C@@H]2[C@H]3CC[C@@H]4[C@@]5(C)CC[C@H](O[C@@H]6OC[C@H](O)[C@H](O[C@@H]7O[C@H](CO)[C@@H](O)[C@H](O)[C@H]7O)[C@H]6O[C@@H]6O[C@@H](COC(=O)CC(=O)O)[C@H](O)[C@H]6O)C(C)(C)[C@@H]5CC[C@@]4(C)[C@@]34CO[C@@]2(C4)O1 <endofmolecule> CCn1c2ccc3cc2c2cc(ccc21)C(=O)c1ccc(cc1)Cn1cc[n+](c1)Cc1ccc(cc1)-c1cccc(c1C(=O)O)-c1ccc(cc1)C[n+]1ccn(c1)Cc1ccc(cc1)C3=O.[Br-].[Br-] <endofmolecule> COc1cccc(CNC2(CCC(C)(C)C)C(=O)C(C3=NS(=O)(=O)c4cc(NS(C)(=O)=O)ccc4N3)=C(O)c3ccccc32)c1 <endofmolecule> CCCCC[C@H]1CCCCCCCCCC(=O)O[C@@H]2[C@@H](O[C@@H]3O[C@H](C)[C@@H](OC(=O)C(C)CC)[C@H](O)[C@H]3O)[C@H](C)O[C@@H](O[C@H]3[C@H](O[C@H]4[C@H](O1)O[C@H](C)[C@@H](O)[C@@H]4O)O[C@H](CO)[C@@H](O)[C@@H]3O)[C@@H]2OC(=O)C(C)CC <endofmolecule> C[C@H]1CN(CCC(=O)N[C@@H](CCc2ccccc2)C(=O)O)CC[C@@]1(C)c1cccc(O)c1 <endofmolecule> O=C(NO)c1ccc(I)cc1 <endofmolecule> C=CCc1ccc(OC(=O)C23CC4CC(CC(C4)C2)C3)c(OC)c1 <endofmolecule> Cc1cccc(N2CCN(CCCON3C(=O)c4ccccc4C3=O)CC2)c1 <endofmolecule> N=c1sc2ccccc2n1CCN1CCC(c2ccc(F)cc2)CC1 <endofmolecule> CCCCCCCCCCCCCC(=O)NCc1ccc(C(=O)N[C@H](C(=O)O)[C@@H](C)CC)cc1 <endofmolecule> O=C(Nc1ncc(F)s1)[C@H](CC1CCOCC1)c1ccc(S(=O)(=O)C2CC2)cc1 <endofmolecule> Oc1ccc(/N=C(/Cc2ccc(Cl)cc2)c2ccc(O)c(O)c2O)cc1 <endofmolecule> CCCC[C@H](NC(=O)[C@H](CCC(=O)O)NC(=O)[C@H](CC(C)C)NC(=O)[C@@H](NC(=O)[C@@H]1CCCCNC(=O)CC[C@@H](NC(=O)[C@H](Cc2c[nH]cn2)NC(=O)[C@@H](N)Cc2ccccc2)C(=O)N[C@H](CC(C)C)C(=O)N[C@@H](CCCN=C(N)N)C(=O)N1)C(C)C)C(=O)N[C@@H](C)C(=O)N[C@@H](CCCN=C(N)N)C(=O)N[C@@H](C)C(=O)N[C@@H](CCC(=O)O)C(=O)N[C@@H](CCC(N)=O)C(=O)N[C@@H](CC(C)C)C(=O)N[C@@H](C)C(=O)N[C@@H](CCC(N)=O)C(=O)N[C@@H](CCC(N)=O)C(=O)N[C@@H](C)C(=O)N[C@@H](Cc1c[nH]cn1)C(=O)N[C@@H](CO)C(=O)N[C@@H](CC(N)=O)C(=O)N[C@@H](CCCN=C(N)N)C(=O)N[C@@H](CCCCN)C(=O)N[C@@H](CC(C)C)C(=O)N[C@@H](CCCC)C(=O)N[C@@H](CCC(=O)O)C(=O)N[C@H](C(=O)N[C@H](C(N)=O)[C@H](C)CC)[C@@H](C)CC <endofmolecule> COC1=C2C[C@@H](O)CC[C@]2(C)[C@H]2CC[C@@]3(C)[C@@H](CC(=O)[C@]3(O)[C@H](C)[C@H](CCC(C)C)O[C@@H]3OC[C@H](O)[C@H](O[C@@H]4OC[C@@H](O)[C@H](O)[C@H]4OC(=O)c4ccc(OC)cc4)[C@H]3OC(C)=O)[C@@H]2C1 <endofmolecule> CO[C@@H]1[C@H](O)[C@@H](C)O[C@@H](OC[C@H]2[C@@H]3O[C@@H]3/C=C/C(=O)[C@H](C)CC[C@H](O[C@@H]3O[C@H](C)C[C@H](O)[C@H]3O)[C@@H](C)/C=C/C(=O)O[C@@H]2C)[C@@H]1OC <endofmolecule> COc1cc(C(O)C(COC(=O)/C=C/c2ccc(O)cc2)Oc2c(OC)cc(/C=C/COC(=O)/C=C/c3ccc(O)cc3)cc2OC)ccc1O <en\n"
     ]
    }
   ],
   "source": [
    "print(text[:5000])"
   ]
  },
  {
   "cell_type": "code",
   "execution_count": null,
   "id": "cfcf9a8a",
   "metadata": {},
   "outputs": [],
   "source": []
  }
 ],
 "metadata": {
  "kernelspec": {
   "display_name": "main",
   "language": "python",
   "name": "python3"
  },
  "language_info": {
   "codemirror_mode": {
    "name": "ipython",
    "version": 3
   },
   "file_extension": ".py",
   "mimetype": "text/x-python",
   "name": "python",
   "nbconvert_exporter": "python",
   "pygments_lexer": "ipython3",
   "version": "3.12.3"
  }
 },
 "nbformat": 4,
 "nbformat_minor": 5
}
