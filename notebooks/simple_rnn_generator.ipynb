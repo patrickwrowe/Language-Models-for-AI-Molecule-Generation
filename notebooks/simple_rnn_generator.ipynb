{
 "cells": [
  {
   "cell_type": "code",
   "execution_count": 17,
   "id": "ebc7baa6",
   "metadata": {},
   "outputs": [
    {
     "name": "stdout",
     "output_type": "stream",
     "text": [
      "The autoreload extension is already loaded. To reload it, use:\n",
      "  %reload_ext autoreload\n"
     ]
    }
   ],
   "source": [
    "%load_ext autoreload\n",
    "%autoreload 2"
   ]
  },
  {
   "cell_type": "code",
   "execution_count": 18,
   "id": "581b8a62",
   "metadata": {},
   "outputs": [],
   "source": [
    "import sys\n",
    "\n",
    "sys.path.append(\"../../\")"
   ]
  },
  {
   "cell_type": "code",
   "execution_count": 28,
   "id": "a8bfb03a",
   "metadata": {},
   "outputs": [],
   "source": [
    "from tokenizers import Tokenizer\n",
    "import sys\n",
    "\n",
    "import matplotlib.pyplot as plt\n",
    "import numpy as np\n",
    "import collections\n",
    "import torch\n",
    "\n",
    "from ChEmbed.data import chembldb, smiles_dataset, chembed_tokenize\n",
    "from ChEmbed.training import trainer\n",
    "from ChEmbed.modules import simple_rnn"
   ]
  },
  {
   "cell_type": "code",
   "execution_count": 20,
   "id": "f7c6ef97",
   "metadata": {},
   "outputs": [],
   "source": [
    "chembl_raw = chembldb.ChemblDB()\n",
    "chembl_smiles = chembl_raw._load_or_download()[\"canonical_smiles\"]"
   ]
  },
  {
   "cell_type": "code",
   "execution_count": 21,
   "id": "197807b4",
   "metadata": {},
   "outputs": [],
   "source": [
    "tokenizer = chembed_tokenize.load_chembed_tokenizer(filepath = \"../data/tokenizers/tokenizer-chembldb-16-06-2025.json\")"
   ]
  },
  {
   "cell_type": "code",
   "execution_count": 39,
   "id": "23c0aae7",
   "metadata": {},
   "outputs": [],
   "source": [
    "chembl_dataset = smiles_dataset.SMILESDataset(\n",
    "    smiles_list = chembl_smiles,\n",
    "    tokenizer = tokenizer\n",
    ")"
   ]
  },
  {
   "cell_type": "code",
   "execution_count": 41,
   "id": "0c378a2b",
   "metadata": {},
   "outputs": [
    {
     "name": "stderr",
     "output_type": "stream",
     "text": [
      "/Users/patrickrowe/miniconda3/envs/main/lib/python3.12/site-packages/torch/nn/modules/lazy.py:181: UserWarning: Lazy modules are a new feature under heavy development so changes to the API or functionality can happen at any moment.\n",
      "  warnings.warn('Lazy modules are a new feature under heavy development '\n"
     ]
    }
   ],
   "source": [
    "model = simple_rnn.simpleRNN(\n",
    "    # Mandatory\n",
    "    num_hiddens = 64,\n",
    "    vocab_size = len(tokenizer),\n",
    "    # tuning\n",
    "    learning_rate = 0.1,\n",
    "    weight_decay = 0.01\n",
    ")"
   ]
  },
  {
   "cell_type": "code",
   "execution_count": 42,
   "id": "cc169524",
   "metadata": {},
   "outputs": [
    {
     "data": {
      "text/plain": [
       "tensor([[0., 0., 0.,  ..., 0., 0., 0.],\n",
       "        [0., 0., 0.,  ..., 0., 0., 0.],\n",
       "        [0., 0., 0.,  ..., 0., 0., 0.],\n",
       "        ...,\n",
       "        [0., 0., 0.,  ..., 0., 0., 0.],\n",
       "        [0., 0., 0.,  ..., 0., 0., 0.],\n",
       "        [0., 0., 0.,  ..., 0., 0., 0.]])"
      ]
     },
     "execution_count": 42,
     "metadata": {},
     "output_type": "execute_result"
    }
   ],
   "source": [
    "chembl_dataset[0].type(torch.float32)"
   ]
  },
  {
   "cell_type": "code",
   "execution_count": 43,
   "id": "b8d521fd",
   "metadata": {},
   "outputs": [
    {
     "data": {
      "text/plain": [
       "tensor([[ 0.0240, -0.0486, -0.0227,  ...,  0.1354, -0.0475, -0.1210],\n",
       "        [ 0.0983, -0.0559, -0.0363,  ...,  0.1613, -0.0572, -0.0609],\n",
       "        [ 0.0254, -0.1033, -0.0773,  ...,  0.1938, -0.0003,  0.0100],\n",
       "        ...,\n",
       "        [ 0.1143, -0.0358, -0.0784,  ...,  0.0424, -0.1109, -0.0938],\n",
       "        [ 0.1143, -0.0358, -0.0784,  ...,  0.0424, -0.1109, -0.0938],\n",
       "        [ 0.1143, -0.0358, -0.0784,  ...,  0.0424, -0.1109, -0.0938]],\n",
       "       grad_fn=<AddmmBackward0>)"
      ]
     },
     "execution_count": 43,
     "metadata": {},
     "output_type": "execute_result"
    }
   ],
   "source": [
    "model.forward(next(iter(chembl_dataset)))"
   ]
  },
  {
   "cell_type": "code",
   "execution_count": 220,
   "id": "be0fdc81",
   "metadata": {},
   "outputs": [],
   "source": [
    "def predict(input, num_preds, model, dataset, device=None):\n",
    "    state, outputs = None, [input[0]]\n",
    "\n",
    "    # predict input + num_preds tokens\n",
    "    for i in range(len(input) + num_preds - 1):\n",
    "        print(i)\n",
    "        X = torch.tensor(dataset.encode_smiles_to_one_hot(outputs[i]), device=device)\n",
    "        \n",
    "        rnn_outputs, state = model.rnn(X, state)\n",
    "\n",
    "        if i < len(input) - 1:\n",
    "            outputs.append(input[i + 1])\n",
    "        else:\n",
    "            Y = dataset.tokenizer.decode(model.linear(rnn_outputs).argmax())\n",
    "            outputs.append(Y)\n",
    "\n",
    "    return ''.join(outputs)\n",
    "            "
   ]
  },
  {
   "cell_type": "code",
   "execution_count": 223,
   "id": "a6bd5bf8",
   "metadata": {},
   "outputs": [
    {
     "name": "stdout",
     "output_type": "stream",
     "text": [
      "0\n",
      "1\n",
      "2\n",
      "3\n",
      "4\n"
     ]
    },
    {
     "name": "stderr",
     "output_type": "stream",
     "text": [
      "/var/folders/ql/140bddls19x4s8xyk9nrwyd00000gn/T/ipykernel_16882/3921232552.py:7: UserWarning: To copy construct from a tensor, it is recommended to use sourceTensor.clone().detach() or sourceTensor.clone().detach().requires_grad_(True), rather than torch.tensor(sourceTensor).\n",
      "  X = torch.tensor(dataset.encode_smiles_to_one_hot(outputs[i]), device=device)\n"
     ]
    },
    {
     "name": "stdout",
     "output_type": "stream",
     "text": [
      "5\n",
      "6\n",
      "7\n",
      "8\n",
      "9\n",
      "10\n",
      "11\n",
      "12\n"
     ]
    }
   ],
   "source": [
    "result = predict(\"COCC\", 10, model, chembl_dataset)"
   ]
  },
  {
   "cell_type": "code",
   "execution_count": 224,
   "id": "41f21336",
   "metadata": {},
   "outputs": [
    {
     "name": "stdout",
     "output_type": "stream",
     "text": [
      "COCCCc1ccccc1\n"
     ]
    }
   ],
   "source": [
    "print(result)"
   ]
  },
  {
   "cell_type": "code",
   "execution_count": null,
   "id": "ecc88c92",
   "metadata": {},
   "outputs": [],
   "source": []
  }
 ],
 "metadata": {
  "kernelspec": {
   "display_name": "main",
   "language": "python",
   "name": "python3"
  },
  "language_info": {
   "codemirror_mode": {
    "name": "ipython",
    "version": 3
   },
   "file_extension": ".py",
   "mimetype": "text/x-python",
   "name": "python",
   "nbconvert_exporter": "python",
   "pygments_lexer": "ipython3",
   "version": "3.12.3"
  }
 },
 "nbformat": 4,
 "nbformat_minor": 5
}
