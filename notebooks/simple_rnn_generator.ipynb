{
 "cells": [
  {
   "cell_type": "code",
   "execution_count": 17,
   "id": "ebc7baa6",
   "metadata": {},
   "outputs": [
    {
     "name": "stdout",
     "output_type": "stream",
     "text": [
      "The autoreload extension is already loaded. To reload it, use:\n",
      "  %reload_ext autoreload\n"
     ]
    }
   ],
   "source": [
    "%load_ext autoreload\n",
    "%autoreload 2"
   ]
  },
  {
   "cell_type": "code",
   "execution_count": 18,
   "id": "581b8a62",
   "metadata": {},
   "outputs": [],
   "source": [
    "import sys\n",
    "\n",
    "sys.path.append(\"../../\")"
   ]
  },
  {
   "cell_type": "code",
   "execution_count": 336,
   "id": "a8bfb03a",
   "metadata": {},
   "outputs": [],
   "source": [
    "from tokenizers import Tokenizer\n",
    "import sys\n",
    "\n",
    "import matplotlib.pyplot as plt\n",
    "import numpy as np\n",
    "import collections\n",
    "import torch\n",
    "\n",
    "from ChEmbed.data import chembldb, smiles_dataset, chembed_tokenize\n",
    "from ChEmbed.training import trainer\n",
    "from ChEmbed.modules import simple_rnn\n",
    "\n",
    "from ChEmbed import plots, utilities"
   ]
  },
  {
   "cell_type": "code",
   "execution_count": 20,
   "id": "f7c6ef97",
   "metadata": {},
   "outputs": [],
   "source": [
    "chembl_raw = chembldb.ChemblDB()\n",
    "chembl_smiles = chembl_raw._load_or_download()[\"canonical_smiles\"]"
   ]
  },
  {
   "cell_type": "code",
   "execution_count": 21,
   "id": "197807b4",
   "metadata": {},
   "outputs": [],
   "source": [
    "tokenizer = chembed_tokenize.load_chembed_tokenizer(filepath = \"../data/tokenizers/tokenizer-chembldb-16-06-2025.json\")"
   ]
  },
  {
   "cell_type": "code",
   "execution_count": 339,
   "id": "23c0aae7",
   "metadata": {},
   "outputs": [],
   "source": [
    "chembl_dataset = smiles_dataset.SMILESDataset(\n",
    "    smiles_list = chembl_smiles,\n",
    "    tokenizer = tokenizer\n",
    ")\n",
    "\n",
    "chembl_mini = chembl_dataset = smiles_dataset.SMILESDataset(\n",
    "    smiles_list = chembl_smiles[:128],\n",
    "    tokenizer = tokenizer\n",
    ")"
   ]
  },
  {
   "cell_type": "code",
   "execution_count": null,
   "id": "0c378a2b",
   "metadata": {},
   "outputs": [
    {
     "name": "stderr",
     "output_type": "stream",
     "text": [
      "/Users/patrickrowe/miniconda3/envs/main/lib/python3.12/site-packages/torch/nn/modules/lazy.py:181: UserWarning: Lazy modules are a new feature under heavy development so changes to the API or functionality can happen at any moment.\n",
      "  warnings.warn('Lazy modules are a new feature under heavy development '\n"
     ]
    }
   ],
   "source": [
    "model = simple_rnn.simpleRNN(\n",
    "    # Mandatory\n",
    "    num_hiddens = 64,\n",
    "    vocab_size = len(tokenizer),\n",
    "    # tuning\n",
    "    learning_rate = 0.2,\n",
    "    weight_decay = 0.01\n",
    ")"
   ]
  },
  {
   "cell_type": "code",
   "execution_count": 321,
   "id": "cc169524",
   "metadata": {},
   "outputs": [
    {
     "data": {
      "text/plain": [
       "tensor([[0., 0., 0.,  ..., 0., 0., 0.],\n",
       "        [0., 0., 0.,  ..., 0., 0., 0.],\n",
       "        [0., 0., 0.,  ..., 0., 0., 0.],\n",
       "        ...,\n",
       "        [0., 0., 0.,  ..., 0., 0., 0.],\n",
       "        [0., 0., 0.,  ..., 0., 0., 0.],\n",
       "        [0., 0., 0.,  ..., 0., 0., 0.]])"
      ]
     },
     "execution_count": 321,
     "metadata": {},
     "output_type": "execute_result"
    }
   ],
   "source": [
    "chembl_dataset[0].type(torch.float32)"
   ]
  },
  {
   "cell_type": "code",
   "execution_count": 322,
   "id": "b8d521fd",
   "metadata": {},
   "outputs": [
    {
     "data": {
      "text/plain": [
       "tensor([[ 0.0003, -0.0046,  0.0593,  ...,  0.0204,  0.0204,  0.0204],\n",
       "        [ 0.0486,  0.0739,  0.1220,  ...,  0.0388,  0.0388,  0.0388],\n",
       "        [-0.1826, -0.1086, -0.0165,  ..., -0.1344, -0.1344, -0.1344],\n",
       "        ...,\n",
       "        [ 0.0489,  0.0341, -0.0702,  ..., -0.0475, -0.0475, -0.0475],\n",
       "        [-0.1557, -0.1054, -0.1742,  ...,  0.0080,  0.0080,  0.0080],\n",
       "        [ 0.0045, -0.0613,  0.1106,  ...,  0.0238,  0.0238,  0.0238]],\n",
       "       grad_fn=<TransposeBackward0>)"
      ]
     },
     "execution_count": 322,
     "metadata": {},
     "output_type": "execute_result"
    }
   ],
   "source": [
    "model.forward(next(iter(chembl_dataset)))"
   ]
  },
  {
   "cell_type": "code",
   "execution_count": 332,
   "id": "be0fdc81",
   "metadata": {},
   "outputs": [],
   "source": [
    "def predict(input, num_preds, model, dataset, device=None):\n",
    "    state, outputs = None, [input[0]]\n",
    "\n",
    "    # predict input + num_preds tokens\n",
    "    for i in range(len(input) + num_preds - 1):\n",
    "        X = torch.tensor(dataset.encode_smiles_to_one_hot(outputs[i]), device=device)\n",
    "        \n",
    "        rnn_outputs, state = model.rnn(X, state)\n",
    "\n",
    "        if i < len(input) - 1:\n",
    "            outputs.append(input[i + 1])\n",
    "        else:\n",
    "            Y = dataset.tokenizer.decode(model.linear(rnn_outputs).argmax())\n",
    "            outputs.append(Y)\n",
    "\n",
    "    return ''.join(outputs)\n",
    "            "
   ]
  },
  {
   "cell_type": "code",
   "execution_count": 333,
   "id": "a6bd5bf8",
   "metadata": {},
   "outputs": [
    {
     "name": "stderr",
     "output_type": "stream",
     "text": [
      "/var/folders/ql/140bddls19x4s8xyk9nrwyd00000gn/T/ipykernel_16882/1428639691.py:6: UserWarning: To copy construct from a tensor, it is recommended to use sourceTensor.clone().detach() or sourceTensor.clone().detach().requires_grad_(True), rather than torch.tensor(sourceTensor).\n",
      "  X = torch.tensor(dataset.encode_smiles_to_one_hot(outputs[i]), device=device)\n"
     ]
    },
    {
     "name": "stdout",
     "output_type": "stream",
     "text": [
      "CCCc1cc2ccc1cc2ccc1cc2ccc1cc2ccc1cc2cc\n"
     ]
    }
   ],
   "source": [
    "print(predict(\"CCC\", 10, model, chembl_dataset))"
   ]
  },
  {
   "cell_type": "code",
   "execution_count": 341,
   "id": "ecc88c92",
   "metadata": {},
   "outputs": [
    {
     "name": "stdout",
     "output_type": "stream",
     "text": [
      "Training batch 1/2... (Epoch 1/16)\n",
      "Training batch 2/2... (Epoch 1/16)\n",
      "Training batch 1/2... (Epoch 2/16)\n",
      "Training batch 2/2... (Epoch 2/16)\n",
      "Training batch 1/2... (Epoch 3/16)\n",
      "Training batch 2/2... (Epoch 3/16)\n",
      "Training batch 1/2... (Epoch 4/16)\n",
      "Training batch 2/2... (Epoch 4/16)\n",
      "Training batch 1/2... (Epoch 5/16)\n",
      "Training batch 2/2... (Epoch 5/16)\n",
      "Training batch 1/2... (Epoch 6/16)\n",
      "Training batch 2/2... (Epoch 6/16)\n",
      "Training batch 1/2... (Epoch 7/16)\n",
      "Training batch 2/2... (Epoch 7/16)\n",
      "Training batch 1/2... (Epoch 8/16)\n",
      "Training batch 2/2... (Epoch 8/16)\n",
      "Training batch 1/2... (Epoch 9/16)\n",
      "Training batch 2/2... (Epoch 9/16)\n",
      "Training batch 1/2... (Epoch 10/16)\n",
      "Training batch 2/2... (Epoch 10/16)\n",
      "Training batch 1/2... (Epoch 11/16)\n",
      "Training batch 2/2... (Epoch 11/16)\n",
      "Training batch 1/2... (Epoch 12/16)\n",
      "Training batch 2/2... (Epoch 12/16)\n",
      "Training batch 1/2... (Epoch 13/16)\n",
      "Training batch 2/2... (Epoch 13/16)\n",
      "Training batch 1/2... (Epoch 14/16)\n",
      "Training batch 2/2... (Epoch 14/16)\n",
      "Training batch 1/2... (Epoch 15/16)\n",
      "Training batch 2/2... (Epoch 15/16)\n",
      "Training batch 1/2... (Epoch 16/16)\n",
      "Training batch 2/2... (Epoch 16/16)\n"
     ]
    }
   ],
   "source": [
    "model_trainer = trainer.Trainer(max_epochs=16, init_random=42)\n",
    "model_trainer.fit(model, chembl_mini)"
   ]
  },
  {
   "cell_type": "code",
   "execution_count": 342,
   "id": "af858e14",
   "metadata": {},
   "outputs": [
    {
     "name": "stderr",
     "output_type": "stream",
     "text": [
      "/var/folders/ql/140bddls19x4s8xyk9nrwyd00000gn/T/ipykernel_16882/1428639691.py:6: UserWarning: To copy construct from a tensor, it is recommended to use sourceTensor.clone().detach() or sourceTensor.clone().detach().requires_grad_(True), rather than torch.tensor(sourceTensor).\n",
      "  X = torch.tensor(dataset.encode_smiles_to_one_hot(outputs[i]), device=device)\n"
     ]
    },
    {
     "name": "stdout",
     "output_type": "stream",
     "text": [
      "CCC<pad><pad><pad><pad><pad><pad><pad><pad><pad>\n"
     ]
    }
   ],
   "source": [
    "print(predict(\"CCC\", 10, model, chembl_dataset))"
   ]
  },
  {
   "cell_type": "code",
   "execution_count": 343,
   "id": "141335fd",
   "metadata": {},
   "outputs": [
    {
     "data": {
      "image/png": "[encoded data removed]",
      "text/plain": [
       "<Figure size 500x500 with 1 Axes>"
      ]
     },
     "metadata": {},
     "output_type": "display_data"
    }
   ],
   "source": [
    "losses = utilities.extract_training_losses(model_trainer.metadata)\n",
    "fig, ax = plots.plot_training_validation_loss(losses['avg_train_losses'], losses['avg_val_losses'])\n",
    "ax.set_yscale('log')"
   ]
  },
  {
   "cell_type": "code",
   "execution_count": null,
   "id": "14ee3210",
   "metadata": {},
   "outputs": [],
   "source": []
  }
 ],
 "metadata": {
  "kernelspec": {
   "display_name": "main",
   "language": "python",
   "name": "python3"
  },
  "language_info": {
   "codemirror_mode": {
    "name": "ipython",
    "version": 3
   },
   "file_extension": ".py",
   "mimetype": "text/x-python",
   "name": "python",
   "nbconvert_exporter": "python",
   "pygments_lexer": "ipython3",
   "version": "3.12.3"
  }
 },
 "nbformat": 4,
 "nbformat_minor": 5
}
