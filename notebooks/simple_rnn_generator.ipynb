{
 "cells": [
  {
   "cell_type": "code",
   "execution_count": null,
   "id": "ebc7baa6",
   "metadata": {},
   "outputs": [],
   "source": [
    "%load_ext autoreload\n",
    "%autoreload 2"
   ]
  },
  {
   "cell_type": "code",
   "execution_count": null,
   "id": "581b8a62",
   "metadata": {},
   "outputs": [],
   "source": [
    "import sys\n",
    "\n",
    "sys.path.append(\"../../\")"
   ]
  },
  {
   "cell_type": "code",
   "execution_count": null,
   "id": "a8bfb03a",
   "metadata": {},
   "outputs": [],
   "source": [
    "from tokenizers import Tokenizer\n",
    "import sys\n",
    "\n",
    "import matplotlib.pyplot as plt\n",
    "import numpy as np\n",
    "import collections\n",
    "import torch\n",
    "\n",
    "from ChEmbed.data import chembldb, datasets, chembed_tokenize\n",
    "from ChEmbed.training import trainer\n",
    "from ChEmbed.modules import simple_rnn\n",
    "import attr\n",
    "\n",
    "from ChEmbed import plots, utilities\n",
    "\n",
    "from transformers.tokenization_utils_fast import PreTrainedTokenizerFast\n",
    "from torch.utils.data import Dataset\n",
    "from torch.utils.data import DataLoader"
   ]
  },
  {
   "cell_type": "code",
   "execution_count": null,
   "id": "f7c6ef97",
   "metadata": {},
   "outputs": [],
   "source": [
    "chembl_raw = chembldb.ChemblDBChemreps()\n",
    "chembl_smiles = chembl_raw._load_or_download()[\"canonical_smiles\"].to_list()"
   ]
  },
  {
   "cell_type": "code",
   "execution_count": null,
   "id": "2053b2a0-27eb-4a75-873a-b92072beea02",
   "metadata": {},
   "outputs": [],
   "source": [
    "chembl = datasets.SMILESDatasetContinuous(\n",
    "    smiles_list = chembl_smiles,\n",
    "    tokenizer = tokenizer,\n",
    "    length = 65,\n",
    ")"
   ]
  },
  {
   "cell_type": "code",
   "execution_count": null,
   "id": "260421e6",
   "metadata": {},
   "outputs": [],
   "source": [
    "print(chembl_mini[0][0].shape)\n",
    "print(chembl_mini[0][1].shape)"
   ]
  },
  {
   "cell_type": "code",
   "execution_count": null,
   "id": "a6bd5bf8",
   "metadata": {},
   "outputs": [],
   "source": [
    "# print(predict(\"C=O\", 30, model, chembl_mini, device=\"cpu\"))"
   ]
  },
  {
   "cell_type": "code",
   "execution_count": null,
   "id": "259e3ece",
   "metadata": {},
   "outputs": [],
   "source": [
    "model = simple_rnn.simpleRNN(\n",
    "    # Mandatory\n",
    "    num_hiddens = 128,\n",
    "    vocab_size = len(tokenizer),\n",
    "    # tuning\n",
    "    learning_rate = 0.01,\n",
    "    weight_decay = 0.05\n",
    ")"
   ]
  },
  {
   "cell_type": "code",
   "execution_count": null,
   "id": "83bcb29e",
   "metadata": {},
   "outputs": [],
   "source": [
    "batch = next(iter(chembl_mini.train_dataloader()))\n",
    "print(batch[0].shape)\n",
    "print(batch[1].shape)\n",
    "\n",
    "# [batch_size, seq_len, vocab_size]\n",
    "# [batch_size, seq_len]"
   ]
  },
  {
   "cell_type": "code",
   "execution_count": null,
   "id": "5622da7e",
   "metadata": {},
   "outputs": [],
   "source": [
    "test_smiles = \"CN=C=O\"\n",
    "smiles_one_hot = chembl_mini.encode_smiles_to_one_hot(test_smiles)\n",
    "\n",
    "outputs = model(smiles_one_hot.unsqueeze(0))"
   ]
  },
  {
   "cell_type": "code",
   "execution_count": null,
   "id": "96b94abc",
   "metadata": {},
   "outputs": [],
   "source": [
    "print(smiles_one_hot.shape)\n",
    "print(outputs.shape)"
   ]
  },
  {
   "cell_type": "code",
   "execution_count": null,
   "id": "90ad71ad",
   "metadata": {},
   "outputs": [],
   "source": [
    "print(chembl_mini.tokenizer.decode(smiles_one_hot.argmax(1).tolist()))\n",
    "print(chembl_mini.tokenizer.decode(outputs.squeeze().argmax(1).tolist()))"
   ]
  },
  {
   "cell_type": "code",
   "execution_count": null,
   "id": "9247ca40",
   "metadata": {},
   "outputs": [],
   "source": []
  },
  {
   "cell_type": "code",
   "execution_count": null,
   "id": "9490ad53",
   "metadata": {},
   "outputs": [],
   "source": [
    "generate_sequence(\n",
    "    prefix=\"C=O\",\n",
    "    num_chars=30,\n",
    "    model=model,\n",
    "    dataset=chembl_mini,\n",
    "    device=\"cpu\",\n",
    "    temperature=0.01\n",
    ")"
   ]
  },
  {
   "cell_type": "code",
   "execution_count": null,
   "id": "cea80848",
   "metadata": {},
   "outputs": [],
   "source": [
    "\n",
    "# Test the generation function\n",
    "print(\"Testing generation with trained model:\")\n",
    "result = simple_generate(\"C=O\", 5, model, chembl_mini, device=\"cpu\")\n",
    "print(f\"Final result: {result}\")"
   ]
  },
  {
   "cell_type": "code",
   "execution_count": null,
   "id": "ecc88c92",
   "metadata": {},
   "outputs": [],
   "source": [
    "model_trainer = trainer.Trainer(max_epochs=32, init_random=None, clip_grads_norm=1.0)\n",
    "model_trainer.fit(model, chembl_mini)"
   ]
  },
  {
   "cell_type": "code",
   "execution_count": null,
   "id": "86536472",
   "metadata": {},
   "outputs": [],
   "source": []
  },
  {
   "cell_type": "code",
   "execution_count": null,
   "id": "7b32c302",
   "metadata": {},
   "outputs": [],
   "source": [
    "generate_sequence(\n",
    "    prefix=\"C=O\",\n",
    "    num_chars=30,\n",
    "    model=model,\n",
    "    dataset=chembl_mini,\n",
    "    device=\"cuda\",\n",
    "    temperature=0.1\n",
    ")"
   ]
  },
  {
   "cell_type": "code",
   "execution_count": null,
   "id": "1e6456ec",
   "metadata": {},
   "outputs": [],
   "source": [
    "generate_sequence(\n",
    "    prefix=\"C1\",\n",
    "    num_chars=30,\n",
    "    model=model,\n",
    "    dataset=chembl_mini,\n",
    "    device=\"cuda\",\n",
    "    temperature=0.1\n",
    ")"
   ]
  },
  {
   "cell_type": "code",
   "execution_count": null,
   "id": "a83cd1ef",
   "metadata": {},
   "outputs": [],
   "source": []
  },
  {
   "cell_type": "code",
   "execution_count": null,
   "id": "fc54eb90",
   "metadata": {},
   "outputs": [],
   "source": []
  },
  {
   "cell_type": "code",
   "execution_count": null,
   "id": "3e254da2",
   "metadata": {},
   "outputs": [],
   "source": [
    "# print gradients of model\n",
    "# for name, param in model.named_parameters():\n",
    "#     if param.requires_grad:\n",
    "#         print(name, param.grad)"
   ]
  },
  {
   "cell_type": "code",
   "execution_count": null,
   "id": "141335fd",
   "metadata": {},
   "outputs": [],
   "source": [
    "losses = utilities.extract_training_losses(model_trainer.metadata)\n",
    "fig, ax = plots.plot_training_validation_loss(losses['avg_train_losses'], losses['avg_val_losses'])\n",
    "ax.set_yscale('log')"
   ]
  },
  {
   "cell_type": "markdown",
   "id": "0de4d113",
   "metadata": {},
   "source": []
  },
  {
   "cell_type": "code",
   "execution_count": null,
   "id": "14ee3210",
   "metadata": {},
   "outputs": [],
   "source": [
    "encoded = chembl_mini.tokenizer.encode(\"C\")\n",
    "encoded_1h = chembl_mini.encoding_to_one_hot(encoded)\n",
    "print(encoded)\n",
    "print(encoded_1h.argmax())"
   ]
  },
  {
   "cell_type": "code",
   "execution_count": null,
   "id": "8b32b7ff-53ea-47f5-a734-6b8812e93947",
   "metadata": {},
   "outputs": [],
   "source": [
    "pred_raw = model(encoded_1h)\n"
   ]
  },
  {
   "cell_type": "code",
   "execution_count": null,
   "id": "c67e39ac-5971-4c24-8e81-5be21ca4b6d0",
   "metadata": {},
   "outputs": [],
   "source": [
    "pred_raw.shape"
   ]
  },
  {
   "cell_type": "code",
   "execution_count": null,
   "id": "c42a70dc-24ba-4594-bce7-32481c5c6d99",
   "metadata": {},
   "outputs": [],
   "source": [
    "tokens = pred_raw.argmax(1).tolist()"
   ]
  },
  {
   "cell_type": "code",
   "execution_count": null,
   "id": "29a5c3dd-5cdb-42dc-abbd-16379cc5eaa9",
   "metadata": {},
   "outputs": [],
   "source": [
    "print(chembl_mini.tokenizer.decode(tokens))"
   ]
  },
  {
   "cell_type": "code",
   "execution_count": null,
   "id": "459676fe-355d-4b87-89b7-252fd73417ba",
   "metadata": {},
   "outputs": [],
   "source": [
    "chembl_mini.tokenizer.decode(chembl_mini[0][0].argmax(1).tolist())"
   ]
  },
  {
   "cell_type": "code",
   "execution_count": null,
   "id": "d573d9cf-e6b5-48fd-8507-f7214856b5fc",
   "metadata": {},
   "outputs": [],
   "source": [
    "chembl_mini.tokenizer.decode(chembl_mini[0][1].argmax(0).tolist())"
   ]
  },
  {
   "cell_type": "code",
   "execution_count": null,
   "id": "1355262b-ef8f-43d9-8ecd-ef2f081bee2f",
   "metadata": {},
   "outputs": [],
   "source": []
  }
 ],
 "metadata": {
  "kernelspec": {
   "display_name": "d2l",
   "language": "python",
   "name": "python3"
  },
  "language_info": {
   "codemirror_mode": {
    "name": "ipython",
    "version": 3
   },
   "file_extension": ".py",
   "mimetype": "text/x-python",
   "name": "python",
   "nbconvert_exporter": "python",
   "pygments_lexer": "ipython3",
   "version": "3.9.21"
  }
 },
 "nbformat": 4,
 "nbformat_minor": 5
}
