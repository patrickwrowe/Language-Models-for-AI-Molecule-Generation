{
 "cells": [
  {
   "cell_type": "code",
   "execution_count": 17,
   "id": "ebc7baa6",
   "metadata": {},
   "outputs": [
    {
     "name": "stdout",
     "output_type": "stream",
     "text": [
      "The autoreload extension is already loaded. To reload it, use:\n",
      "  %reload_ext autoreload\n"
     ]
    }
   ],
   "source": [
    "%load_ext autoreload\n",
    "%autoreload 2"
   ]
  },
  {
   "cell_type": "code",
   "execution_count": 18,
   "id": "581b8a62",
   "metadata": {},
   "outputs": [],
   "source": [
    "import sys\n",
    "\n",
    "sys.path.append(\"../../\")"
   ]
  },
  {
   "cell_type": "code",
   "execution_count": 336,
   "id": "a8bfb03a",
   "metadata": {},
   "outputs": [],
   "source": [
    "from tokenizers import Tokenizer\n",
    "import sys\n",
    "\n",
    "import matplotlib.pyplot as plt\n",
    "import numpy as np\n",
    "import collections\n",
    "import torch\n",
    "\n",
    "from ChEmbed.data import chembldb, smiles_dataset, chembed_tokenize\n",
    "from ChEmbed.training import trainer\n",
    "from ChEmbed.modules import simple_rnn\n",
    "\n",
    "from ChEmbed import plots, utilities"
   ]
  },
  {
   "cell_type": "code",
   "execution_count": 20,
   "id": "f7c6ef97",
   "metadata": {},
   "outputs": [],
   "source": [
    "chembl_raw = chembldb.ChemblDB()\n",
    "chembl_smiles = chembl_raw._load_or_download()[\"canonical_smiles\"]"
   ]
  },
  {
   "cell_type": "code",
   "execution_count": 21,
   "id": "197807b4",
   "metadata": {},
   "outputs": [],
   "source": [
    "tokenizer = chembed_tokenize.load_chembed_tokenizer(filepath = \"../data/tokenizers/tokenizer-chembldb-16-06-2025.json\")"
   ]
  },
  {
   "cell_type": "code",
   "execution_count": 344,
   "id": "23c0aae7",
   "metadata": {},
   "outputs": [],
   "source": [
    "chembl_dataset = smiles_dataset.SMILESDataset(\n",
    "    smiles_list = chembl_smiles,\n",
    "    tokenizer = tokenizer\n",
    ")\n",
    "\n",
    "chembl_mini = chembl_dataset = smiles_dataset.SMILESDataset(\n",
    "    smiles_list = chembl_smiles[:1048],\n",
    "    tokenizer = tokenizer\n",
    ")"
   ]
  },
  {
   "cell_type": "code",
   "execution_count": 345,
   "id": "0c378a2b",
   "metadata": {},
   "outputs": [],
   "source": [
    "model = simple_rnn.simpleRNN(\n",
    "    # Mandatory\n",
    "    num_hiddens = 64,\n",
    "    vocab_size = len(tokenizer),\n",
    "    # tuning\n",
    "    learning_rate = 0.2,\n",
    "    weight_decay = 0.01\n",
    ")"
   ]
  },
  {
   "cell_type": "code",
   "execution_count": 346,
   "id": "cc169524",
   "metadata": {},
   "outputs": [
    {
     "data": {
      "text/plain": [
       "tensor([[0., 0., 0.,  ..., 0., 0., 0.],\n",
       "        [0., 0., 0.,  ..., 0., 0., 0.],\n",
       "        [0., 0., 0.,  ..., 0., 0., 0.],\n",
       "        ...,\n",
       "        [0., 0., 0.,  ..., 0., 0., 0.],\n",
       "        [0., 0., 0.,  ..., 0., 0., 0.],\n",
       "        [0., 0., 0.,  ..., 0., 0., 0.]])"
      ]
     },
     "execution_count": 346,
     "metadata": {},
     "output_type": "execute_result"
    }
   ],
   "source": [
    "chembl_dataset[0].type(torch.float32)"
   ]
  },
  {
   "cell_type": "code",
   "execution_count": 347,
   "id": "b8d521fd",
   "metadata": {},
   "outputs": [
    {
     "data": {
      "text/plain": [
       "tensor([[-0.0600, -0.0107, -0.0660,  ..., -0.0373, -0.0373, -0.0373],\n",
       "        [ 0.1196,  0.0355,  0.1351,  ...,  0.1457,  0.1457,  0.1457],\n",
       "        [-0.1480, -0.1109, -0.0839,  ..., -0.1240, -0.1240, -0.1240],\n",
       "        ...,\n",
       "        [ 0.0329, -0.0527,  0.0584,  ...,  0.0409,  0.0409,  0.0409],\n",
       "        [-0.0874, -0.0529, -0.1211,  ..., -0.1089, -0.1089, -0.1089],\n",
       "        [ 0.2451,  0.2186,  0.2012,  ...,  0.2490,  0.2490,  0.2490]],\n",
       "       grad_fn=<TransposeBackward0>)"
      ]
     },
     "execution_count": 347,
     "metadata": {},
     "output_type": "execute_result"
    }
   ],
   "source": [
    "model.forward(next(iter(chembl_dataset)))"
   ]
  },
  {
   "cell_type": "code",
   "execution_count": 348,
   "id": "be0fdc81",
   "metadata": {},
   "outputs": [],
   "source": [
    "def predict(input, num_preds, model, dataset, device=None):\n",
    "    state, outputs = None, [input[0]]\n",
    "\n",
    "    # predict input + num_preds tokens\n",
    "    for i in range(len(input) + num_preds - 1):\n",
    "        X = torch.tensor(dataset.encode_smiles_to_one_hot(outputs[i]), device=device)\n",
    "        \n",
    "        rnn_outputs, state = model.rnn(X, state)\n",
    "\n",
    "        if i < len(input) - 1:\n",
    "            outputs.append(input[i + 1])\n",
    "        else:\n",
    "            Y = dataset.tokenizer.decode(model.linear(rnn_outputs).argmax())\n",
    "            outputs.append(Y)\n",
    "\n",
    "    return ''.join(outputs)\n",
    "            "
   ]
  },
  {
   "cell_type": "code",
   "execution_count": 356,
   "id": "a6bd5bf8",
   "metadata": {},
   "outputs": [
    {
     "name": "stderr",
     "output_type": "stream",
     "text": [
      "/var/folders/ql/140bddls19x4s8xyk9nrwyd00000gn/T/ipykernel_16882/1428639691.py:6: UserWarning: To copy construct from a tensor, it is recommended to use sourceTensor.clone().detach() or sourceTensor.clone().detach().requires_grad_(True), rather than torch.tensor(sourceTensor).\n",
      "  X = torch.tensor(dataset.encode_smiles_to_one_hot(outputs[i]), device=device)\n"
     ]
    },
    {
     "name": "stdout",
     "output_type": "stream",
     "text": [
      "CHCC<pad><pad><pad><pad><pad><pad><pad><pad><pad><pad><pad><pad><pad><pad>\n"
     ]
    }
   ],
   "source": [
    "print(predict(\"CHCC\", 15, model, chembl_dataset))"
   ]
  },
  {
   "cell_type": "code",
   "execution_count": 350,
   "id": "ecc88c92",
   "metadata": {},
   "outputs": [
    {
     "name": "stdout",
     "output_type": "stream",
     "text": [
      "Training batch 1/17... (Epoch 1/16)\n",
      "Training batch 2/17... (Epoch 1/16)\n",
      "Training batch 3/17... (Epoch 1/16)\n",
      "Training batch 4/17... (Epoch 1/16)\n",
      "Training batch 5/17... (Epoch 1/16)\n",
      "Training batch 6/17... (Epoch 1/16)\n",
      "Training batch 7/17... (Epoch 1/16)\n",
      "Training batch 8/17... (Epoch 1/16)\n",
      "Training batch 9/17... (Epoch 1/16)\n",
      "Training batch 10/17... (Epoch 1/16)\n",
      "Training batch 11/17... (Epoch 1/16)\n",
      "Training batch 12/17... (Epoch 1/16)\n",
      "Training batch 13/17... (Epoch 1/16)\n",
      "Training batch 14/17... (Epoch 1/16)\n",
      "Training batch 15/17... (Epoch 1/16)\n",
      "Training batch 16/17... (Epoch 1/16)\n",
      "Training batch 17/17... (Epoch 1/16)\n",
      "Training batch 1/17... (Epoch 2/16)\n",
      "Training batch 2/17... (Epoch 2/16)\n",
      "Training batch 3/17... (Epoch 2/16)\n",
      "Training batch 4/17... (Epoch 2/16)\n",
      "Training batch 5/17... (Epoch 2/16)\n",
      "Training batch 6/17... (Epoch 2/16)\n",
      "Training batch 7/17... (Epoch 2/16)\n",
      "Training batch 8/17... (Epoch 2/16)\n",
      "Training batch 9/17... (Epoch 2/16)\n",
      "Training batch 10/17... (Epoch 2/16)\n",
      "Training batch 11/17... (Epoch 2/16)\n",
      "Training batch 12/17... (Epoch 2/16)\n",
      "Training batch 13/17... (Epoch 2/16)\n",
      "Training batch 14/17... (Epoch 2/16)\n",
      "Training batch 15/17... (Epoch 2/16)\n",
      "Training batch 16/17... (Epoch 2/16)\n",
      "Training batch 17/17... (Epoch 2/16)\n",
      "Training batch 1/17... (Epoch 3/16)\n",
      "Training batch 2/17... (Epoch 3/16)\n",
      "Training batch 3/17... (Epoch 3/16)\n",
      "Training batch 4/17... (Epoch 3/16)\n",
      "Training batch 5/17... (Epoch 3/16)\n",
      "Training batch 6/17... (Epoch 3/16)\n",
      "Training batch 7/17... (Epoch 3/16)\n",
      "Training batch 8/17... (Epoch 3/16)\n",
      "Training batch 9/17... (Epoch 3/16)\n",
      "Training batch 10/17... (Epoch 3/16)\n",
      "Training batch 11/17... (Epoch 3/16)\n",
      "Training batch 12/17... (Epoch 3/16)\n",
      "Training batch 13/17... (Epoch 3/16)\n",
      "Training batch 14/17... (Epoch 3/16)\n",
      "Training batch 15/17... (Epoch 3/16)\n",
      "Training batch 16/17... (Epoch 3/16)\n",
      "Training batch 17/17... (Epoch 3/16)\n",
      "Training batch 1/17... (Epoch 4/16)\n",
      "Training batch 2/17... (Epoch 4/16)\n",
      "Training batch 3/17... (Epoch 4/16)\n",
      "Training batch 4/17... (Epoch 4/16)\n",
      "Training batch 5/17... (Epoch 4/16)\n",
      "Training batch 6/17... (Epoch 4/16)\n",
      "Training batch 7/17... (Epoch 4/16)\n",
      "Training batch 8/17... (Epoch 4/16)\n",
      "Training batch 9/17... (Epoch 4/16)\n",
      "Training batch 10/17... (Epoch 4/16)\n",
      "Training batch 11/17... (Epoch 4/16)\n",
      "Training batch 12/17... (Epoch 4/16)\n",
      "Training batch 13/17... (Epoch 4/16)\n",
      "Training batch 14/17... (Epoch 4/16)\n",
      "Training batch 15/17... (Epoch 4/16)\n",
      "Training batch 16/17... (Epoch 4/16)\n",
      "Training batch 17/17... (Epoch 4/16)\n",
      "Training batch 1/17... (Epoch 5/16)\n",
      "Training batch 2/17... (Epoch 5/16)\n",
      "Training batch 3/17... (Epoch 5/16)\n",
      "Training batch 4/17... (Epoch 5/16)\n",
      "Training batch 5/17... (Epoch 5/16)\n",
      "Training batch 6/17... (Epoch 5/16)\n",
      "Training batch 7/17... (Epoch 5/16)\n",
      "Training batch 8/17... (Epoch 5/16)\n",
      "Training batch 9/17... (Epoch 5/16)\n",
      "Training batch 10/17... (Epoch 5/16)\n",
      "Training batch 11/17... (Epoch 5/16)\n",
      "Training batch 12/17... (Epoch 5/16)\n",
      "Training batch 13/17... (Epoch 5/16)\n",
      "Training batch 14/17... (Epoch 5/16)\n",
      "Training batch 15/17... (Epoch 5/16)\n",
      "Training batch 16/17... (Epoch 5/16)\n",
      "Training batch 17/17... (Epoch 5/16)\n",
      "Training batch 1/17... (Epoch 6/16)\n",
      "Training batch 2/17... (Epoch 6/16)\n",
      "Training batch 3/17... (Epoch 6/16)\n",
      "Training batch 4/17... (Epoch 6/16)\n",
      "Training batch 5/17... (Epoch 6/16)\n",
      "Training batch 6/17... (Epoch 6/16)\n",
      "Training batch 7/17... (Epoch 6/16)\n",
      "Training batch 8/17... (Epoch 6/16)\n",
      "Training batch 9/17... (Epoch 6/16)\n",
      "Training batch 10/17... (Epoch 6/16)\n",
      "Training batch 11/17... (Epoch 6/16)\n",
      "Training batch 12/17... (Epoch 6/16)\n",
      "Training batch 13/17... (Epoch 6/16)\n",
      "Training batch 14/17... (Epoch 6/16)\n",
      "Training batch 15/17... (Epoch 6/16)\n",
      "Training batch 16/17... (Epoch 6/16)\n",
      "Training batch 17/17... (Epoch 6/16)\n",
      "Training batch 1/17... (Epoch 7/16)\n",
      "Training batch 2/17... (Epoch 7/16)\n",
      "Training batch 3/17... (Epoch 7/16)\n",
      "Training batch 4/17... (Epoch 7/16)\n",
      "Training batch 5/17... (Epoch 7/16)\n",
      "Training batch 6/17... (Epoch 7/16)\n",
      "Training batch 7/17... (Epoch 7/16)\n",
      "Training batch 8/17... (Epoch 7/16)\n",
      "Training batch 9/17... (Epoch 7/16)\n",
      "Training batch 10/17... (Epoch 7/16)\n",
      "Training batch 11/17... (Epoch 7/16)\n",
      "Training batch 12/17... (Epoch 7/16)\n",
      "Training batch 13/17... (Epoch 7/16)\n",
      "Training batch 14/17... (Epoch 7/16)\n",
      "Training batch 15/17... (Epoch 7/16)\n",
      "Training batch 16/17... (Epoch 7/16)\n",
      "Training batch 17/17... (Epoch 7/16)\n",
      "Training batch 1/17... (Epoch 8/16)\n",
      "Training batch 2/17... (Epoch 8/16)\n",
      "Training batch 3/17... (Epoch 8/16)\n",
      "Training batch 4/17... (Epoch 8/16)\n",
      "Training batch 5/17... (Epoch 8/16)\n",
      "Training batch 6/17... (Epoch 8/16)\n",
      "Training batch 7/17... (Epoch 8/16)\n",
      "Training batch 8/17... (Epoch 8/16)\n",
      "Training batch 9/17... (Epoch 8/16)\n",
      "Training batch 10/17... (Epoch 8/16)\n",
      "Training batch 11/17... (Epoch 8/16)\n",
      "Training batch 12/17... (Epoch 8/16)\n",
      "Training batch 13/17... (Epoch 8/16)\n",
      "Training batch 14/17... (Epoch 8/16)\n",
      "Training batch 15/17... (Epoch 8/16)\n",
      "Training batch 16/17... (Epoch 8/16)\n",
      "Training batch 17/17... (Epoch 8/16)\n",
      "Training batch 1/17... (Epoch 9/16)\n",
      "Training batch 2/17... (Epoch 9/16)\n",
      "Training batch 3/17... (Epoch 9/16)\n",
      "Training batch 4/17... (Epoch 9/16)\n",
      "Training batch 5/17... (Epoch 9/16)\n",
      "Training batch 6/17... (Epoch 9/16)\n",
      "Training batch 7/17... (Epoch 9/16)\n",
      "Training batch 8/17... (Epoch 9/16)\n",
      "Training batch 9/17... (Epoch 9/16)\n",
      "Training batch 10/17... (Epoch 9/16)\n",
      "Training batch 11/17... (Epoch 9/16)\n",
      "Training batch 12/17... (Epoch 9/16)\n",
      "Training batch 13/17... (Epoch 9/16)\n",
      "Training batch 14/17... (Epoch 9/16)\n",
      "Training batch 15/17... (Epoch 9/16)\n",
      "Training batch 16/17... (Epoch 9/16)\n",
      "Training batch 17/17... (Epoch 9/16)\n",
      "Training batch 1/17... (Epoch 10/16)\n",
      "Training batch 2/17... (Epoch 10/16)\n",
      "Training batch 3/17... (Epoch 10/16)\n",
      "Training batch 4/17... (Epoch 10/16)\n",
      "Training batch 5/17... (Epoch 10/16)\n",
      "Training batch 6/17... (Epoch 10/16)\n",
      "Training batch 7/17... (Epoch 10/16)\n",
      "Training batch 8/17... (Epoch 10/16)\n",
      "Training batch 9/17... (Epoch 10/16)\n",
      "Training batch 10/17... (Epoch 10/16)\n",
      "Training batch 11/17... (Epoch 10/16)\n",
      "Training batch 12/17... (Epoch 10/16)\n",
      "Training batch 13/17... (Epoch 10/16)\n",
      "Training batch 14/17... (Epoch 10/16)\n",
      "Training batch 15/17... (Epoch 10/16)\n",
      "Training batch 16/17... (Epoch 10/16)\n",
      "Training batch 17/17... (Epoch 10/16)\n",
      "Training batch 1/17... (Epoch 11/16)\n",
      "Training batch 2/17... (Epoch 11/16)\n",
      "Training batch 3/17... (Epoch 11/16)\n",
      "Training batch 4/17... (Epoch 11/16)\n",
      "Training batch 5/17... (Epoch 11/16)\n",
      "Training batch 6/17... (Epoch 11/16)\n",
      "Training batch 7/17... (Epoch 11/16)\n",
      "Training batch 8/17... (Epoch 11/16)\n",
      "Training batch 9/17... (Epoch 11/16)\n",
      "Training batch 10/17... (Epoch 11/16)\n",
      "Training batch 11/17... (Epoch 11/16)\n",
      "Training batch 12/17... (Epoch 11/16)\n",
      "Training batch 13/17... (Epoch 11/16)\n",
      "Training batch 14/17... (Epoch 11/16)\n",
      "Training batch 15/17... (Epoch 11/16)\n",
      "Training batch 16/17... (Epoch 11/16)\n",
      "Training batch 17/17... (Epoch 11/16)\n",
      "Training batch 1/17... (Epoch 12/16)\n",
      "Training batch 2/17... (Epoch 12/16)\n",
      "Training batch 3/17... (Epoch 12/16)\n",
      "Training batch 4/17... (Epoch 12/16)\n",
      "Training batch 5/17... (Epoch 12/16)\n",
      "Training batch 6/17... (Epoch 12/16)\n",
      "Training batch 7/17... (Epoch 12/16)\n",
      "Training batch 8/17... (Epoch 12/16)\n",
      "Training batch 9/17... (Epoch 12/16)\n",
      "Training batch 10/17... (Epoch 12/16)\n",
      "Training batch 11/17... (Epoch 12/16)\n",
      "Training batch 12/17... (Epoch 12/16)\n",
      "Training batch 13/17... (Epoch 12/16)\n",
      "Training batch 14/17... (Epoch 12/16)\n",
      "Training batch 15/17... (Epoch 12/16)\n",
      "Training batch 16/17... (Epoch 12/16)\n",
      "Training batch 17/17... (Epoch 12/16)\n",
      "Training batch 1/17... (Epoch 13/16)\n",
      "Training batch 2/17... (Epoch 13/16)\n",
      "Training batch 3/17... (Epoch 13/16)\n",
      "Training batch 4/17... (Epoch 13/16)\n",
      "Training batch 5/17... (Epoch 13/16)\n",
      "Training batch 6/17... (Epoch 13/16)\n",
      "Training batch 7/17... (Epoch 13/16)\n",
      "Training batch 8/17... (Epoch 13/16)\n",
      "Training batch 9/17... (Epoch 13/16)\n",
      "Training batch 10/17... (Epoch 13/16)\n",
      "Training batch 11/17... (Epoch 13/16)\n",
      "Training batch 12/17... (Epoch 13/16)\n",
      "Training batch 13/17... (Epoch 13/16)\n",
      "Training batch 14/17... (Epoch 13/16)\n",
      "Training batch 15/17... (Epoch 13/16)\n",
      "Training batch 16/17... (Epoch 13/16)\n",
      "Training batch 17/17... (Epoch 13/16)\n",
      "Training batch 1/17... (Epoch 14/16)\n",
      "Training batch 2/17... (Epoch 14/16)\n",
      "Training batch 3/17... (Epoch 14/16)\n",
      "Training batch 4/17... (Epoch 14/16)\n",
      "Training batch 5/17... (Epoch 14/16)\n",
      "Training batch 6/17... (Epoch 14/16)\n",
      "Training batch 7/17... (Epoch 14/16)\n",
      "Training batch 8/17... (Epoch 14/16)\n",
      "Training batch 9/17... (Epoch 14/16)\n",
      "Training batch 10/17... (Epoch 14/16)\n",
      "Training batch 11/17... (Epoch 14/16)\n",
      "Training batch 12/17... (Epoch 14/16)\n",
      "Training batch 13/17... (Epoch 14/16)\n",
      "Training batch 14/17... (Epoch 14/16)\n",
      "Training batch 15/17... (Epoch 14/16)\n",
      "Training batch 16/17... (Epoch 14/16)\n",
      "Training batch 17/17... (Epoch 14/16)\n",
      "Training batch 1/17... (Epoch 15/16)\n",
      "Training batch 2/17... (Epoch 15/16)\n",
      "Training batch 3/17... (Epoch 15/16)\n",
      "Training batch 4/17... (Epoch 15/16)\n",
      "Training batch 5/17... (Epoch 15/16)\n",
      "Training batch 6/17... (Epoch 15/16)\n",
      "Training batch 7/17... (Epoch 15/16)\n",
      "Training batch 8/17... (Epoch 15/16)\n",
      "Training batch 9/17... (Epoch 15/16)\n",
      "Training batch 10/17... (Epoch 15/16)\n",
      "Training batch 11/17... (Epoch 15/16)\n",
      "Training batch 12/17... (Epoch 15/16)\n",
      "Training batch 13/17... (Epoch 15/16)\n",
      "Training batch 14/17... (Epoch 15/16)\n",
      "Training batch 15/17... (Epoch 15/16)\n",
      "Training batch 16/17... (Epoch 15/16)\n",
      "Training batch 17/17... (Epoch 15/16)\n",
      "Training batch 1/17... (Epoch 16/16)\n",
      "Training batch 2/17... (Epoch 16/16)\n",
      "Training batch 3/17... (Epoch 16/16)\n",
      "Training batch 4/17... (Epoch 16/16)\n",
      "Training batch 5/17... (Epoch 16/16)\n",
      "Training batch 6/17... (Epoch 16/16)\n",
      "Training batch 7/17... (Epoch 16/16)\n",
      "Training batch 8/17... (Epoch 16/16)\n",
      "Training batch 9/17... (Epoch 16/16)\n",
      "Training batch 10/17... (Epoch 16/16)\n",
      "Training batch 11/17... (Epoch 16/16)\n",
      "Training batch 12/17... (Epoch 16/16)\n",
      "Training batch 13/17... (Epoch 16/16)\n",
      "Training batch 14/17... (Epoch 16/16)\n",
      "Training batch 15/17... (Epoch 16/16)\n",
      "Training batch 16/17... (Epoch 16/16)\n",
      "Training batch 17/17... (Epoch 16/16)\n"
     ]
    }
   ],
   "source": [
    "model_trainer = trainer.Trainer(max_epochs=16, init_random=42)\n",
    "model_trainer.fit(model, chembl_mini)"
   ]
  },
  {
   "cell_type": "code",
   "execution_count": 358,
   "id": "af858e14",
   "metadata": {},
   "outputs": [
    {
     "name": "stderr",
     "output_type": "stream",
     "text": [
      "/var/folders/ql/140bddls19x4s8xyk9nrwyd00000gn/T/ipykernel_16882/1428639691.py:6: UserWarning: To copy construct from a tensor, it is recommended to use sourceTensor.clone().detach() or sourceTensor.clone().detach().requires_grad_(True), rather than torch.tensor(sourceTensor).\n",
      "  X = torch.tensor(dataset.encode_smiles_to_one_hot(outputs[i]), device=device)\n"
     ]
    },
    {
     "name": "stdout",
     "output_type": "stream",
     "text": [
      "CCccCC<pad><pad><pad><pad><pad><pad><pad><pad><pad><pad><pad><pad><pad><pad>\n"
     ]
    }
   ],
   "source": [
    "print(predict(\"CCccCC\", 15, model, chembl_dataset))"
   ]
  },
  {
   "cell_type": "code",
   "execution_count": 352,
   "id": "141335fd",
   "metadata": {},
   "outputs": [
    {
     "data": {
      "image/png": "[encoded data removed]",
      "text/plain": [
       "<Figure size 500x500 with 1 Axes>"
      ]
     },
     "metadata": {},
     "output_type": "display_data"
    }
   ],
   "source": [
    "losses = utilities.extract_training_losses(model_trainer.metadata)\n",
    "fig, ax = plots.plot_training_validation_loss(losses['avg_train_losses'], losses['avg_val_losses'])\n",
    "ax.set_yscale('log')"
   ]
  },
  {
   "cell_type": "code",
   "execution_count": null,
   "id": "14ee3210",
   "metadata": {},
   "outputs": [],
   "source": []
  }
 ],
 "metadata": {
  "kernelspec": {
   "display_name": "main",
   "language": "python",
   "name": "python3"
  },
  "language_info": {
   "codemirror_mode": {
    "name": "ipython",
    "version": 3
   },
   "file_extension": ".py",
   "mimetype": "text/x-python",
   "name": "python",
   "nbconvert_exporter": "python",
   "pygments_lexer": "ipython3",
   "version": "3.12.3"
  }
 },
 "nbformat": 4,
 "nbformat_minor": 5
}
