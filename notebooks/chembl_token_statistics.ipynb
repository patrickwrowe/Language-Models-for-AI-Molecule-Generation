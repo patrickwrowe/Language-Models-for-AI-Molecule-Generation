{
 "cells": [
  {
   "cell_type": "code",
   "execution_count": null,
   "id": "35b27078",
   "metadata": {},
   "outputs": [],
   "source": [
    "%load_ext autoreload\n",
    "%autoreload 2"
   ]
  },
  {
   "cell_type": "code",
   "execution_count": null,
   "id": "60cc6460",
   "metadata": {},
   "outputs": [],
   "source": [
    "from tokenizers import Tokenizer\n",
    "import sys\n",
    "\n",
    "import matplotlib.pyplot as plt\n",
    "import numpy as np\n",
    "import collections"
   ]
  },
  {
   "cell_type": "code",
   "execution_count": null,
   "id": "3da7d04c",
   "metadata": {},
   "outputs": [],
   "source": [
    "sys.path.append(\"../../\")\n",
    "\n",
    "from ChEmbed.data import chembldb, datasets, chembed_tokenizer"
   ]
  },
  {
   "cell_type": "code",
   "execution_count": null,
   "id": "2802e832",
   "metadata": {},
   "outputs": [],
   "source": [
    "def load_encoded_chembl(encode_slice = slice(0, 50000)):\n",
    "    tokenizer = Tokenizer.from_file(\"../data/tokenizers/tokenizer-chembldb-16-06-2025.json\")\n",
    "    chembl = chembldb.ChemblDBChemreps()._load_or_download()\n",
    "    chembl_smiles = chembldb.ChemblDBChemreps()._preprocess(chembl)\n",
    "    chembl_encoded = tokenizer.encode(chembl_smiles[encode_slice])\n",
    "\n",
    "    return chembl_encoded"
   ]
  },
  {
   "cell_type": "code",
   "execution_count": null,
   "id": "84b610b2",
   "metadata": {},
   "outputs": [],
   "source": [
    "chembl_encoded = load_encoded_chembl()\n",
    "counter = collections.Counter(chembl_encoded.tokens)\n",
    "token_freqs = sorted(counter.items(), key = lambda x: x[1], reverse=True)"
   ]
  },
  {
   "cell_type": "code",
   "execution_count": null,
   "id": "c6ba2043",
   "metadata": {},
   "outputs": [],
   "source": [
    "print(token_freqs)"
   ]
  },
  {
   "cell_type": "code",
   "execution_count": null,
   "id": "3e2bd45b",
   "metadata": {},
   "outputs": [],
   "source": [
    "freqs = [freq[1] for freq in token_freqs]"
   ]
  },
  {
   "cell_type": "markdown",
   "id": "988dbe17",
   "metadata": {},
   "source": [
    "## Do the tokens of our learned tokenizer follow a Zipfian distribution?\n",
    "\n",
    "We can qualitatively examine if the tokens of our learned tokenizer follow a Zipfian distribution by plotting the frequency of each token against its rank in the sorted list of tokens. This is a common characteristic of natural language, where a small number of tokens are very common, while the majority are rare, but it's not exactly a given that this is true for a tokenizer derived entirely from chemical SMILES strings.\n",
    "\n",
    "## Notes on common tokens\n",
    "\n",
    "Surprisingly, the tokens of our learned tokenizer do follow zipfs law, at least roughly. Ignoring puncutation for the time-being, the most common token is the single character \"C\", which represents carbon, and the second most common token is \"O\", which represents oxygen. These are followed by other common elements in organic chemistry, such as \"N\" for nitrogen and \"H\" for hydrogen. We can also see interesting patterns such as \"c1ccccc1\", which is the SMILES representation of benzene. \n",
    "\n",
    "For the least common tokens, we see the occasional occurence of rarer elements such as \"P\" for phosphorus, \"S\" for sulfur, and \"F\" for fluorine. While these do occur in pharmacologically relevant compounds, they are less common than the more ubiquitous elements like carbon, oxygen, and nitrogen."
   ]
  },
  {
   "cell_type": "code",
   "execution_count": null,
   "id": "9fd4cb15",
   "metadata": {},
   "outputs": [],
   "source": [
    "fig, ax = plt.subplots(ncols=1, nrows=1)\n",
    "ax.plot(freqs)\n",
    "ax.set_yscale('log')\n",
    "ax.set_xscale('log')"
   ]
  },
  {
   "cell_type": "code",
   "execution_count": null,
   "id": "51ed2cd5",
   "metadata": {},
   "outputs": [],
   "source": [
    "smilesdataset = datasets.SMILESDataset(\n",
    "    smiles_list = chembldb.ChemblDBChemreps()._load_or_download()[\"canonical_smiles\"].tolist(),\n",
    "    tokenizer = Tokenizer.from_file(\"../data/tokenizers/tokenizer-chembldb-16-06-2025.json\"),\n",
    ")"
   ]
  },
  {
   "cell_type": "code",
   "execution_count": null,
   "id": "c69cb4b7",
   "metadata": {},
   "outputs": [],
   "source": [
    "smilesdataset[0]"
   ]
  },
  {
   "cell_type": "code",
   "execution_count": null,
   "id": "1f27bb9d",
   "metadata": {},
   "outputs": [],
   "source": []
  }
 ],
 "metadata": {
  "kernelspec": {
   "display_name": "main",
   "language": "python",
   "name": "python3"
  },
  "language_info": {
   "codemirror_mode": {
    "name": "ipython",
    "version": 3
   },
   "file_extension": ".py",
   "mimetype": "text/x-python",
   "name": "python",
   "nbconvert_exporter": "python",
   "pygments_lexer": "ipython3",
   "version": "3.12.3"
  }
 },
 "nbformat": 4,
 "nbformat_minor": 5
}
