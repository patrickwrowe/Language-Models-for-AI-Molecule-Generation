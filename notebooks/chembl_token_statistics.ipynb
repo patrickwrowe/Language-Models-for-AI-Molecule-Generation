{
 "cells": [
  {
   "cell_type": "code",
   "execution_count": 51,
   "id": "35b27078",
   "metadata": {},
   "outputs": [
    {
     "name": "stdout",
     "output_type": "stream",
     "text": [
      "The autoreload extension is already loaded. To reload it, use:\n",
      "  %reload_ext autoreload\n"
     ]
    }
   ],
   "source": [
    "%load_ext autoreload\n",
    "%autoreload 2"
   ]
  },
  {
   "cell_type": "code",
   "execution_count": 52,
   "id": "60cc6460",
   "metadata": {},
   "outputs": [],
   "source": [
    "from tokenizers import Tokenizer\n",
    "import sys\n",
    "\n",
    "import matplotlib.pyplot as plt\n",
    "import numpy as np\n",
    "import collections"
   ]
  },
  {
   "cell_type": "code",
   "execution_count": null,
   "id": "3da7d04c",
   "metadata": {},
   "outputs": [],
   "source": [
    "sys.path.append(\"../../\")\n",
    "\n",
    "from ChEmbed.data import chembldb, datasets, chembed_tokenizer"
   ]
  },
  {
   "cell_type": "code",
   "execution_count": null,
   "id": "2802e832",
   "metadata": {},
   "outputs": [],
   "source": [
    "def load_encoded_chembl(encode_slice = slice(0, 50000)):\n",
    "    tokenizer = Tokenizer.from_file(\"../data/tokenizers/tokenizer-chembldb-16-06-2025.json\")\n",
    "    chembl = chembldb.ChemblDBChemreps()._load_or_download()\n",
    "    chembl_smiles = chembldb.ChemblDBChemreps()._preprocess(chembl)\n",
    "    chembl_encoded = tokenizer.encode(chembl_smiles[encode_slice])\n",
    "\n",
    "    return chembl_encoded"
   ]
  },
  {
   "cell_type": "code",
   "execution_count": 25,
   "id": "84b610b2",
   "metadata": {},
   "outputs": [],
   "source": [
    "chembl_encoded = load_encoded_chembl()\n",
    "counter = collections.Counter(chembl_encoded.tokens)\n",
    "token_freqs = sorted(counter.items(), key = lambda x: x[1], reverse=True)"
   ]
  },
  {
   "cell_type": "code",
   "execution_count": 26,
   "id": "c6ba2043",
   "metadata": {},
   "outputs": [
    {
     "name": "stdout",
     "output_type": "stream",
     "text": [
      "[('(', 5089), (')', 5087), ('C', 4789), ('@', 3852), ('O', 2791), ('[', 2706), (']', 2705), ('H', 2422), ('=', 2329), ('N', 1067), ('NC', 629), ('CC', 434), ('[EOM]', 320), ('OC', 162), ('CO', 149), ('CCC', 137), ('/', 99), ('CCCN', 94), ('c', 90), ('1', 87), ('cc1', 83), ('CCCCN', 81), ('nH', 75), ('CNC', 74), ('2', 74), ('-', 73), ('3', 64), ('CCCNC', 59), ('Cc1ccc', 52), ('Cc1ccccc1', 51), ('Cl', 50), ('4', 50), ('1C', 48), ('F', 48), ('Cc1c', 43), ('cc2', 43), ('6O', 42), ('3O', 41), ('c1', 40), ('cc', 38), ('2O', 38), ('C2', 35), ('NCC', 34), ('%', 34), ('Cc2ccccc2', 33), ('5', 33), ('2C', 33), ('CCCC', 30), ('CN', 30), ('NC1', 28), ('.', 28), ('c2ccc', 26), ('8', 26), ('CC1', 25), ('1CCCN1C', 25), ('C3', 24), ('c2ccccc12', 24), ('1O', 24), ('C1', 24), ('4O', 23), ('\\\\', 21), ('COC', 21), ('c3', 21), ('c1ccc', 21), ('S', 21), ('CCN', 21), ('c2', 20), ('Cc2ccc', 20), ('6', 20), ('+', 20), ('cc3', 20), ('c2ccccc2', 20), ('7O', 19), ('7', 18), ('cn1', 17), ('N1CCC', 16), ('Cc2c', 16), ('n', 16), ('c3ccc', 16), ('3C', 16), ('5O', 16), ('3CC', 15), ('1CC', 15), ('c1ccccc1', 15), ('c3ccccc3', 15), ('1NC', 14), ('c2cc', 14), ('CCCCNC', 14), ('#', 14), ('c4', 14), ('CS', 12), ('4CC', 12), ('12', 12), ('c1cc', 12), ('9', 12), ('Br', 11), ('c4cc', 11), ('CC2', 11), ('o', 11), ('Cc1cc', 10), ('c1cccc', 10), ('O2', 10), ('O1', 10), ('N1', 10), ('CSCC', 10), ('CC3', 10), ('2CCCN2C', 10), ('nc', 10), ('CCSC', 9), ('1OC', 9), ('c6', 9), ('SC', 9), ('c3ccccc23', 9), ('NCCCC', 8), ('c4ccccc4', 8), ('3OC', 8), ('c2c', 8), ('OCC', 8), ('C5', 8), ('23', 7), ('4C', 7), ('cc4', 7), ('c3c', 7), ('OC1', 7), ('n1', 7), ('c1cccnc1', 7), ('1CS', 7), ('12C', 7), ('5c', 7), ('cn2', 6), ('c1O', 6), ('C4', 6), ('ccc4', 6), ('Oc1ccc', 6), ('2CC', 6), ('ccc3', 6), ('c2ccccc21', 6), ('N2', 6), ('COc1ccc', 6), ('CCNC', 6), ('2OC', 5), ('c1c', 5), ('5CC', 5), ('N3', 5), ('CCCCC', 5), ('NO', 5), ('N2CCN', 5), ('CCCCCCCC', 5), ('CCCCCC', 5), ('c4ccc', 5), ('c4c', 5), ('5C', 5), ('CCO', 5), ('c5ccccc5', 5), ('c1n', 5), ('CN1C', 5), ('C1CC', 5), ('nc2', 5), ('2CN', 5), ('Nc1ccc', 5), ('CSSC', 5), ('c7', 5), ('ccc', 5), ('O4', 5), ('O3', 5), ('N1C', 5), ('OCc2ccccc2', 5), ('CCN1', 4), ('CCOC', 4), ('I', 4), ('C2C', 4), ('COc1cc', 4), ('ccc1O', 4), ('c3cc', 4), ('COCC', 4), ('c1nc', 4), ('OC3', 4), ('s', 4), ('c2ccc3ccccc3c2', 4), ('N2CCC', 4), ('N1CCN', 4), ('ccc1', 4), ('2NC', 4), ('c2c1', 4), ('NC2', 4), ('Oc2ccc', 4), ('Na', 4), ('c1cc2c', 4), ('Cc1ccc2ccccc2c1', 4), ('Cc3ccc', 4), ('NCCC', 4), ('21', 4), ('0', 4), ('n2', 3), ('NN', 3), ('c2ccc3', 3), ('c1C', 3), ('NS', 3), ('Cc1cccc', 3), ('N3C', 3), ('s1', 3), ('COC1', 3), ('CC4', 3), ('6C', 3), ('43C', 3), ('OC2', 3), ('n2C', 3), ('c3c2', 3), ('c4ccccc34', 3), ('3CCC', 3), ('cc21', 3), ('CCC2', 3), ('COc1cc2c', 3), ('cc1OC', 3), ('nc3', 3), ('c23', 3), ('oc', 3), ('CN1', 3), ('P', 3), ('OCC1', 3), ('NCc1ccccc1', 3), ('c2cccc3', 3), ('c2cccc', 3), ('CCOc1ccc', 3), ('N2C1', 3), ('cc1O', 3), ('CCN1C', 3), ('cc5', 3), ('OCC2', 3), ('2c', 3), ('N5', 3), ('c2cccnc2', 3), ('SCC', 3), ('c5cc', 3), ('c5', 3), ('nn2', 3), ('c2cccc3ccccc23', 2), ('CCOCC1', 2), ('ccc2', 2), ('OCc1ccccc1', 2), ('o1', 2), ('c1OC', 2), ('Cc3c', 2), ('c4cccc', 2), ('OCO3', 2), ('ccc21', 2), ('Cn1cc', 2), ('ccn', 2), ('COc1cccc', 2), ('CCCCCCCCCC', 2), ('1CN', 2), ('CCc1ccc', 2), ('3CC4CC', 2), ('c1s', 2), ('NCc1ccc', 2), ('c2O', 2), ('cc2OC', 2), ('cc23', 2), ('CCN1CCN', 2), ('Nc2cccc', 2), ('CCCCCCCCCCCC', 2), ('1CO', 2), ('CCCC1', 2), ('c2ccc3c', 2), ('COc1ccccc1N1CCN', 2), ('cc1Cl', 2), ('N1CC', 2), ('1N', 2), ('Nc1nc', 2), ('CCc1c', 2), ('NCc2ccccc2', 2), ('OP', 2), ('nc2c1', 2), ('CCCCCCC', 2), ('nn', 2), ('Oc3ccc', 2), ('Oc1cc', 2), ('CN1CCN', 2), ('C3C', 2), ('c2ccccn2', 2), ('cc2Cl', 2), ('Cn1c', 2), ('cccc', 2), ('CN1CC', 2), ('C6', 2), ('c6ccc', 2), ('Cn1', 2), ('nnc', 2), ('n1C', 2), ('cn', 2), ('c2cc3', 2), ('2CCC', 2), ('Cc1cccnc1', 2), ('nc1', 2), ('OCCC', 2), ('cc1C', 2), ('c2nc', 2), ('c2C', 2), ('Oc1ccccc1', 2), ('N2C', 2), ('N3CCN', 2), ('CCCCC2', 2), ('1CCC', 2), ('12CC', 2), ('c2cn', 2), ('Cc1cc2c', 2), ('NOC', 2), ('CCCCCCCCCCCCCCCC', 2), ('CCCCCCCCC', 2), ('CN2C', 2), ('4c', 2), ('NCCN', 2), ('c12', 2), ('c1sc', 2), ('2CO', 2), ('CCS', 2), ('c1ccc2', 2), ('c1cc2', 2), ('c13', 2), ('c2ccncc2', 2), ('C3CC3', 2), ('32', 2), ('CN2', 2), ('OCc1ccc', 2), ('CCCCC1', 2), ('ccccc3', 2), ('Nc2ccccc2', 2), ('CC3CC', 2), ('CC1CC1', 2), ('CN2CCC', 2), ('c2csc', 1), ('Nc2nc', 1), ('nc3cc', 1), ('ncc2', 1), ('c1N', 1), ('COc1c', 1), ('c1cc2cc', 1), ('COc1ccc2c', 1), ('c4n', 1), ('cc3c', 1), ('cc12', 1), ('Cc1cnc', 1), ('34', 1), ('CCn1', 1), ('c3ccccc32', 1), ('CCc2ccccc2', 1), ('CCCO', 1), ('c4ccccc4C3', 1), ('c2ccccc2n1', 1), ('CCN1CCC', 1), ('Nc1ncc', 1), ('C2CC2', 1), ('2C1', 1), ('Oc2c', 1), ('c5c4', 1), ('c4c3', 1), ('c2c1C', 1), ('oc3', 1), ('Cc1', 1), ('COc1ccccc1', 1), ('n3nc', 1), ('N4CCN', 1), ('sc1', 1), ('NNC', 1), ('c2sc', 1), ('nc3ccccc23', 1), ('c2ccc3nc', 1), ('c3n', 1), ('Nc1ccc2c', 1), ('N1CCCC1', 1), ('c5ccc', 1), ('c1nc2ccccc2', 1), ('Cc1ccc2c', 1), ('CCO2', 1), ('c2nnc', 1), ('N3CCC', 1), ('Nc2ccc3c', 1), ('CCn1cc', 1), ('c2nc3ccccc3', 1), ('ccccc23', 1), ('c1cnn', 1), ('no2', 1), ('cs1', 1), ('c1ccccn1', 1), ('l', 1), ('CNc1nc', 1), ('2CC3CC', 1), ('nc3c', 1), ('c1F', 1), ('c1o', 1), ('Cn2', 1), ('CCc2ccc', 1), ('nc2c1nc', 1), ('Nc3nc', 1), ('cs3', 1), ('no1', 1), ('c2ccccc2Cl', 1), ('COCCO', 1), ('Nc1ccccc1C', 1), ('c1ccc2cc', 1), ('NCCN3', 1), ('ccc2c1', 1), ('c2c3c', 1), ('cnc2', 1), ('cc2C1', 1), ('NCCCN', 1), ('c4ccc5c', 1), ('OCO5', 1), ('c2cc1OC', 1), ('NCCS', 1), ('c2ncc', 1), ('Nc3ccc', 1), ('Cc3cccc', 1), ('n4', 1), ('c3ccc4', 1), ('n3', 1), ('c1nnn', 1), ('CC1CC', 1), ('C1c1ccc', 1), ('ccc23', 1), ('c4C', 1), ('c2cc3c', 1), ('n3C', 1), ('CCCCCNC', 1), ('c4ccco4', 1), ('nc4c', 1), ('CCOCC5', 1), ('cccc3', 1), ('nc12', 1), ('N1CCOCC1', 1), ('Cc1n', 1), ('cccc2', 1), ('OCCCC', 1), ('c5ccccc45', 1), ('OCCO2', 1), ('OCc2ccc', 1), ('c2cnc', 1), ('ccc1C', 1), ('oc2c1', 1), ('C3CCC', 1), ('cccc2Cl', 1), ('Nc1n', 1), ('c3cccnc3', 1), ('c3cnn', 1), ('n2n1', 1), ('c3ccccc3c2', 1), ('c2nnn', 1), ('n1cc', 1), ('CC4CC', 1), ('CCc1ccccc1', 1), ('1C2', 1), ('N4CCC', 1), ('1CNC', 1), ('CCN2C', 1), ('1CCCC', 1), ('1CCCN1', 1), ('CCOC1', 1), ('COc1cc2', 1), ('2N', 1), ('Cc1ccc2nc', 1), ('c3cnc', 1), ('cn3', 1), ('cccc12', 1), ('ccc2OC', 1), ('ccn1', 1), ('6CC', 1), ('23C', 1), ('CCl', 1), ('CC5', 1), ('nc6', 1), ('ccc5', 1), ('oc2cc', 1), ('CC1CCN', 1), ('C1NC', 1), ('c3C', 1), ('cc1S', 1), ('ncn2', 1), ('NC4', 1), ('OCO2', 1), ('c3s', 1), ('S1', 1), ('CCC1', 1), ('3c', 1), ('c5c', 1), ('C4C', 1), ('nn1', 1), ('c2ccccc2S', 1), ('cc1F', 1), ('N2CC', 1), ('cc2c', 1), ('C1C', 1), ('CCOCC2', 1), ('c3cc4c', 1), ('OCO4', 1), ('c1cccs1', 1), ('CO2', 1), ('CCCC2', 1), ('ccccc4c3', 1), ('NCc3ccccc3', 1), ('ccc2n1', 1), ('cccc1Cl', 1), ('CCOP', 1), ('s2', 1), ('OCc3ccccc3', 1), ('cc2c1', 1), ('nnc1', 1), ('Nc1ccccc1', 1), ('Cc1cn', 1), ('COP', 1), ('Cc4ccccc4', 1), ('Oc4ccc', 1), ('c6ccccc6', 1), ('Fc1ccc', 1), ('c2n', 1), ('n3cc', 1), ('ccc3c2', 1), ('ccccc', 1), ('c2ccco2', 1), ('NCCN2', 1), ('c2ccccc2c1', 1), ('OS', 1), ('21C', 1), ('CN4', 1), ('C12', 1), ('CCN3', 1), ('cc4F', 1), ('C4CC4', 1), ('C1O', 1), ('c1cc2ccccc2', 1), ('3C2', 1), ('nc1C', 1), ('nc2c1c', 1), ('SC1', 1), ('Cc3ccccc3', 1)]\n"
     ]
    }
   ],
   "source": [
    "print(token_freqs)"
   ]
  },
  {
   "cell_type": "code",
   "execution_count": 27,
   "id": "3e2bd45b",
   "metadata": {},
   "outputs": [],
   "source": [
    "freqs = [freq[1] for freq in token_freqs]"
   ]
  },
  {
   "cell_type": "markdown",
   "id": "988dbe17",
   "metadata": {},
   "source": [
    "## Do the tokens of our learned tokenizer follow a Zipfian distribution?\n",
    "\n",
    "We can qualitatively examine if the tokens of our learned tokenizer follow a Zipfian distribution by plotting the frequency of each token against its rank in the sorted list of tokens. This is a common characteristic of natural language, where a small number of tokens are very common, while the majority are rare, but it's not exactly a given that this is true for a tokenizer derived entirely from chemical SMILES strings.\n",
    "\n",
    "## Notes on common tokens\n",
    "\n",
    "Surprisingly, the tokens of our learned tokenizer do follow zipfs law, at least roughly. Ignoring puncutation for the time-being, the most common token is the single character \"C\", which represents carbon, and the second most common token is \"O\", which represents oxygen. These are followed by other common elements in organic chemistry, such as \"N\" for nitrogen and \"H\" for hydrogen. We can also see interesting patterns such as \"c1ccccc1\", which is the SMILES representation of benzene. \n",
    "\n",
    "For the least common tokens, we see the occasional occurence of rarer elements such as \"P\" for phosphorus, \"S\" for sulfur, and \"F\" for fluorine. While these do occur in pharmacologically relevant compounds, they are less common than the more ubiquitous elements like carbon, oxygen, and nitrogen."
   ]
  },
  {
   "cell_type": "code",
   "execution_count": 28,
   "id": "9fd4cb15",
   "metadata": {},
   "outputs": [
    {
     "data": {
      "image/png": "[encoded data removed]",
      "text/plain": [
       "<Figure size 640x480 with 1 Axes>"
      ]
     },
     "metadata": {},
     "output_type": "display_data"
    }
   ],
   "source": [
    "fig, ax = plt.subplots(ncols=1, nrows=1)\n",
    "ax.plot(freqs)\n",
    "ax.set_yscale('log')\n",
    "ax.set_xscale('log')"
   ]
  },
  {
   "cell_type": "code",
   "execution_count": null,
   "id": "51ed2cd5",
   "metadata": {},
   "outputs": [],
   "source": [
    "smilesdataset = datasets.SMILESDataset(\n",
    "    smiles_list = chembldb.ChemblDBChemreps()._load_or_download()[\"canonical_smiles\"].tolist(),\n",
    "    tokenizer = Tokenizer.from_file(\"../data/tokenizers/tokenizer-chembldb-16-06-2025.json\"),\n",
    ")"
   ]
  },
  {
   "cell_type": "code",
   "execution_count": 55,
   "id": "c69cb4b7",
   "metadata": {},
   "outputs": [
    {
     "ename": "TypeError",
     "evalue": "Tokenizer.encode() got an unexpected keyword argument 'truncation'",
     "output_type": "error",
     "traceback": [
      "\u001b[0;31m---------------------------------------------------------------------------\u001b[0m",
      "\u001b[0;31mTypeError\u001b[0m                                 Traceback (most recent call last)",
      "Cell \u001b[0;32mIn[55], line 1\u001b[0m\n\u001b[0;32m----> 1\u001b[0m \u001b[43msmilesdataset\u001b[49m\u001b[43m[\u001b[49m\u001b[38;5;241;43m0\u001b[39;49m\u001b[43m]\u001b[49m\n",
      "File \u001b[0;32m~/Documents/Code/ChEmbed/notebooks/../../ChEmbed/data/smiles_dataset.py:35\u001b[0m, in \u001b[0;36mSMILESDataset.__getitem__\u001b[0;34m(self, idx)\u001b[0m\n\u001b[1;32m     32\u001b[0m \u001b[38;5;28;01mdef\u001b[39;00m \u001b[38;5;21m__getitem__\u001b[39m(\u001b[38;5;28mself\u001b[39m, idx):\n\u001b[1;32m     33\u001b[0m     smiles \u001b[38;5;241m=\u001b[39m \u001b[38;5;28mself\u001b[39m\u001b[38;5;241m.\u001b[39msmiles_list[idx]\n\u001b[0;32m---> 35\u001b[0m     encoding \u001b[38;5;241m=\u001b[39m \u001b[38;5;28;43mself\u001b[39;49m\u001b[38;5;241;43m.\u001b[39;49m\u001b[43mtokenizer\u001b[49m\u001b[38;5;241;43m.\u001b[39;49m\u001b[43mencode\u001b[49m\u001b[43m(\u001b[49m\n\u001b[1;32m     36\u001b[0m \u001b[43m        \u001b[49m\u001b[43msmiles\u001b[49m\u001b[43m,\u001b[49m\n\u001b[1;32m     37\u001b[0m \u001b[43m        \u001b[49m\u001b[43mtruncation\u001b[49m\u001b[43m \u001b[49m\u001b[38;5;241;43m=\u001b[39;49m\u001b[43m \u001b[49m\u001b[38;5;28;43;01mTrue\u001b[39;49;00m\u001b[43m,\u001b[49m\n\u001b[1;32m     38\u001b[0m \u001b[43m        \u001b[49m\u001b[43mmax_length\u001b[49m\u001b[43m \u001b[49m\u001b[38;5;241;43m=\u001b[39;49m\u001b[43m \u001b[49m\u001b[38;5;28;43mself\u001b[39;49m\u001b[38;5;241;43m.\u001b[39;49m\u001b[43mmax_length\u001b[49m\u001b[43m,\u001b[49m\n\u001b[1;32m     39\u001b[0m \u001b[43m        \u001b[49m\u001b[43mpadding\u001b[49m\u001b[43m \u001b[49m\u001b[38;5;241;43m=\u001b[39;49m\u001b[43m \u001b[49m\u001b[38;5;124;43m\"\u001b[39;49m\u001b[38;5;124;43mmax_length\u001b[39;49m\u001b[38;5;124;43m\"\u001b[39;49m\u001b[43m,\u001b[49m\n\u001b[1;32m     40\u001b[0m \u001b[43m        \u001b[49m\u001b[43mreturn_tensors\u001b[49m\u001b[43m \u001b[49m\u001b[38;5;241;43m=\u001b[39;49m\u001b[43m \u001b[49m\u001b[38;5;124;43m'\u001b[39;49m\u001b[38;5;124;43mpt\u001b[39;49m\u001b[38;5;124;43m'\u001b[39;49m\n\u001b[1;32m     41\u001b[0m \u001b[43m    \u001b[49m\u001b[43m)\u001b[49m\n\u001b[1;32m     43\u001b[0m     \u001b[38;5;28;01mif\u001b[39;00m \u001b[38;5;129;01mnot\u001b[39;00m encoding \u001b[38;5;129;01mor\u001b[39;00m \u001b[38;5;124m\"\u001b[39m\u001b[38;5;124minput_ids\u001b[39m\u001b[38;5;124m\"\u001b[39m \u001b[38;5;129;01mnot\u001b[39;00m \u001b[38;5;129;01min\u001b[39;00m encoding:\n\u001b[1;32m     44\u001b[0m         \u001b[38;5;28;01mraise\u001b[39;00m \u001b[38;5;167;01mValueError\u001b[39;00m(\u001b[38;5;124mf\u001b[39m\u001b[38;5;124m\"\u001b[39m\u001b[38;5;124mFailed to encode: \u001b[39m\u001b[38;5;132;01m{\u001b[39;00msmiles\u001b[38;5;132;01m}\u001b[39;00m\u001b[38;5;124m\"\u001b[39m)\n",
      "\u001b[0;31mTypeError\u001b[0m: Tokenizer.encode() got an unexpected keyword argument 'truncation'"
     ]
    }
   ],
   "source": [
    "smilesdataset[0]"
   ]
  },
  {
   "cell_type": "code",
   "execution_count": null,
   "id": "1f27bb9d",
   "metadata": {},
   "outputs": [],
   "source": []
  }
 ],
 "metadata": {
  "kernelspec": {
   "display_name": "main",
   "language": "python",
   "name": "python3"
  },
  "language_info": {
   "codemirror_mode": {
    "name": "ipython",
    "version": 3
   },
   "file_extension": ".py",
   "mimetype": "text/x-python",
   "name": "python",
   "nbconvert_exporter": "python",
   "pygments_lexer": "ipython3",
   "version": "3.12.3"
  }
 },
 "nbformat": 4,
 "nbformat_minor": 5
}
