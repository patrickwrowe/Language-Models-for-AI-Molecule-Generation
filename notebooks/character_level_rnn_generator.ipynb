{
 "cells": [
  {
   "cell_type": "code",
   "execution_count": null,
   "id": "8f542f44",
   "metadata": {},
   "outputs": [],
   "source": [
    "%load_ext autoreload\n",
    "%autoreload 2"
   ]
  },
  {
   "cell_type": "code",
   "execution_count": null,
   "id": "a799a649",
   "metadata": {},
   "outputs": [],
   "source": [
    "import sys, os\n",
    "\n",
    "sys.path.append(\"../\")\n",
    "\n",
    "import torch\n",
    "\n",
    "from data import chembldb, datasets\n",
    "from training import trainer\n",
    "from modules import simple_rnn\n",
    "import datetime\n",
    "import plots, utilities\n",
    "from IPython.display import Image, display, Markdown\n",
    "\n",
    "import torch\n"
   ]
  },
  {
   "cell_type": "markdown",
   "id": "08f43a2a",
   "metadata": {},
   "source": [
    "## First we load the SMILES strings representing the molecules in the CHEMBL database."
   ]
  },
  {
   "cell_type": "code",
   "execution_count": null,
   "id": "3f9912d4",
   "metadata": {},
   "outputs": [],
   "source": [
    "# the whole dataset is huge, so we only take every nth SMILES string\n",
    "every_nth = 10\n",
    "chembl_raw = chembldb.ChemblDBChemreps()\n",
    "chembl_smiles = chembl_raw._load_or_download()[\"canonical_smiles\"].to_list()[::every_nth]"
   ]
  },
  {
   "cell_type": "code",
   "execution_count": null,
   "id": "0542c447",
   "metadata": {},
   "outputs": [],
   "source": [
    "# Chembl smiles contains a list of all the SMILES strings in the Chembl database.\n",
    "chembl_smiles[:10]"
   ]
  },
  {
   "cell_type": "code",
   "execution_count": null,
   "id": "5a2d54ff",
   "metadata": {},
   "outputs": [],
   "source": [
    "chembl = datasets.CharacterLevelSMILES(\n",
    "    smiles_list = chembl_smiles,\n",
    "    length = 256, \n",
    "    batch_size = 128\n",
    ")"
   ]
  },
  {
   "cell_type": "markdown",
   "id": "3a15f8de",
   "metadata": {},
   "source": [
    "## Next, lets define a model. We'll be using a character-level LSTM model to predict the next character in a SMILES string based on the previous characters."
   ]
  },
  {
   "cell_type": "code",
   "execution_count": null,
   "id": "82ff81cb",
   "metadata": {},
   "outputs": [],
   "source": [
    "model = simple_rnn.simpleLSTM(\n",
    "    # Mandatory\n",
    "    num_hiddens = 512,\n",
    "    vocab_size = len(chembl.characters),\n",
    "    # tuning\n",
    "    learning_rate = 0.001,\n",
    "    weight_decay = 1e-4,\n",
    "    num_layers = 5,\n",
    "    output_dropout=0.2,\n",
    "    rnn_dropout=0.2,\n",
    ")"
   ]
  },
  {
   "cell_type": "code",
   "execution_count": null,
   "id": "0113bcf4",
   "metadata": {},
   "outputs": [],
   "source": [
    "load_model_path = \"../models/character_level_rnn_generator.pth\"\n",
    "\n",
    "train_new = True  # Set false to load a pre-trained model\n",
    "save_model = True  # If trainign a new model, do we want to save it?\n",
    "\n",
    "if train_new:\n",
    "    model_trainer = trainer.Trainer(max_epochs=16, init_random=None, clip_grads_norm=2.0)\n",
    "    model_trainer.fit(model, chembl)\n",
    "\n",
    "    if save_model:\n",
    "        utilities.save_model_weights(\"Chembl-Mini-\", model, chembl)\n",
    "else: \n",
    "    model.load_weights(\n",
    "        path = load_model_path,\n",
    "    )\n",
    "    device=\"cuda\" if torch.cuda.is_available() else \"cpu\"\n",
    "    model.to(device)"
   ]
  },
  {
   "cell_type": "code",
   "execution_count": null,
   "id": "18444073",
   "metadata": {},
   "outputs": [],
   "source": [
    "losses = utilities.extract_training_losses(\n",
    "    metadata = model_trainer.metadata,\n",
    ")\n",
    "fig, ax = plots.plot_training_validation_loss(\n",
    "    training_losses = losses[\"train_losses\"],\n",
    "    validation_losses = losses[\"val_losses\"],\n",
    ")"
   ]
  },
  {
   "cell_type": "markdown",
   "id": "1a659ea1",
   "metadata": {},
   "source": [
    "## Below, we ask the model to generate 20 totally random molecules, by providing it with an empty seed string."
   ]
  },
  {
   "cell_type": "code",
   "execution_count": null,
   "id": "74af18b3",
   "metadata": {},
   "outputs": [],
   "source": [
    "n_chars = 100\n",
    "\n",
    "n_valid = 0\n",
    "n_invalid = 0\n",
    "images = []\n",
    "for i in range(20):\n",
    "    output = simple_rnn.simple_generate(\" \", n_chars, model, chembl.char_to_idx, chembl.idx_to_char, temperature=0.5, device='cuda')\n",
    "    print(f\"Requested up to {n_chars} characters, got: {len(output)}\")\n",
    "    print(f\"Molecule Canonical SMILES: {output}\")\n",
    "\n",
    "    valid = utilities.validate_smiles_string(output)\n",
    "\n",
    "    if not valid:\n",
    "        n_invalid += 1\n",
    "        print(\"Generated SMILES is not valid.\")\n",
    "    else:\n",
    "        n_valid += 1\n",
    "        print(\"Generated SMILES is valid.\")\n",
    "        images.append(utilities.draw_molecule(output))"
   ]
  },
  {
   "cell_type": "markdown",
   "id": "202dcd85",
   "metadata": {},
   "source": [
    "## Visualising the attemps at generating molecules\n",
    "\n",
    "For such a simple model, the results of this test are rather impressive. The model has learned to generate valid SMILES strings, which correspond to real molecules. In order to do this, the model will have implicitly \"learned\" the correct valences for atoms, common functional groups, and the rules of SMILES syntax, which is not a trivial task.\n",
    "\n",
    "We can see that the model has learned to generate a variety of different molecules, some of which are quite complex. The model is able to generate molecules with rings, branches, and various functional groups, all while adhering to the rules of SMILES syntax. Occasionally included are rarer functional groups which are common in some pharmaceuticals, such as trifluoromethyl groups (CF3).\n",
    "\n",
    "Of course, because SMILES strings are syntactially rigid, often with long-range dependencies, a simple model like this smaller LSTM will sometimes generate molecules which are _almost_ but not quite valid. Models become better at avoiding these syntactic errors with longer training and larger models. \n",
    "\n",
    "Above, we can see that the model has learned to generate valid SMILES strings, but we can also see information on the types of errors the model makes. These fall into two categories, syntactic errors, where the model generates a string which is not valid SMILES, and semantic errors, where the model generates a valid SMILES string but one which does not correspond to a real molecule. \n",
    "\n",
    "Syntactic: e.g. The model has a tendancy to open parentheses but not close them, or opening rings but not specifying where they close.\n",
    "`SMILES Parse Error: extra open parentheses while parsing: CC(=O)N[C@@H](CCCCN)C(=O)N[C@@H](CCCCN)C(=O)N[C@@H](CCCN=C(N)N)C(=O)N[C@@H](CC(C)C)C(=O)N[C@@H](CCCC\n",
    "SMILES Parse Error: check for mistakes around position 96:\n",
    "(CC(C)C)C(=O)N[C@@H](CCCC\n",
    "`\n",
    "\n",
    "Semantic: E.g. Occasionally generating molecules where atoms have incorrect valences (e.g. F with two bonds):\n",
    "`SMILES Parse Error: Failed parsing SMILES ' HC(=O)N[C@H](C(=O)N[C@@H](CCCCN)C(=O)N[C@@H](CCCCN)C(=O)N[C@@H](CCCCN)C(=O)N[C@@H](Cc1ccc(O)cc1)C(=O''\n",
    "Explicit valence for atom # 0 F, 2, is greater than permitted` \n",
    "\n",
    "The model also appears to have a real desire to generate long, saturated hydrocarbon chains. The training data does include some of these, so it's not surprising that the model has learned to generate them. If in doubt, the next character is probably just a saturated carbon atom.\n"
   ]
  },
  {
   "cell_type": "code",
   "execution_count": null,
   "id": "fb91139e",
   "metadata": {},
   "outputs": [],
   "source": [
    "display(Markdown(f\"# Generated {n_valid} valid and {n_invalid} invalid SMILES strings out of 5 attempts.\"))\n",
    "display(Markdown(\"## Generated Molecules\"))\n",
    "for img in images:\n",
    "    display(img)"
   ]
  },
  {
   "cell_type": "markdown",
   "id": "b359bfe1",
   "metadata": {},
   "source": [
    "## Generating random molecules is fun, but a real example of where this sort of model might be useful would be the generation of molecules with specific properties...\n",
    "\n",
    "In other models, we'll work to condition the initial state of the model with a vector of desired properties extracted from CHEMBL, but for now, we could say that we hope to generate _variants_ of an existing molecule, but with random, physically plausible changes to the structure.\n",
    "\n",
    "Lets take caffiene, every scientists favourit, without it no work would get done. It is described by the following SMILES string `CN1C=NC2=C1C(=O)N(C(=O)N2C)C`.\n",
    "\n",
    "We can generate a series of caffiene-like molecules by providing the model with a portion of the caffiene SMILES and asking it to predict the next character in the SMILES string."
   ]
  },
  {
   "cell_type": "code",
   "execution_count": null,
   "id": "6d347bfc",
   "metadata": {},
   "outputs": [],
   "source": [
    "n_chars = 100\n",
    "\n",
    "n_valid = 0\n",
    "n_invalid = 0\n",
    "images = []\n",
    "for i in range(20):\n",
    "    output = simple_rnn.simple_generate(\"CN1C=NC2=C1C(=O)N\", n_chars, model, chembl.char_to_idx, chembl.idx_to_char, temperature=0.8, device='cuda')\n",
    "    print(f\"Requested up to {n_chars} characters, got: {len(output)}\")\n",
    "    print(f\"Molecule Canonical SMILES: {output}\")\n",
    "\n",
    "    valid = utilities.validate_smiles_string(output)\n",
    "\n",
    "    if not valid:\n",
    "        n_invalid += 1\n",
    "        print(\"Generated SMILES is not valid.\")\n",
    "    else:\n",
    "        n_valid += 1\n",
    "        print(\"Generated SMILES is valid.\")\n",
    "        images.append(utilities.draw_molecule(output))"
   ]
  },
  {
   "cell_type": "code",
   "execution_count": null,
   "id": "1e413110",
   "metadata": {},
   "outputs": [],
   "source": [
    "display(Markdown(f\"# Generated {n_valid} valid caffiene-like molecules and {n_invalid} invalid SMILES strings out of 5 attempts.\"))\n",
    "display(Markdown(\"## Generated Molecules\"))\n",
    "for img in images:\n",
    "    display(img)"
   ]
  },
  {
   "cell_type": "code",
   "execution_count": null,
   "id": "f1a3e960",
   "metadata": {},
   "outputs": [],
   "source": []
  }
 ],
 "metadata": {
  "kernelspec": {
   "display_name": "d2l",
   "language": "python",
   "name": "python3"
  },
  "language_info": {
   "codemirror_mode": {
    "name": "ipython",
    "version": 3
   },
   "file_extension": ".py",
   "mimetype": "text/x-python",
   "name": "python",
   "nbconvert_exporter": "python",
   "pygments_lexer": "ipython3",
   "version": "3.9.21"
  }
 },
 "nbformat": 4,
 "nbformat_minor": 5
}
