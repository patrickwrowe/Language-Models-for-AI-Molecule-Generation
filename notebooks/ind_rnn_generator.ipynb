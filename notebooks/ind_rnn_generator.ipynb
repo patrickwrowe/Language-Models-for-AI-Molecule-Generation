{
 "cells": [
  {
   "cell_type": "code",
   "execution_count": null,
   "id": "fb72c710",
   "metadata": {},
   "outputs": [],
   "source": [
    "%load_ext autoreload\n",
    "%autoreload 2"
   ]
  },
  {
   "cell_type": "code",
   "execution_count": null,
   "id": "167d9e13",
   "metadata": {},
   "outputs": [],
   "source": [
    "import sys\n",
    "\n",
    "sys.path.append(\"../\")\n",
    "\n",
    "import sys\n",
    "import torch\n",
    "from data import datasets\n",
    "from training import trainer\n",
    "from modules import ind_generator\n",
    "\n",
    "import datetime\n",
    "import plots, utilities\n",
    "from IPython.display import Image, display, Markdown\n",
    "import pandas as pd\n",
    "import matplotlib.pyplot as plt\n",
    "import numpy as np\n",
    "\n",
    "from rdkit import Chem\n",
    "from rdkit.Chem import Draw"
   ]
  },
  {
   "cell_type": "code",
   "execution_count": null,
   "id": "09f4a0b5",
   "metadata": {},
   "outputs": [],
   "source": [
    "dataset = datasets.CharSMILESChEMBLIndications(\n",
    "    batch_size=128\n",
    ")"
   ]
  },
  {
   "cell_type": "markdown",
   "id": "a12d8d5b",
   "metadata": {},
   "source": [
    "## What are some of the most common indications in our dataset"
   ]
  },
  {
   "cell_type": "code",
   "execution_count": null,
   "id": "c8134b5c",
   "metadata": {},
   "outputs": [],
   "source": [
    "most_frequent_indications = dataset.all_data.drop(columns=[\"canonical_smiles\"]).sum(axis=0).sort_values(ascending=False)\n",
    "most_frequent_indications_names = most_frequent_indications.index.to_list()\n",
    "fig, ax = plt.subplots(ncols=1, nrows=1, figsize=(20, 5))\n",
    "ax.bar(np.arange(len(most_frequent_indications)), most_frequent_indications.to_numpy())\n",
    "ax.set_xticks(np.arange(len(most_frequent_indications)))\n",
    "labels = ax.set_xticklabels([heading.replace(\"mesh_heading_\", \"\") for heading in most_frequent_indications.index], rotation=90)\n",
    "ax.set_yscale(\"log\")"
   ]
  },
  {
   "cell_type": "markdown",
   "id": "b1490600",
   "metadata": {},
   "source": [
    "## What do the molecules look like for our most common indication?"
   ]
  },
  {
   "cell_type": "code",
   "execution_count": null,
   "id": "c07f5a2b",
   "metadata": {},
   "outputs": [],
   "source": [
    "for indications_filter_index in range(10):\n",
    "    # indications_filter_index = 1\n",
    "    indications_filter_name = most_frequent_indications.index[indications_filter_index]\n",
    "    filtered_molecules = dataset.all_data.filter(items=[\"canonical_smiles\", indications_filter_name])\n",
    "    filtered_molecules = filtered_molecules[filtered_molecules[indications_filter_name]].drop(columns=[indications_filter_name])\n",
    "    filtered_molecules = filtered_molecules.rename(columns={\"canonical_smiles\": indications_filter_name})\n",
    "\n",
    "    rows, cols = 3, 3\n",
    "\n",
    "    mols = []\n",
    "    names = []\n",
    "    for i, smiles in enumerate(filtered_molecules[indications_filter_name][:rows * cols]):\n",
    "        mols.append(Chem.MolFromSmiles(smiles))\n",
    "        names.append(str(i + 1))\n",
    "\n",
    "    mols = [[mols[i + j] for i in range(rows)] for j in range(0, cols * rows, rows)]\n",
    "    names = [[names[i + j] for i in range(rows)] for j in range(0, cols * rows, rows)]\n",
    "\n",
    "    display(Markdown(f\"## {rows * cols} example chemical structures for {indications_filter_name}\"))\n",
    "    display(Draw.MolsMatrixToGridImage(mols, legendsMatrix=names))"
   ]
  },
  {
   "cell_type": "markdown",
   "id": "8b7694b6",
   "metadata": {},
   "source": [
    "# Model training"
   ]
  },
  {
   "cell_type": "code",
   "execution_count": null,
   "id": "4634e75a",
   "metadata": {},
   "outputs": [],
   "source": [
    "model = ind_generator.SmilesIndGeneratorRNN(\n",
    "    vocab_size = dataset.vocab_size,\n",
    "    num_indications = dataset.num_indications,\n",
    "    num_hiddens = 256,\n",
    "    num_layers = 5,\n",
    "    learning_rate = 1e-3,\n",
    "    weight_decay = 1e-5,\n",
    "    output_dropout = 0.4,\n",
    "    rnn_dropout = 0.4,\n",
    "    state_dropout = 0.4\n",
    ")"
   ]
  },
  {
   "cell_type": "code",
   "execution_count": null,
   "id": "34229f8e",
   "metadata": {},
   "outputs": [],
   "source": [
    "\n",
    "load_model_path = \"../models/Chembl-Ind-SmilesIndGeneratorRNN-CharSMILESChEMBLIndications-2025-07-30-17-50-04.pt\"\n",
    "\n",
    "train_new = False  # Set false to load a pre-trained model\n",
    "save_model = True  # If trainign a new model, do we want to save it?\n",
    "\n",
    "if train_new:\n",
    "    model_trainer = trainer.Trainer(max_epochs=128, init_random=None, clip_grads_norm=10.0)\n",
    "    model_trainer.fit(model, dataset)\n",
    "\n",
    "    if save_model:\n",
    "        utilities.save_model_weights(\"Chembl-Ind-\", model, dataset)\n",
    "else: \n",
    "    model.load_weights(\n",
    "        path = load_model_path,\n",
    "    )\n",
    "    device=\"cuda\" if torch.cuda.is_available() else \"cpu\"\n",
    "    model.to(device)"
   ]
  },
  {
   "cell_type": "code",
   "execution_count": null,
   "id": "c9497031",
   "metadata": {},
   "outputs": [],
   "source": [
    "if train_new:\n",
    "    losses = utilities.extract_training_losses(model_trainer.metadata)\n",
    "    fig, ax = plots.plot_training_validation_loss(\n",
    "        training_losses = losses['avg_train_losses'], \n",
    "        validation_losses = losses['avg_val_losses']\n",
    "    )\n",
    "    ax.set_yscale('log')"
   ]
  },
  {
   "cell_type": "code",
   "execution_count": null,
   "id": "62b16482",
   "metadata": {},
   "outputs": [],
   "source": [
    "\n",
    "test_batch = dataset[20]\n",
    "\n",
    "output, _ = model(test_batch[0].unsqueeze(0).to(device=\"cuda\"), test_batch[1].unsqueeze(0).to(device=\"cuda\"))\n",
    "\n",
    "print(f\"(Seq Len, vocab size): {test_batch[0].shape}, (Indications): {test_batch[1].shape}, (Seq Len): {test_batch[2].shape}\")\n",
    "print(f\"Input SMILES: {''.join([dataset.idx_to_char[c] for c in test_batch[2].cpu().numpy()])}\")\n",
    "print(f\"Prediction: {''.join([dataset.idx_to_char[c] for c in output.argmax(dim=-1).squeeze().cpu().numpy()])}\")"
   ]
  },
  {
   "cell_type": "markdown",
   "id": "1f4a6230",
   "metadata": {},
   "source": [
    "# Lets generate some  Medications"
   ]
  },
  {
   "cell_type": "code",
   "execution_count": null,
   "id": "d51b6f0a",
   "metadata": {},
   "outputs": [],
   "source": [
    "rows, cols = 3, 3\n",
    "\n",
    "n_chars = 100\n",
    "\n",
    "n_valid = 0\n",
    "n_invalid = 0\n",
    "images = []\n",
    "outputs = []\n",
    "\n",
    "# Get the indices for the (rows * cols) most common drug indications\n",
    "mesh_indices = [dataset.indications_names.index(indication_name) for indication_name in most_frequent_indications_names[:rows * cols]]\n",
    "\n",
    "# We don't always get valid output, so we use a robust generation procedure to allow us to make a few\n",
    "# Attempts at getting a valid output\n",
    "max_attempts = 5\n",
    "for idx in mesh_indices:\n",
    "\n",
    "    output = ind_generator.robust_generate(\n",
    "        ind_generator.simple_generate,\n",
    "        max_attempts=max_attempts,\n",
    "        prefix=\"\",\n",
    "        indications_tensor = dataset.get_indications_tensor(dataset.indications_names[idx]).to(\"cuda\"),\n",
    "        num_chars=500,\n",
    "        model=model,\n",
    "        char_to_idx_mapping=dataset.char_to_idx,\n",
    "        idx_to_char_mapping=dataset.idx_to_char,\n",
    "        temperature=0.7,\n",
    "        device=\"cuda\"\n",
    "\n",
    "    )\n",
    "\n",
    "    # Throw a warning if this exact output is in the training set\n",
    "    if output in dataset.all_data[\"canonical_smiles\"].tolist():\n",
    "        print(\"\\n WARNING: Exact output found in training, overfitting? \\n\")\n",
    "\n",
    "    if output:\n",
    "        outputs.append(output)\n",
    "        n_valid += 1\n",
    "    if not output:\n",
    "        n_invalid += 1\n",
    "        print(\"Generated SMILES is not valid.\")\n",
    "        outputs.append(None)"
   ]
  },
  {
   "cell_type": "code",
   "execution_count": null,
   "id": "973cb154",
   "metadata": {},
   "outputs": [],
   "source": [
    "mols = []\n",
    "names = []\n",
    "for i, smiles in enumerate(outputs):\n",
    "    mols.append(Chem.MolFromSmiles(smiles))\n",
    "    names.append(dataset.indications_names[mesh_indices[i]].replace(\"mesh_heading_\", \"\"))\n",
    "\n",
    "mols = [[mols[i + j] for i in range(rows)] for j in range(0, cols * rows, rows)]\n",
    "names = [[names[i + j] for i in range(rows)] for j in range(0, cols * rows, rows)]\n",
    "\n",
    "display(Draw.MolsMatrixToGridImage(mols, legendsMatrix=names))"
   ]
  },
  {
   "cell_type": "markdown",
   "id": "acf8ea1b",
   "metadata": {},
   "source": [
    "## Sanity check... \"mesh heading other\" should generate essentially random molecules"
   ]
  },
  {
   "cell_type": "code",
   "execution_count": null,
   "id": "226d393f",
   "metadata": {},
   "outputs": [],
   "source": [
    "rows, cols = 3, 3\n",
    "\n",
    "n_chars = 100\n",
    "\n",
    "n_valid = 0\n",
    "n_invalid = 0\n",
    "images = []\n",
    "outputs = []\n",
    "\n",
    "# Get the indices for the (rows * cols) \"other\" category\n",
    "mesh_indices = [dataset.indications_names.index(most_frequent_indications_names[4])] * 9\n",
    "\n",
    "# We don't always get valid output, so we use a robust generation procedure to allow us to make a few\n",
    "# Attempts at getting a valid output\n",
    "max_attempts = 5\n",
    "for idx in mesh_indices:\n",
    "\n",
    "    output = ind_generator.robust_generate(\n",
    "        ind_generator.simple_generate,\n",
    "        max_attempts=max_attempts,\n",
    "        prefix=\"\",\n",
    "        indications_tensor = dataset.get_indications_tensor(dataset.indications_names[idx]).to(model_trainer.device),\n",
    "        num_chars=500,\n",
    "        model=model,\n",
    "        char_to_idx_mapping=dataset.char_to_idx,\n",
    "        idx_to_char_mapping=dataset.idx_to_char,\n",
    "        temperature=0.7,\n",
    "        device=model_trainer.device\n",
    "    )\n",
    "\n",
    "    # Throw a warning if this exact output is in the training set\n",
    "    if output in dataset.all_data[\"canonical_smiles\"].tolist():\n",
    "        print(\"\\n WARNING: Exact output found in training, overfitting? \\n\")\n",
    "\n",
    "    if output:\n",
    "        outputs.append(output)\n",
    "        n_valid += 1\n",
    "    if not output:\n",
    "        n_invalid += 1\n",
    "        print(\"Generated SMILES is not valid.\")\n",
    "        outputs.append(None)"
   ]
  },
  {
   "cell_type": "code",
   "execution_count": null,
   "id": "14f91c17",
   "metadata": {},
   "outputs": [],
   "source": [
    "mols = []\n",
    "names = []\n",
    "for i, smiles in enumerate(outputs):\n",
    "    mols.append(Chem.MolFromSmiles(smiles))\n",
    "    names.append(dataset.indications_names[mesh_indices[i]].replace(\"mesh_heading_\", \"\"))\n",
    "\n",
    "mols = [[mols[i + j] for i in range(rows)] for j in range(0, cols * rows, rows)]\n",
    "names = [[names[i + j] for i in range(rows)] for j in range(0, cols * rows, rows)]\n",
    "\n",
    "display(Draw.MolsMatrixToGridImage(mols, legendsMatrix=names))"
   ]
  },
  {
   "cell_type": "code",
   "execution_count": null,
   "id": "38566278",
   "metadata": {},
   "outputs": [],
   "source": [
    "rows, cols = 3, 3\n",
    "\n",
    "n_chars = 100\n",
    "\n",
    "n_valid = 0\n",
    "n_invalid = 0\n",
    "images = []\n",
    "outputs = []\n",
    "\n",
    "# Get the indices for the (rows * cols) \"other\" category\n",
    "mesh_indices = [dataset.indications_names.index(most_frequent_indications_names[7])] * 9\n",
    "\n",
    "# We don't always get valid output, so we use a robust generation procedure to allow us to make a few\n",
    "# Attempts at getting a valid output\n",
    "max_attempts = 5\n",
    "for idx in mesh_indices:\n",
    "\n",
    "    output = ind_generator.robust_generate(\n",
    "        ind_generator.simple_generate,\n",
    "        max_attempts=max_attempts,\n",
    "        prefix=\"N[C@H]\",\n",
    "        indications_tensor = dataset.get_indications_tensor(dataset.indications_names[idx]).to(model_trainer.device),\n",
    "        num_chars=500,\n",
    "        model=model,\n",
    "        char_to_idx_mapping=dataset.char_to_idx,\n",
    "        idx_to_char_mapping=dataset.idx_to_char,\n",
    "        temperature=0.7,\n",
    "        device=model_trainer.device\n",
    "    )\n",
    "\n",
    "    # Throw a warning if this exact output is in the training set\n",
    "    if output in dataset.all_data[\"canonical_smiles\"].tolist():\n",
    "        print(\"\\n WARNING: Exact output found in training, overfitting? \\n\")\n",
    "\n",
    "    if output:\n",
    "        outputs.append(output)\n",
    "        n_valid += 1\n",
    "    if not output:\n",
    "        n_invalid += 1\n",
    "        print(\"Generated SMILES is not valid.\")\n",
    "        outputs.append(None)"
   ]
  },
  {
   "cell_type": "code",
   "execution_count": null,
   "id": "044da097",
   "metadata": {},
   "outputs": [],
   "source": [
    "mols = []\n",
    "names = []\n",
    "for i, smiles in enumerate(outputs):\n",
    "    mols.append(Chem.MolFromSmiles(smiles))\n",
    "    names.append(dataset.indications_names[mesh_indices[i]].replace(\"mesh_heading_\", \"\"))\n",
    "\n",
    "mols = [[mols[i + j] for i in range(rows)] for j in range(0, cols * rows, rows)]\n",
    "names = [[names[i + j] for i in range(rows)] for j in range(0, cols * rows, rows)]\n",
    "\n",
    "display(Draw.MolsMatrixToGridImage(mols, legendsMatrix=names))"
   ]
  },
  {
   "cell_type": "code",
   "execution_count": null,
   "id": "70bce0ce",
   "metadata": {},
   "outputs": [],
   "source": [
    "# # Fun outputs:\n",
    "\n",
    "#  'C(C)OCC(=O)OCC(=O)O[C@]1(OC(=O)CC)[C@@H](C)C[C@H]2[C@@H]3CCC4=CC(=O)C=C[C@]4(C)[C@@]3(F)[C@@H](O)C[C@@]21C',\n",
    "#  'C(=O)O[C@H]1C(=O)[C@@]2(C)[C@H]([C@H](OC(=O)c3ccccc3)[C@]3(O)C[C@H](OC(=O)[C@H](O)[C@@H](NC(=O)c4ccccc4)c4ccccc4)C(C)=C1C3(C)C)[C@]1(OC(C)=O)CO[C@@H]1C[C@@H]2O',\n",
    "#  'N[C@H](CC(C)C)C(=O)N[C@H]1C(=O)N[C@@H](CC(N)=O)C(=O)N[C@H]2C(=O)N[C@H]3C(=O)N[C@H](C(=O)N[C@H](C(=O)O)c4cc(O)cc(O)c4-c4cc3ccc4O)[C@H](O)c3ccc(c(Cl)c3)Oc3cc2cc(c3O[C@@H]2O[C@H](CO)[C@@H](O)[C@H](O)[C@H]2O[C@H]2C[C@](C)(N)[C@H](O)[C@H](C)O2)Oc2ccc(cc2Cl)[C@H]1O',\n",
    "#  'C(C)(C)NC(=O)[C@H]1CC[C@H]2[C@@H]3CCC4=CC(=O)CC[C@]4(C)[C@H]3C(=O)C[C@@]21C',\n",
    "#  'N(C)[C@@H]1C(O)=C(C(N)=O)C(=O)[C@@]2(O)C(O)=C3C(=O)c4c(O)cccc4[C@@](C)(O)[C@H]3C[C@@H]12',\n",
    "#  'C(C)C[C@H](NC(=O)[C@@H](Cc1c[nH]c2ccccc12)NC(=O)[C@H](Cc1c[nH]cn1)NC(=O)[C@@H]1CCC(=O)N1)C(=O)N[C@@H](CCCNC(=N)N)C(=O)N1CCC[C@H]1C(=O)NNC(N)=O',\n",
    "#  '[C@@H]1C[C@H]2[C@@H]3CCC4=CC(=O)C=C[C@]4(C)[C@@]3(F)[C@@H](O)C[C@]2(C)[C@@]1(O)C(=O)COP(=O)([O-])[O-].[Na+].[Na+]',\n",
    "#  'CCC(CCC)C(=O)O',\n",
    "#  'C(=O)O[C@@]12CO[C@@H]1C[C@H](O)[C@@]1(C)C(=O)[C@H](O)C3=C(C)[C@@H](OC(=O)[C@H](O)[C@@H](NC(=O)OC(C)(C)C)c4ccccc4)C[C@@](O)([C@@H](OC(=O)c4ccccc4)[C@H]21)C3(C)C.O.O.O'"
   ]
  },
  {
   "cell_type": "code",
   "execution_count": null,
   "id": "d28fd1cb",
   "metadata": {},
   "outputs": [],
   "source": []
  },
  {
   "cell_type": "code",
   "execution_count": null,
   "id": "19873af6",
   "metadata": {},
   "outputs": [],
   "source": [
    "mol = Chem.MolFromSmiles('N[C@H](CC(C)C)C(=O)N[C@H]1C(=O)N[C@@H](CC(N)=O)C(=O)N[C@H]2C(=O)N[C@H]3C(=O)N[C@H](C(=O)N[C@H](C(=O)O)c4cc(O)cc(O)c4-c4cc3ccc4O)[C@H](O)c3ccc(c(Cl)c3)Oc3cc2cc(c3O[C@@H]2O[C@H](CO)[C@@H](O)[C@H](O)[C@H]2O[C@H]2C[C@](C)(N)[C@H](O)[C@H](C)O2)Oc2ccc(cc2Cl)[C@H]1O')\n",
    "mol = Chem.AddHs(mol)"
   ]
  },
  {
   "cell_type": "code",
   "execution_count": null,
   "id": "529755ae",
   "metadata": {},
   "outputs": [],
   "source": [
    "from rdkit.Chem import AllChem\n",
    "import py3Dmol\n",
    "\n",
    "AllChem.Compute2DCoords(mol)\n",
    "params = AllChem.ETKDGv3()\n",
    "params.randomSeed = 0xf00d\n",
    "AllChem.EmbedMolecule(mol, params)\n",
    "AllChem.MMFFOptimizeMolecule(mol)"
   ]
  },
  {
   "cell_type": "code",
   "execution_count": null,
   "id": "945492ec",
   "metadata": {},
   "outputs": [],
   "source": [
    "view = py3Dmol.view(\n",
    "    data=Chem.MolToMolBlock(mol),  # Convert the RDKit molecule for py3Dmol\n",
    "    style={\"stick\": {}, \"sphere\": {\"scale\": 0.3}}\n",
    ")\n",
    "view.zoomTo()\n"
   ]
  },
  {
   "cell_type": "code",
   "execution_count": null,
   "id": "440033de",
   "metadata": {},
   "outputs": [],
   "source": []
  }
 ],
 "metadata": {
  "kernelspec": {
   "display_name": "d2l",
   "language": "python",
   "name": "python3"
  },
  "language_info": {
   "codemirror_mode": {
    "name": "ipython",
    "version": 3
   },
   "file_extension": ".py",
   "mimetype": "text/x-python",
   "name": "python",
   "nbconvert_exporter": "python",
   "pygments_lexer": "ipython3",
   "version": "3.9.21"
  }
 },
 "nbformat": 4,
 "nbformat_minor": 5
}
